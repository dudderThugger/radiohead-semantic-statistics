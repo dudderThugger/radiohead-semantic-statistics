{
 "cells": [
  {
   "cell_type": "code",
   "execution_count": 1,
   "metadata": {},
   "outputs": [
    {
     "name": "stderr",
     "output_type": "stream",
     "text": [
      "[nltk_data] Downloading package punkt_tab to\n",
      "[nltk_data]     /Users/aszelestey/nltk_data...\n",
      "[nltk_data]   Unzipping tokenizers/punkt_tab.zip.\n",
      "[nltk_data] Downloading package stopwords to\n",
      "[nltk_data]     /Users/aszelestey/nltk_data...\n",
      "[nltk_data]   Unzipping corpora/stopwords.zip.\n",
      "[nltk_data] Downloading package punkt to\n",
      "[nltk_data]     /Users/aszelestey/nltk_data...\n",
      "[nltk_data]   Unzipping tokenizers/punkt.zip.\n",
      "[nltk_data] Downloading package averaged_perceptron_tagger_eng to\n",
      "[nltk_data]     /Users/aszelestey/nltk_data...\n",
      "[nltk_data]   Unzipping taggers/averaged_perceptron_tagger_eng.zip.\n"
     ]
    },
    {
     "data": {
      "text/plain": [
       "False"
      ]
     },
     "execution_count": 1,
     "metadata": {},
     "output_type": "execute_result"
    }
   ],
   "source": [
    "from pathlib import Path\n",
    "import pandas as pd\n",
    "import nltk\n",
    "import math\n",
    "import numpy as np\n",
    "from nltk.tokenize import word_tokenize\n",
    "from nltk import pos_tag\n",
    "from collections import Counter\n",
    "import re\n",
    "from dotenv import load_dotenv\n",
    "from gensim.models import KeyedVectors\n",
    "import plotly.graph_objects as go\n",
    "import plotly.express as px\n",
    "nltk.download('punkt_tab')\n",
    "nltk.download('stopwords')\n",
    "nltk.download('punkt')\n",
    "nltk.download('averaged_perceptron_tagger_eng')\n",
    "load_dotenv()"
   ]
  },
  {
   "cell_type": "markdown",
   "metadata": {},
   "source": [
    "# Textual description of the dataset and its characteristics"
   ]
  },
  {
   "cell_type": "markdown",
   "metadata": {},
   "source": [
    "I used a dataset (https://www.kaggle.com/datasets/lavagod/radiohead?select=radiohead.csv) containing the lyrics of the songs of the band Radiohead to analyze the semantic meaning of the songs from the perspective of data science. My key interest is to find correlations between the song lyrics and the song albums features.\n",
    "The dataset contains the following features for each song:\n",
    "- valence: The valence score of the song (from 0 to 1 how positive or negative the song is)\n",
    "- duration_ms: The duration of the song in mili-seconds\n",
    "- lyrics: The lyrics of the song\n",
    "- album_name: The name of the album the song belongs to\n",
    "- album_release_year: The year the album was released\n",
    "- album_img: The image url of the album cover\n",
    "- pct_sad: Gloom index of the song\n",
    "- word_count: The number of words in the lyrics\n",
    "- lyrical_density: Lyric Density is about how close together or far apart the words are over a given tempo. (? source: https://gypsy-folklores.tripod.com/id29.html)\n",
    "\n",
    "I want to find correlations between the lyrics words' frequencies, distributions and embeddings so I also need to preprocess the lyrics and create a new dataframe with the lyrics words' frequencies, distributions and embeddings. For that I will first tokenize the lyrics.\n"
   ]
  },
  {
   "cell_type": "markdown",
   "metadata": {},
   "source": [
    "# Reading dataset and creating a dataframe with the tokenized lyrics\n"
   ]
  },
  {
   "cell_type": "code",
   "execution_count": 2,
   "metadata": {},
   "outputs": [
    {
     "data": {
      "text/html": [
       "<div>\n",
       "<style scoped>\n",
       "    .dataframe tbody tr th:only-of-type {\n",
       "        vertical-align: middle;\n",
       "    }\n",
       "\n",
       "    .dataframe tbody tr th {\n",
       "        vertical-align: top;\n",
       "    }\n",
       "\n",
       "    .dataframe thead th {\n",
       "        text-align: right;\n",
       "    }\n",
       "</style>\n",
       "<table border=\"1\" class=\"dataframe\">\n",
       "  <thead>\n",
       "    <tr style=\"text-align: right;\">\n",
       "      <th></th>\n",
       "      <th>track_name</th>\n",
       "      <th>valence</th>\n",
       "      <th>duration_ms</th>\n",
       "      <th>lyrics</th>\n",
       "      <th>album_name</th>\n",
       "      <th>album_release_year</th>\n",
       "      <th>album_img</th>\n",
       "      <th>pct_sad</th>\n",
       "      <th>word_count</th>\n",
       "      <th>lyrical_density</th>\n",
       "      <th>gloom_index</th>\n",
       "    </tr>\n",
       "  </thead>\n",
       "  <tbody>\n",
       "    <tr>\n",
       "      <th>0</th>\n",
       "      <td>You</td>\n",
       "      <td>0.305</td>\n",
       "      <td>208667</td>\n",
       "      <td>you are the sun and moon and stars are you and...</td>\n",
       "      <td>Pablo Honey</td>\n",
       "      <td>1993</td>\n",
       "      <td>https://i.scdn.co/image/e17011b2aa33289dfa6c08...</td>\n",
       "      <td>0.0000</td>\n",
       "      <td>19</td>\n",
       "      <td>0.091054</td>\n",
       "      <td>50.39</td>\n",
       "    </tr>\n",
       "    <tr>\n",
       "      <th>1</th>\n",
       "      <td>Creep</td>\n",
       "      <td>0.096</td>\n",
       "      <td>238640</td>\n",
       "      <td>when you were here before couldn't look you in...</td>\n",
       "      <td>Pablo Honey</td>\n",
       "      <td>1993</td>\n",
       "      <td>https://i.scdn.co/image/e17011b2aa33289dfa6c08...</td>\n",
       "      <td>0.0784</td>\n",
       "      <td>51</td>\n",
       "      <td>0.213711</td>\n",
       "      <td>22.60</td>\n",
       "    </tr>\n",
       "  </tbody>\n",
       "</table>\n",
       "</div>"
      ],
      "text/plain": [
       "  track_name  valence  duration_ms  \\\n",
       "0        You    0.305       208667   \n",
       "1      Creep    0.096       238640   \n",
       "\n",
       "                                              lyrics   album_name  \\\n",
       "0  you are the sun and moon and stars are you and...  Pablo Honey   \n",
       "1  when you were here before couldn't look you in...  Pablo Honey   \n",
       "\n",
       "   album_release_year                                          album_img  \\\n",
       "0                1993  https://i.scdn.co/image/e17011b2aa33289dfa6c08...   \n",
       "1                1993  https://i.scdn.co/image/e17011b2aa33289dfa6c08...   \n",
       "\n",
       "   pct_sad  word_count  lyrical_density  gloom_index  \n",
       "0   0.0000          19         0.091054        50.39  \n",
       "1   0.0784          51         0.213711        22.60  "
      ]
     },
     "execution_count": 2,
     "metadata": {},
     "output_type": "execute_result"
    }
   ],
   "source": [
    "df = pd.read_csv(Path('data/radiohead.csv'), encoding='latin1')\n",
    "df.head(2)"
   ]
  },
  {
   "cell_type": "code",
   "execution_count": 3,
   "metadata": {},
   "outputs": [
    {
     "data": {
      "text/plain": [
       "track_name             object\n",
       "valence               float64\n",
       "duration_ms             int64\n",
       "lyrics                 object\n",
       "album_name             object\n",
       "album_release_year      int64\n",
       "album_img              object\n",
       "pct_sad               float64\n",
       "word_count              int64\n",
       "lyrical_density       float64\n",
       "gloom_index           float64\n",
       "dtype: object"
      ]
     },
     "execution_count": 3,
     "metadata": {},
     "output_type": "execute_result"
    }
   ],
   "source": [
    "df.dtypes"
   ]
  },
  {
   "cell_type": "code",
   "execution_count": 4,
   "metadata": {},
   "outputs": [
    {
     "data": {
      "text/plain": [
       "(101, 11)"
      ]
     },
     "execution_count": 4,
     "metadata": {},
     "output_type": "execute_result"
    }
   ],
   "source": [
    "df.shape\n"
   ]
  },
  {
   "cell_type": "code",
   "execution_count": 5,
   "metadata": {},
   "outputs": [
    {
     "data": {
      "text/html": [
       "<div>\n",
       "<style scoped>\n",
       "    .dataframe tbody tr th:only-of-type {\n",
       "        vertical-align: middle;\n",
       "    }\n",
       "\n",
       "    .dataframe tbody tr th {\n",
       "        vertical-align: top;\n",
       "    }\n",
       "\n",
       "    .dataframe thead th {\n",
       "        text-align: right;\n",
       "    }\n",
       "</style>\n",
       "<table border=\"1\" class=\"dataframe\">\n",
       "  <thead>\n",
       "    <tr style=\"text-align: right;\">\n",
       "      <th></th>\n",
       "      <th>track_name</th>\n",
       "      <th>valence</th>\n",
       "      <th>duration_ms</th>\n",
       "      <th>lyrics</th>\n",
       "      <th>album_name</th>\n",
       "      <th>album_release_year</th>\n",
       "      <th>album_img</th>\n",
       "      <th>pct_sad</th>\n",
       "      <th>word_count</th>\n",
       "      <th>lyrical_density</th>\n",
       "      <th>gloom_index</th>\n",
       "    </tr>\n",
       "  </thead>\n",
       "  <tbody>\n",
       "  </tbody>\n",
       "</table>\n",
       "</div>"
      ],
      "text/plain": [
       "Empty DataFrame\n",
       "Columns: [track_name, valence, duration_ms, lyrics, album_name, album_release_year, album_img, pct_sad, word_count, lyrical_density, gloom_index]\n",
       "Index: []"
      ]
     },
     "execution_count": 5,
     "metadata": {},
     "output_type": "execute_result"
    }
   ],
   "source": [
    "df[df.duplicated()]\n"
   ]
  },
  {
   "cell_type": "code",
   "execution_count": 6,
   "metadata": {},
   "outputs": [
    {
     "data": {
      "text/plain": [
       "track_name            101\n",
       "valence               101\n",
       "duration_ms           101\n",
       "lyrics                 98\n",
       "album_name            101\n",
       "album_release_year    101\n",
       "album_img             101\n",
       "pct_sad               101\n",
       "word_count            101\n",
       "lyrical_density       101\n",
       "gloom_index           101\n",
       "dtype: int64"
      ]
     },
     "execution_count": 6,
     "metadata": {},
     "output_type": "execute_result"
    }
   ],
   "source": [
    "df.count() "
   ]
  },
  {
   "cell_type": "code",
   "execution_count": 7,
   "metadata": {},
   "outputs": [
    {
     "data": {
      "text/plain": [
       "(98, 11)"
      ]
     },
     "execution_count": 7,
     "metadata": {},
     "output_type": "execute_result"
    }
   ],
   "source": [
    "# we have 3 words with no lyrics, this make them unusable for the analysis so I will drop them\n",
    "df_lyrics = df.dropna()\n",
    "df_lyrics.shape\n"
   ]
  },
  {
   "cell_type": "markdown",
   "metadata": {},
   "source": [
    "# Tokenizing the lyrics\n"
   ]
  },
  {
   "cell_type": "markdown",
   "metadata": {},
   "source": [
    "Tokenizing the lyrics and removing stop words"
   ]
  },
  {
   "cell_type": "code",
   "execution_count": 8,
   "metadata": {},
   "outputs": [
    {
     "data": {
      "text/plain": [
       "['could',\n",
       " 'look',\n",
       " 'eye',\n",
       " 'like',\n",
       " 'angel',\n",
       " 'skin',\n",
       " 'makes',\n",
       " 'cry',\n",
       " 'float',\n",
       " 'like',\n",
       " 'feather',\n",
       " 'beautiful',\n",
       " 'world',\n",
       " 'chorus',\n",
       " 'wish',\n",
       " 'special',\n",
       " 'fuckin',\n",
       " 'special',\n",
       " 'creep',\n",
       " 'weirdo',\n",
       " 'hell',\n",
       " 'belong',\n",
       " 'care',\n",
       " 'hurts',\n",
       " 'want',\n",
       " 'control',\n",
       " 'want',\n",
       " 'perfect',\n",
       " 'body',\n",
       " 'want',\n",
       " 'perfect',\n",
       " 'soul',\n",
       " 'want',\n",
       " 'notice',\n",
       " 'around',\n",
       " 'chorus',\n",
       " 'fuckin',\n",
       " 'special',\n",
       " 'wish',\n",
       " 'special',\n",
       " 'creep',\n",
       " 'weirdo',\n",
       " 'hell',\n",
       " 'belong',\n",
       " 'running',\n",
       " 'running',\n",
       " 'run',\n",
       " 'run',\n",
       " 'run',\n",
       " 'run',\n",
       " 'whatever',\n",
       " 'makes',\n",
       " 'happy',\n",
       " 'whatever',\n",
       " 'want',\n",
       " 'fuckin',\n",
       " 'special',\n",
       " 'wish',\n",
       " 'special',\n",
       " 'creep',\n",
       " 'weirdo',\n",
       " 'hell',\n",
       " 'belong',\n",
       " 'belong']"
      ]
     },
     "execution_count": 8,
     "metadata": {},
     "output_type": "execute_result"
    }
   ],
   "source": [
    "# Removing whitespace\n",
    "ws_removed = [re.sub(r'\\s+', ' ', lyric) for lyric in list(df_lyrics['lyrics'])]\n",
    "\n",
    "# Tokenizing\n",
    "tokens = [word_tokenize(lyric) for lyric in ws_removed]\n",
    "\n",
    "# Stopword removal\n",
    "stopwords = nltk.corpus.stopwords.words('english')\n",
    "tokens_no_sw = [[word for word in lyric if word not in stopwords] for lyric in tokens]\n",
    "\n",
    "# Filtering out words with special characters\n",
    "tokens_cleaned = [[word for word in lyric if re.match(r'^[a-zA-Z]+$', word)] for lyric in tokens_no_sw]\n",
    "\n",
    "tokens_cleaned[1][:]\n"
   ]
  },
  {
   "cell_type": "markdown",
   "metadata": {},
   "source": [
    "I want to reduce the number of irrelevant tokens in the manner of stastistics to the minimal number, but don't want to lose too much information, because I want to predict song based on their word choices I can exclude words that hold low information in the context of the whole corpus. For that goal I will use the TF-IDF weight metric, which is a popular method that orders a score to each word of a document based on the following metric:\n",
    "\n",
    "$$\n",
    "\n",
    "\\text{TF-IDF}(t, d) = \\text{TF}(t, d) \\times \\text{IDF}(t)\n",
    "\\\\[0.5cm]\n",
    "\\\\\n",
    "\\text{TF}(t, d) = \\frac{\\text{Number of times term } t \\text{ appears in document } d}{\\text{Total number of terms in document } d}\n",
    "\\\\[0.5cm]\n",
    "\\\\\n",
    "\\text{IDF}(t) = \\log \\left( \\frac{N}{1 + \\text{DF}(t)} \\right)\n",
    "\\\\[0.5cm]\n",
    "\\\\\n",
    "\\text{DF}(t) = \\text{Number of documents containing the term } t\n",
    "\\\\[0.5cm]\n",
    "\\\\\n",
    "where:\n",
    "\\begin{align*}\n",
    "t & \\text{ is the term,} \\\\\n",
    "d & \\text{ is the document, and} \\\\\n",
    "N & \\text{ is the total number of documents.}\n",
    "\\end{align*}\n",
    "$$\n",
    "\n",
    "In summary this score orders low numbers to words that are not so frequent in the document, but frequent in the whole corpus."
   ]
  },
  {
   "cell_type": "code",
   "execution_count": 9,
   "metadata": {},
   "outputs": [
    {
     "name": "stdout",
     "output_type": "stream",
     "text": [
      "[('everyone', 1.1621183966674873), ('judge', 1.111948656603036), ('slow', 1.0378187461628336), ('arms', 1.0369269700521038), ('ripcord', 1.0152574690723373), ('haunt', 0.943471587420758), ('prove', 0.9369197013970026), ('case', 0.8816070595408526), ('bulletproof', 0.736290326669578), ('hurt', 0.7269711630797003)]\n",
      "[('singing', 0.020152342138742556), ('walking', 0.017199592868418913), ('could', 0.016833484343408627), ('help', 0.016145711037239982), ('gon', 0.015511150396256746), ('oh', 0.014894048431791287), ('always', 0.013192961766916337), ('never', 0.012423788188754297), ('let', 0.012423788188754297), ('na', 0.012423788188754297)]\n"
     ]
    }
   ],
   "source": [
    "# Calculate TF-IDF scores\n",
    "# This helps identify words that are particularly significant to specific documents rather than just commonly occurring words in general.\n",
    "num_docs = len(tokens_cleaned)\n",
    "tfidf_scores = {}\n",
    "words = {word for doc in tokens_cleaned for word in doc}\n",
    "\n",
    "# Calculate document frequency (number of documents containing the word)\n",
    "doc_freq = {word: sum(1 for doc in tokens_cleaned if word in doc) for word in words}\n",
    "\n",
    "for doc in tokens_cleaned:\n",
    "    word_counts = Counter(doc)\n",
    "    # Calculate term frequency (number of times the word appears in the document)\n",
    "    tf = {word: word_counts[word] / len(doc) for word in word_counts}\n",
    "    # Calculate inverse document frequency (log of total docs / doc frequency)\n",
    "    idf = {word: math.log(num_docs / (1 + doc_freq[word])) for word in tf}\n",
    "    # TF-IDF = term frequency * inverse document frequency\n",
    "    tfidf = {word: tf[word] * idf[word] for word in tf}\n",
    "    tfidf_scores.update(tfidf)\n",
    "\n",
    "# Convert dictionary to list of tuples and sort\n",
    "sorted_tfidf = sorted(tfidf_scores.items(), key=lambda x: x[1], reverse=True)\n",
    "\n",
    "# 10 words with the highest and lowest TF-IDF scores\n",
    "print(sorted_tfidf[:10])\n",
    "print(sorted_tfidf[-10:])"
   ]
  },
  {
   "cell_type": "code",
   "execution_count": 10,
   "metadata": {},
   "outputs": [
    {
     "name": "stdout",
     "output_type": "stream",
     "text": [
      "Irrelevant tokens for song You\n",
      "{'try', 'see', 'things', 'could', 'aaaaaaaaah', 'never'}\n",
      "Relevant tokens:\n",
      "{'world', 'end', 'ha', 'sun', 'believe', 'soon', 'going', 'everything', 'hooooooo', 'caught', 'moon', 'away', 'working', 'run', 'stars', 'like', 'fire', 'drowning', 'chaotic'} \n",
      "\n",
      "Irrelevant tokens for song Creep\n",
      "{'chorus', 'could'}\n",
      "Relevant tokens:\n",
      "{'fuckin', 'hurts', 'cry', 'feather', 'world', 'creep', 'body', 'special', 'perfect', 'around', 'belong', 'angel', 'running', 'hell', 'makes', 'soul', 'weirdo', 'want', 'look', 'beautiful', 'happy', 'run', 'notice', 'skin', 'control', 'float', 'wish', 'like', 'eye', 'whatever', 'care'} \n",
      "\n",
      "Irrelevant tokens for song How Do You?\n",
      "{'friends', 'always'}\n",
      "Relevant tokens:\n",
      "{'respect', 'dangerous', 'powerful', 'twisted', 'freak', 'bitter', 'bigot', 'belong', 'anyway', 'weep', 'knows', 'forget', 'mother', 'steals', 'loved', 'us', 'baby', 'listen', 'stupid', 'turned', 'cheats', 'like', 'lives', 'show', 'daddy', 'wants', 'bullies'} \n",
      "\n",
      "Irrelevant tokens for song Stop Whispering\n",
      "{'nothing', 'face', 'let'}\n",
      "Relevant tokens:\n",
      "{'shouting', 'said', 'find', 'wrong', 'ca', 'wo', 'cursing', 'start', 'voice', 'songs', 'thin', 'feeling', 'man', 'matter', 'anyway', 'dear', 'spit', 'whispering', 'something', 'mother', 'words', 'complaint', 'want', 'hear', 'buildings', 'son', 'remember', 'sir', 'say', 'stop', 'wise'} \n",
      "\n",
      "Irrelevant tokens for song Thinking About You\n",
      "{'wall', 'see', 'things', 'friends', 'teeth', 'chorus', 'never'}\n",
      "Relevant tokens:\n",
      "{'eyes', 'better', 'know', 'sleep', 'feet', 'break', 'playing', 'still', 'men', 'bought', 'please', 'bed', 'star', 'bribed', 'bleed', 'far', 'love', 'paid', 'kiss', 'thinking', 'got', 'honey', 'bled', 'records', 'rest', 'cigarettes', 'people', 'one', 'instrumental', 'need', 'care', 'come', 'company'} \n",
      "\n"
     ]
    }
   ],
   "source": [
    "# Set TF-IDF threshold, I chose to filter out words with TF-IDF score lower than mean * 0.3\n",
    "tfidf_threshold = np.mean(list(tfidf_scores.values())) * 0.3\n",
    "\n",
    "# Filter out low information words based on TF-IDF scores\n",
    "tokens_relevant = [{word for word in doc if tfidf_scores[word] > tfidf_threshold} for doc in tokens_cleaned]\n",
    "tokens_irrelevant = [{word for word in doc if tfidf_scores[word] <= tfidf_threshold} for doc in tokens_cleaned]\n",
    "\n",
    "for i, song_tokens in enumerate(tokens_irrelevant[:5]):\n",
    "    print(f\"Irrelevant tokens for song {df_lyrics.loc[i, 'track_name']}\")\n",
    "    print(tokens_irrelevant[i])\n",
    "    print(f\"Relevant tokens:\")\n",
    "    print(tokens_relevant[i], '\\n')"
   ]
  },
  {
   "cell_type": "code",
   "execution_count": 11,
   "metadata": {},
   "outputs": [
    {
     "data": {
      "text/html": [
       "<div>\n",
       "<style scoped>\n",
       "    .dataframe tbody tr th:only-of-type {\n",
       "        vertical-align: middle;\n",
       "    }\n",
       "\n",
       "    .dataframe tbody tr th {\n",
       "        vertical-align: top;\n",
       "    }\n",
       "\n",
       "    .dataframe thead th {\n",
       "        text-align: right;\n",
       "    }\n",
       "</style>\n",
       "<table border=\"1\" class=\"dataframe\">\n",
       "  <thead>\n",
       "    <tr style=\"text-align: right;\">\n",
       "      <th></th>\n",
       "      <th>track_name</th>\n",
       "      <th>valence</th>\n",
       "      <th>duration_ms</th>\n",
       "      <th>lyrics</th>\n",
       "      <th>album_name</th>\n",
       "      <th>album_release_year</th>\n",
       "      <th>album_img</th>\n",
       "      <th>pct_sad</th>\n",
       "      <th>word_count</th>\n",
       "      <th>lyrical_density</th>\n",
       "      <th>gloom_index</th>\n",
       "      <th>tokens</th>\n",
       "    </tr>\n",
       "  </thead>\n",
       "  <tbody>\n",
       "    <tr>\n",
       "      <th>0</th>\n",
       "      <td>You</td>\n",
       "      <td>0.305</td>\n",
       "      <td>208667</td>\n",
       "      <td>you are the sun and moon and stars are you and...</td>\n",
       "      <td>Pablo Honey</td>\n",
       "      <td>1993</td>\n",
       "      <td>https://i.scdn.co/image/e17011b2aa33289dfa6c08...</td>\n",
       "      <td>0.0</td>\n",
       "      <td>19</td>\n",
       "      <td>0.091054</td>\n",
       "      <td>50.39</td>\n",
       "      <td>[you, are, the, sun, and, moon, and, stars, ar...</td>\n",
       "    </tr>\n",
       "  </tbody>\n",
       "</table>\n",
       "</div>"
      ],
      "text/plain": [
       "  track_name  valence  duration_ms  \\\n",
       "0        You    0.305       208667   \n",
       "\n",
       "                                              lyrics   album_name  \\\n",
       "0  you are the sun and moon and stars are you and...  Pablo Honey   \n",
       "\n",
       "   album_release_year                                          album_img  \\\n",
       "0                1993  https://i.scdn.co/image/e17011b2aa33289dfa6c08...   \n",
       "\n",
       "   pct_sad  word_count  lyrical_density  gloom_index  \\\n",
       "0      0.0          19         0.091054        50.39   \n",
       "\n",
       "                                              tokens  \n",
       "0  [you, are, the, sun, and, moon, and, stars, ar...  "
      ]
     },
     "execution_count": 11,
     "metadata": {},
     "output_type": "execute_result"
    }
   ],
   "source": [
    "df_w_tokens = df_lyrics.copy()\n",
    "df_w_tokens['tokens'] = tokens\n",
    "df_w_tokens.head(1)"
   ]
  },
  {
   "cell_type": "code",
   "execution_count": 12,
   "metadata": {},
   "outputs": [],
   "source": [
    "# Store modified DataFrame\n",
    "with open(Path('data/radiohead_extended.csv'), 'wb') as f:\n",
    "    df_w_tokens.to_csv(f)"
   ]
  },
  {
   "cell_type": "markdown",
   "metadata": {},
   "source": [
    "# Counting words based on their part of speech, and calculating distribution"
   ]
  },
  {
   "cell_type": "markdown",
   "metadata": {},
   "source": [
    "I had thought about, what might be relevant aspects to analyze for my purpose before analyzing its embeddings and I though it could be interesting to check the distribution of parts of speech. My theory is that some albums might have more dynamic lyrics tehrefore contain more verbs and some might be more sentimental and might contain more adverbs.\n",
    "\n",
    "For this goal I use a the pos_tag function from nltk which classifies tokens"
   ]
  },
  {
   "cell_type": "code",
   "execution_count": 12,
   "metadata": {},
   "outputs": [
    {
     "data": {
      "text/html": [
       "<div>\n",
       "<style scoped>\n",
       "    .dataframe tbody tr th:only-of-type {\n",
       "        vertical-align: middle;\n",
       "    }\n",
       "\n",
       "    .dataframe tbody tr th {\n",
       "        vertical-align: top;\n",
       "    }\n",
       "\n",
       "    .dataframe thead th {\n",
       "        text-align: right;\n",
       "    }\n",
       "</style>\n",
       "<table border=\"1\" class=\"dataframe\">\n",
       "  <thead>\n",
       "    <tr style=\"text-align: right;\">\n",
       "      <th></th>\n",
       "      <th>track_name</th>\n",
       "      <th>valence</th>\n",
       "      <th>duration_ms</th>\n",
       "      <th>lyrics</th>\n",
       "      <th>album_name</th>\n",
       "      <th>album_release_year</th>\n",
       "      <th>album_img</th>\n",
       "      <th>pct_sad</th>\n",
       "      <th>word_count</th>\n",
       "      <th>lyrical_density</th>\n",
       "      <th>gloom_index</th>\n",
       "      <th>tokens</th>\n",
       "      <th>noun_freq</th>\n",
       "      <th>verb_freq</th>\n",
       "      <th>adverb_freq</th>\n",
       "    </tr>\n",
       "  </thead>\n",
       "  <tbody>\n",
       "    <tr>\n",
       "      <th>0</th>\n",
       "      <td>You</td>\n",
       "      <td>0.305</td>\n",
       "      <td>208667</td>\n",
       "      <td>you are the sun and moon and stars are you and...</td>\n",
       "      <td>Pablo Honey</td>\n",
       "      <td>1993</td>\n",
       "      <td>https://i.scdn.co/image/e17011b2aa33289dfa6c08...</td>\n",
       "      <td>0.0000</td>\n",
       "      <td>19</td>\n",
       "      <td>0.091054</td>\n",
       "      <td>50.39</td>\n",
       "      <td>[you, are, the, sun, and, moon, and, stars, ar...</td>\n",
       "      <td>0.390805</td>\n",
       "      <td>0.459770</td>\n",
       "      <td>0.137931</td>\n",
       "    </tr>\n",
       "    <tr>\n",
       "      <th>1</th>\n",
       "      <td>Creep</td>\n",
       "      <td>0.096</td>\n",
       "      <td>238640</td>\n",
       "      <td>when you were here before couldn't look you in...</td>\n",
       "      <td>Pablo Honey</td>\n",
       "      <td>1993</td>\n",
       "      <td>https://i.scdn.co/image/e17011b2aa33289dfa6c08...</td>\n",
       "      <td>0.0784</td>\n",
       "      <td>51</td>\n",
       "      <td>0.213711</td>\n",
       "      <td>22.60</td>\n",
       "      <td>[when, you, were, here, before, could, n't, lo...</td>\n",
       "      <td>0.356021</td>\n",
       "      <td>0.534031</td>\n",
       "      <td>0.523560</td>\n",
       "    </tr>\n",
       "    <tr>\n",
       "      <th>2</th>\n",
       "      <td>How Do You?</td>\n",
       "      <td>0.264</td>\n",
       "      <td>132173</td>\n",
       "      <td>he's bitter and twisted he knows what he wants...</td>\n",
       "      <td>Pablo Honey</td>\n",
       "      <td>1993</td>\n",
       "      <td>https://i.scdn.co/image/e17011b2aa33289dfa6c08...</td>\n",
       "      <td>0.0952</td>\n",
       "      <td>21</td>\n",
       "      <td>0.158883</td>\n",
       "      <td>36.56</td>\n",
       "      <td>[he, 's, bitter, and, twisted, he, knows, what...</td>\n",
       "      <td>0.115385</td>\n",
       "      <td>0.576923</td>\n",
       "      <td>0.134615</td>\n",
       "    </tr>\n",
       "    <tr>\n",
       "      <th>3</th>\n",
       "      <td>Stop Whispering</td>\n",
       "      <td>0.279</td>\n",
       "      <td>325627</td>\n",
       "      <td>and the wise man said i don't want to hear you...</td>\n",
       "      <td>Pablo Honey</td>\n",
       "      <td>1993</td>\n",
       "      <td>https://i.scdn.co/image/e17011b2aa33289dfa6c08...</td>\n",
       "      <td>0.0435</td>\n",
       "      <td>46</td>\n",
       "      <td>0.141266</td>\n",
       "      <td>43.48</td>\n",
       "      <td>[and, the, wise, man, said, i, do, n't, want, ...</td>\n",
       "      <td>0.368794</td>\n",
       "      <td>0.624113</td>\n",
       "      <td>0.312057</td>\n",
       "    </tr>\n",
       "    <tr>\n",
       "      <th>4</th>\n",
       "      <td>Thinking About You</td>\n",
       "      <td>0.419</td>\n",
       "      <td>161533</td>\n",
       "      <td>been thinking about you your records are here ...</td>\n",
       "      <td>Pablo Honey</td>\n",
       "      <td>1993</td>\n",
       "      <td>https://i.scdn.co/image/e17011b2aa33289dfa6c08...</td>\n",
       "      <td>0.0000</td>\n",
       "      <td>39</td>\n",
       "      <td>0.241437</td>\n",
       "      <td>60.80</td>\n",
       "      <td>[been, thinking, about, you, your, records, ar...</td>\n",
       "      <td>0.251208</td>\n",
       "      <td>0.608696</td>\n",
       "      <td>0.241546</td>\n",
       "    </tr>\n",
       "  </tbody>\n",
       "</table>\n",
       "</div>"
      ],
      "text/plain": [
       "           track_name  valence  duration_ms  \\\n",
       "0                 You    0.305       208667   \n",
       "1               Creep    0.096       238640   \n",
       "2         How Do You?    0.264       132173   \n",
       "3     Stop Whispering    0.279       325627   \n",
       "4  Thinking About You    0.419       161533   \n",
       "\n",
       "                                              lyrics   album_name  \\\n",
       "0  you are the sun and moon and stars are you and...  Pablo Honey   \n",
       "1  when you were here before couldn't look you in...  Pablo Honey   \n",
       "2  he's bitter and twisted he knows what he wants...  Pablo Honey   \n",
       "3  and the wise man said i don't want to hear you...  Pablo Honey   \n",
       "4  been thinking about you your records are here ...  Pablo Honey   \n",
       "\n",
       "   album_release_year                                          album_img  \\\n",
       "0                1993  https://i.scdn.co/image/e17011b2aa33289dfa6c08...   \n",
       "1                1993  https://i.scdn.co/image/e17011b2aa33289dfa6c08...   \n",
       "2                1993  https://i.scdn.co/image/e17011b2aa33289dfa6c08...   \n",
       "3                1993  https://i.scdn.co/image/e17011b2aa33289dfa6c08...   \n",
       "4                1993  https://i.scdn.co/image/e17011b2aa33289dfa6c08...   \n",
       "\n",
       "   pct_sad  word_count  lyrical_density  gloom_index  \\\n",
       "0   0.0000          19         0.091054        50.39   \n",
       "1   0.0784          51         0.213711        22.60   \n",
       "2   0.0952          21         0.158883        36.56   \n",
       "3   0.0435          46         0.141266        43.48   \n",
       "4   0.0000          39         0.241437        60.80   \n",
       "\n",
       "                                              tokens  noun_freq  verb_freq  \\\n",
       "0  [you, are, the, sun, and, moon, and, stars, ar...   0.390805   0.459770   \n",
       "1  [when, you, were, here, before, could, n't, lo...   0.356021   0.534031   \n",
       "2  [he, 's, bitter, and, twisted, he, knows, what...   0.115385   0.576923   \n",
       "3  [and, the, wise, man, said, i, do, n't, want, ...   0.368794   0.624113   \n",
       "4  [been, thinking, about, you, your, records, ar...   0.251208   0.608696   \n",
       "\n",
       "   adverb_freq  \n",
       "0     0.137931  \n",
       "1     0.523560  \n",
       "2     0.134615  \n",
       "3     0.312057  \n",
       "4     0.241546  "
      ]
     },
     "execution_count": 12,
     "metadata": {},
     "output_type": "execute_result"
    }
   ],
   "source": [
    "noun_freqs = []\n",
    "verb_freqs = []\n",
    "adv_freqs = []\n",
    "\n",
    "for i, song in enumerate(df_w_tokens['tokens']):\n",
    "    categorizations = pd.DataFrame(pos_tag(song), columns=['word', 'pos'])\n",
    "    count = len(categorizations)\n",
    "    noun_freqs.append(categorizations[categorizations['pos'].str.startswith('NN')].size / count)\n",
    "    verb_freqs.append(categorizations[categorizations['pos'].str.startswith('VB')].size / count)\n",
    "    adv_freqs.append(categorizations[(categorizations['pos'].str.startswith('JJ')) |\n",
    "                                     (categorizations['pos'].str.startswith('RB'))].size / count)\n",
    "    \n",
    "df_w_tokens['noun_freq'] = noun_freqs\n",
    "df_w_tokens['verb_freq'] = verb_freqs\n",
    "df_w_tokens['adverb_freq'] = adv_freqs\n",
    "\n",
    "df_w_tokens.head()"
   ]
  },
  {
   "cell_type": "markdown",
   "metadata": {},
   "source": [
    "# Read embeddings of tokens for later analysis"
   ]
  },
  {
   "cell_type": "markdown",
   "metadata": {},
   "source": [
    "I want to analise the word choices of the songs based on their semantic meaning and turn them into more interpretable data. For that I will turn the tokens into embeddings and reduce their dimensionality. These steps might not be the most rational and efficient way of classifying songs and are more of a experimantational approach.\n",
    "\n",
    "For the embeddings I will use the  model, which is not considered a state-of-the-art embedding model but is a light-weight and efficient one which is easy to use and does the job."
   ]
  },
  {
   "cell_type": "code",
   "execution_count": 13,
   "metadata": {},
   "outputs": [
    {
     "ename": "TypeError",
     "evalue": "unhashable type: 'list'",
     "output_type": "error",
     "traceback": [
      "\u001b[0;31m---------------------------------------------------------------------------\u001b[0m",
      "\u001b[0;31mTypeError\u001b[0m                                 Traceback (most recent call last)",
      "Cell \u001b[0;32mIn[13], line 1\u001b[0m\n\u001b[0;32m----> 1\u001b[0m all_token \u001b[38;5;241m=\u001b[39m \u001b[43m{\u001b[49m\u001b[43mtoken\u001b[49m\u001b[43m \u001b[49m\u001b[38;5;28;43;01mfor\u001b[39;49;00m\u001b[43m \u001b[49m\u001b[43mtoken\u001b[49m\u001b[43m \u001b[49m\u001b[38;5;129;43;01min\u001b[39;49;00m\u001b[43m \u001b[49m\u001b[43mtokens_cleaned\u001b[49m\u001b[43m}\u001b[49m\n",
      "Cell \u001b[0;32mIn[13], line 1\u001b[0m, in \u001b[0;36m<setcomp>\u001b[0;34m(.0)\u001b[0m\n\u001b[0;32m----> 1\u001b[0m all_token \u001b[38;5;241m=\u001b[39m {token \u001b[38;5;28;01mfor\u001b[39;00m token \u001b[38;5;129;01min\u001b[39;00m tokens_cleaned}\n",
      "\u001b[0;31mTypeError\u001b[0m: unhashable type: 'list'"
     ]
    }
   ],
   "source": [
    "all_token = {token for tokes in tokens_cleaned for token in tokens}"
   ]
  },
  {
   "cell_type": "code",
   "execution_count": 140,
   "metadata": {},
   "outputs": [],
   "source": [
    "# You don't have to execute this section I will include the calculated embeddings in a seperate file\n",
    "if Path('data/GoogleNews-vectors-negative300.bin.gz') is None:\n",
    "    pretrained_model_path = Path('data/GoogleNews-vectors-negative300.bin.gz') \n",
    "    word_vectors = KeyedVectors.load_word2vec_format(pretrained_model_path, binary=True)\n"
   ]
  },
  {
   "cell_type": "code",
   "execution_count": 141,
   "metadata": {},
   "outputs": [
    {
     "data": {
      "text/plain": [
       "(300,)"
      ]
     },
     "execution_count": 141,
     "metadata": {},
     "output_type": "execute_result"
    }
   ],
   "source": [
    "# We have vectors with dimensionality of 300\n",
    "word_vectors.loc['angle'].shape"
   ]
  },
  {
   "cell_type": "code",
   "execution_count": 142,
   "metadata": {},
   "outputs": [],
   "source": [
    "vector_store = { word: word_vectors[word] for word in words if word in word_vectors}"
   ]
  },
  {
   "cell_type": "code",
   "execution_count": 145,
   "metadata": {},
   "outputs": [
    {
     "name": "stdout",
     "output_type": "stream",
     "text": [
      "1782\n",
      "0\n",
      "{'shreds', 'driven', 'air', 'weird', 'groove', 'reaction', 'serve', 'gone', 'informed', 'airbag', 'lundy', 'prods', 'coming', 'million', 'wrote', 'dealers', 'old', 'nerve', 'lotus', 'burns', 'cameras', 'pulse', 'sleeping', 'honey', 'another', 'hell', 'roll', 'pour', 'better', 'perfect', 'dare', 'belong', 'pie', 'knifes', 'parade', 'breaks', 'papering', 'spirit', 'bigot', 'first', 'fallen', 'clear', 'pigskin', 'oooooh', 'dream', 'holes', 'sent', 'escape', 'anymore', 'pitiful', 'might', 'protect', 'stole', 'empty', 'dinosaurs', 'idiot', 'hypocrite', 'liked', 'opinion', 'god', 'heavy', 'snakes', 'cynical', 'idea', 'float', 'calls', 'understand', 'cigarettes', 'earth', 'miles', 'favours', 'sticks', 'lie', 'jump', 'think', 'sir', 'want', 'rudders', 'rise', 'hair', 'messing', 'invisible', 'trust', 'long', 'soup', 'dragging', 'anyone', 'gale', 'fear', 'mouth', 'food', 'earnest', 'seal', 'believe', 'flirt', 'rows', 'ray', 'breathe', 'came', 'breeze', 'start', 'late', 'packed', 'mankind', 'breath', 'buried', 'waters', 'takes', 'core', 'man', 'bank', 'promised', 'bridge', 'swat', 'dark', 'real', 'background', 'footsteps', 'left', 'machine', 'probably', 'trouble', 'tape', 'vice', 'dreamers', 'spells', 'painkillers', 'resist', 'emptiest', 'ducks', 'business', 'road', 'frequently', 'guitar', 'strain', 'landing', 'stuffed', 'understanding', 'true', 'fire', 'wish', 'cause', 'german', 'trained', 'eye', 'bubbles', 'bother', 'fucker', 'doors', 'high', 'vegetable', 'caught', 'heaven', 'grass', 'fours', 'even', 'times', 'devon', 'drop', 'turned', 'train', 'blurring', 'leaving', 'rubber', 'course', 'strike', 'working', 'starting', 'fast', 'three', 'shrink', 'plates', 'piss', 'fuckin', 'name', 'funny', 'distractors', 'pieces', 'passing', 'chew', 'watching', 'barn', 'shout', 'angle', 'shell', 'hairdo', 'attics', 'empire', 'holiday', 'arrest', 'saying', 'anyway', 'completely', 'fused', 'wings', 'fo', 'hey', 'glued', 'height', 'already', 'lemon', 'goodbye', 'naked', 'loose', 'cook', 'cars', 'drive', 'songs', 'fires', 'drops', 'shoulder', 'lung', 'feel', 'feeds', 'movies', 'twisted', 'toe', 'brain', 'done', 'steals', 'behave', 'rely', 'blues', 'heels', 'song', 'floor', 'prayers', 'memory', 'bruises', 'heal', 'tumbling', 'bleed', 'fed', 'spit', 'rats', 'scatterbrain', 'ship', 'hysterical', 'kitten', 'attention', 'edited', 'bellyache', 'got', 'give', 'blow', 'okay', 'dancing', 'evidence', 'wolf', 'beaten', 'hearts', 'longer', 'dominoes', 'grab', 'orders', 'drinks', 'surround', 'lake', 'face', 'fracturing', 'beings', 'yesterday', 'stirring', 'moving', 'empowered', 'yuppies', 'clever', 'everywhere', 'supermarket', 'weapon', 'goods', 'making', 'ride', 'sulk', 'likes', 'voltage', 'deepest', 'learn', 'past', 'butterflies', 'best', 'mother', 'allowed', 'gets', 'killing', 'brother', 'stop', 'power', 'steps', 'tease', 'thumb', 'band', 'mountain', 'bush', 'wide', 'destiny', 'forever', 'friend', 'c', 'spring', 'much', 'sixties', 'problem', 'squash', 'moonbeams', 'london', 'authority', 'sick', 'warnings', 'juices', 'burned', 'blunt', 'declare', 'spacecraft', 'bells', 'scared', 'state', 'nailed', 'matter', 'types', 'half', 'liffey', 'two', 'ragdoll', 'feed', 'light', 'universe', 'doubt', 'come', 'numbers', 'nice', 'mark', 'wound', 'unfurl', 'lane', 'saturated', 'root', 'rocks', 'makes', 'else', 'jack', 'misguided', 'luck', 'focus', 'sunday', 'windowsill', 'dust', 'bouncing', 'create', 'respect', 'covers', 'breakfast', 'rainbows', 'board', 'hole', 'stepford', 'collapse', 'meaning', 'always', 'concrete', 'constructive', 'climbing', 'circuit', 'window', 'way', 'dear', 'swept', 'knees', 'doorway', 'mr', 'boiling', 'blooms', 'sign', 'darling', 'grey', 'hail', 'hit', 'moment', 'beyond', 'sun', 'buy', 'damage', 'talk', 'pain', 'interlude', 'bend', 'box', 'lollipops', 'dead', 'undone', 'took', 'drip', 'maybe', 'saw', 'silent', 'f', 'doctor', 'bone', 'heart', 'read', 'sweets', 'afraid', 'satellite', 'mean', 'rules', 'gucci', 'gun', 'papers', 'tiptoe', 'stay', 'astral', 'say', 'marionette', 'force', 'explain', 'fantasize', 'tonight', 'soul', 'peter', 'gown', 'letting', 'mongrel', 'plant', 'cuckoo', 'eggs', 'spiders', 'runs', 'hot', 'credit', 'stick', 'wool', 'roaming', 'phantom', 'asphyxiate', 'sweetest', 'others', 'per', 'buzzing', 'shape', 'minute', 'next', 'touch', 'world', 'th', 'salt', 'heads', 'poison', 'sailed', 'goals', 'reckoner', 'sawn', 'new', 'number', 'bribed', 'target', 'fill', 'range', 'ever', 'turning', 'salivating', 'easy', 'mould', 'imitation', 'stars', 'survived', 'creatures', 'cries', 'devil', 'act', 'special', 'wax', 'bearing', 'point', 'change', 'owl', 'sussed', 'circumference', 'powercut', 'teetering', 'payload', 'upon', 'belisha', 'mission', 'head', 'flying', 'penny', 'class', 'many', 'channels', 'disaster', 'infinitum', 'chicken', 'aaaaaaaaah', 'sleight', 'years', 'days', 'rest', 'eyes', 'pavement', 'talks', 'smile', 'fifteen', 'pool', 'pragmatism', 'plans', 'scream', 'eaten', 'list', 'lock', 'unhappy', 'begging', 'harm', 'quiet', 'magpie', 'future', 'gloaming', 'swollen', 'motorcycle', 'release', 'pitch', 'twitch', 'beach', 'dog', 'alone', 'cupboard', 'bug', 'thin', 'houses', 'communicate', 'chimeras', 'mice', 'watering', 'caps', 'childish', 'paint', 'space', 'thoughts', 'king', 'shoot', 'roman', 'lines', 'loneliest', 'pills', 'niece', 'eager', 'president', 'spoke', 'hitler', 'wishing', 'blind', 'strapped', 'slipped', 'charity', 'ambition', 'dressed', 'spinning', 'fought', 'feeling', 'beady', 'buggers', 'lost', 'muddy', 'mirror', 'everybody', 'lay', 'washing', 'miss', 'talking', 'surprises', 'holds', 'says', 'nightmare', 'stab', 'beautiful', 'teeth', 'singing', 'hurt', 'showers', 'women', 'phone', 'furniture', 'seems', 'trying', 'afford', 'trapped', 'us', 'paid', 'sometimes', 'crumbles', 'sing', 'mercy', 'ravine', 'videotape', 'babe', 'fond', 'economics', 'ones', 'calculated', 'laid', 'shadows', 'loonies', 'sandbag', 'ah', 'heard', 'gunge', 'words', 'legs', 'screwed', 'standing', 'backdrifters', 'must', 'right', 'fresh', 'destroyed', 'children', 'taking', 'life', 'pence', 'waiting', 'trails', 'swoop', 'last', 'daughter', 'throw', 'highness', 'regular', 'domestic', 'everyone', 'week', 'hours', 'seen', 'anytime', 'message', 'ants', 'enough', 'blocking', 'loves', 'dirty', 'cents', 'taste', 'stuff', 'beneath', 'sitting', 'teach', 'blue', 'dread', 'detuned', 'car', 'ill', 'chinese', 'slide', 'landscape', 'flowers', 'complain', 'ignore', 'juggernaut', 'giant', 'gnihtyreve', 'fuse', 'twentieth', 'fantasy', 'pounds', 'weirdo', 'party', 'five', 'tinderbox', 'every', 'great', 'doin', 'faith', 'swallow', 'kids', 'kidding', 'pan', 'jaws', 'bags', 'question', 'one', 'return', 'shooting', 'gym', 'bones', 'siren', 'safer', 'middle', 'job', 'futures', 'uptight', 'losing', 'turns', 'gates', 'habit', 'rapping', 'cheap', 'tells', 'bed', 'moths', 'chorus', 'could', 'rushing', 'godrich', 'fool', 'pass', 'shit', 'black', 'chill', 'falling', 'flowing', 'hears', 'tired', 'bends', 'wise', 'riot', 'begin', 'opportunist', 'local', 'cheering', 'noise', 'colours', 'millions', 'fishes', 'market', 'happened', 'kick', 'final', 'pack', 'sundays', 'universal', 'games', 'et', 'bowl', 'remarks', 'buzzes', 'lies', 'takin', 'wait', 'april', 'everything', 'tooth', 'comatose', 'lying', 'house', 'happening', 'rag', 'medicine', 'bought', 'keeps', 'ways', 'optimistic', 'secret', 'monoxide', 'weep', 'foul', 'morrison', 'smiling', 'purest', 'wet', 'messengers', 'lawn', 'productive', 'beacon', 'round', 'clue', 'dreams', 'tried', 'work', 'take', 'ass', 'sand', 'backbone', 'meats', 'spineless', 'like', 'running', 'ruin', 'part', 'whose', 'pace', 'ice', 'blood', 'mind', 'touches', 'kills', 'grip', 'meet', 'feels', 'flashed', 'present', 'sliding', 'star', 'boy', 'floating', 'swam', 'surgery', 'tight', 'blown', 'screaming', 'vomit', 'boat', 'kicks', 'complications', 'whatever', 'grow', 'ash', 'tongue', 'oxygen', 'fake', 'chemical', 'mephistopheles', 'saved', 'whys', 'ym', 'dress', 'drunken', 'pull', 'crushed', 'listen', 'waking', 'ton', 'reach', 'center', 'routines', 'gather', 'wisdom', 'steer', 'ten', 'cops', 'flan', 'everyday', 'fish', 'surrogate', 'dangerous', 'receiving', 'shine', 'panes', 'abandon', 'pulling', 'bullies', 'away', 'recognize', 'closed', 'time', 'sinking', 'pick', 'taxman', 'also', 'strung', 'edges', 'leave', 'dressing', 'headshrinkers', 'row', 'wooden', 'tanks', 'creeping', 'crashed', 'plastic', 'em', 'clean', 'careful', 'iron', 'build', 'sending', 'death', 'ha', 'doll', 'sat', 'hurts', 'uh', 'today', 'delicate', 'slip', 'magic', 'ta', 'whispering', 'interstellar', 'fodder', 'sawed', 'realize', 'circle', 'immerse', 'neck', 'nothing', 'feather', 'system', 'jellyfish', 'safe', 'sucking', 'nobody', 'wash', 'baby', 'winter', 'mmmhm', 'bites', 'rain', 'back', 'pinch', 'ticket', 'newfound', 'follow', 'see', 'missing', 'along', 'skwerking', 'poisoned', 'shotgun', 'somersaults', 'knives', 'chance', 'trees', 'wind', 'tie', 'wedding', 'army', 'cracked', 'total', 'circling', 'tables', 'put', 'crying', 'looking', 'january', 'facts', 'rotten', 'fastnet', 'stairs', 'gap', 'electrocute', 'carrying', 'driving', 'lover', 'branch', 'position', 'jigsaw', 'care', 'skull', 'ivy', 'witching', 'found', 'cetera', 'pale', 'produced', 'flyin', 'cracks', 'touched', 'cards', 'crook', 'magazine', 'messed', 'blurted', 'eating', 'maths', 'flies', 'loved', 'toeing', 'dad', 'strange', 'toys', 'scarred', 'nigel', 'set', 'cage', 'strangled', 'china', 'desperate', 'garden', 'hanging', 'attack', 'things', 'candle', 'dragonflies', 'loudest', 'city', 'birds', 'forget', 'born', 'fingers', 'tip', 'shot', 'knows', 'living', 'limb', 'toilet', 'freak', 'pillar', 'lack', 'fruit', 'sparks', 'jim', 'headlines', 'fingernails', 'reason', 'slower', 'vote', 'bell', 'hope', 'bite', 'shove', 'slow', 'music', 'suck', 'day', 'bawl', 'contact', 'wall', 'haunted', 'burning', 'myxomatosis', 'bloated', 'ball', 'speakers', 'backtracking', 'watch', 'die', 'sail', 'crumble', 'bottles', 'kisses', 'sorry', 'cronies', 'walk', 'vivid', 'went', 'ohhhhhhhhhhh', 'shipwreck', 'happier', 'eyed', 'low', 'flag', 'associate', 'salivate', 'smacks', 'getting', 'pray', 'murderers', 'instruments', 'frightening', 'climb', 'sworn', 'confusion', 'cheer', 'underneath', 'moth', 'contemporaries', 'eats', 'gravity', 'rights', 'steal', 'babies', 'firing', 'someone', 'snide', 'drowned', 'separate', 'folks', 'horses', 'mic', 'recognition', 'concerned', 'lions', 'speak', 'reeds', 'scratch', 'white', 'mistake', 'branches', 'spray', 'weakness', 'write', 'wrists', 'hour', 'wo', 'ready', 'bow', 'decide', 'tense', 'glorious', 'stuck', 'slave', 'pearly', 'darkest', 'men', 'inside', 'waves', 'far', 'alarm', 'raised', 'wives', 'child', 'girl', 'freaking', 'squeeze', 'veins', 'unborn', 'elephant', 'mistresses', 'something', 'useless', 'edge', 'fats', 'slack', 'tiny', 'outro', 'finally', 'skinned', 'scaremongering', 'deep', 'break', 'ease', 'aeroplane', 'ghost', 'spirits', 'politics', 'drill', 'word', 'crush', 'bitter', 'exercise', 'wins', 'prove', 'eternal', 'animals', 'lid', 'sex', 'wants', 'dumb', 'melody', 'gesture', 'woman', 'antibiotics', 'beg', 'na', 'sleep', 'illness', 'cotton', 'jumps', 'wander', 'turn', 'bled', 'sit', 'rid', 'tied', 'belly', 'happen', 'avoid', 'monster', 'young', 'sixpence', 'disappears', 'stupid', 'motorways', 'blows', 'river', 'door', 'girlfriend', 'chimney', 'sky', 'spot', 'catch', 'dreamer', 'spell', 'sigh', 'thief', 'wrong', 'hide', 'crisps', 'keep', 'triplicate', 'st', 'darkness', 'bulletproof', 'pillow', 'pocket', 'would', 'arms', 'spin', 'pops', 'whole', 'eat', 'human', 'spiral', 'bittersweet', 'notes', 'weary', 'said', 'hooked', 'school', 'ooooohh', 'really', 'cow', 'drivel', 'aircrash', 'outside', 'broke', 'try', 'clothes', 'public', 'reaching', 'roam', 'possible', 'sympathy', 'alive', 'son', 'suckered', 'x', 'voice', 'ripcord', 'comfortable', 'tasting', 'angels', 'sensible', 'souls', 'find', 'investments', 'plughole', 'superhero', 'boys', 'fight', 'bending', 'go', 'drinking', 'fall', 'forgetting', 'judge', 'phantoms', 'secrets', 'bottom', 'drift', 'angel', 'wanted', 'frozen', 'paying', 'bury', 'flip', 'lives', 'instrumental', 'inevitable', 'erased', 'straight', 'table', 'forwards', 'turtle', 'support', 'touching', 'society', 'soft', 'putting', 'cracker', 'feelings', 'cat', 'lonely', 'land', 'strip', 'cut', 'body', 'thinking', 'moral', 'infect', 'orbit', 'warm', 'infinities', 'wears', 'karma', 'drown', 'feet', 'woke', 'live', 'war', 'radio', 'near', 'grin', 'nervous', 'sharks', 'peace', 'nasty', 'split', 'witch', 'hook', 'bump', 'impossible', 'electioneering', 'landfill', 'frantic', 'beat', 'blackbird', 'fruits', 'lynching', 'bird', 'roof', 'complaint', 'backwards', 'ansaphone', 'swamp', 'hungry', 'ceiling', 'johnny', 'neat', 'age', 'gon', 'fucked', 'full', 'twice', 'phew', 'well', 'answer', 'broken', 'switching', 'records', 'case', 'moves', 'make', 'telling', 'bitch', 'thought', 'cursing', 'deaf', 'tapes', 'tires', 'crazy', 'moon', 'leads', 'need', 'intention', 'gallows', 'sight', 'dance', 'comes', 'paranoia', 'heat', 'reflection', 'path', 'everlasting', 'never', 'ripples', 'calm', 'key', 'free', 'hold', 'fireworks', 'crashing', 'pig', 'breaker', 'powerless', 'laugh', 'play', 'dedicated', 'obligations', 'hum', 'picture', 'dropped', 'love', 'radiohead', 'spikes', 'guess', 'goes', 'powerful', 'denial', 'fade', 'oh', 'aliens', 'weapons', 'country', 'waterfall', 'bunker', 'ideas', 'royal', 'totally', 'hammerheaded', 'sold', 'wondering', 'noises', 'nowhere', 'husband', 'comet', 'sides', 'sleepy', 'changed', 'vain', 'big', 'anything', 'touchall', 'duplicate', 'sentimental', 'cloud', 'park', 'gutted', 'tears', 'birth', 'night', 'somewhere', 'may', 'drag', 'saliva', 'pane', 'control', 'ability', 'sad', 'exactly', 'voodoo', 'healthier', 'jukebox', 'vultures', 'beams', 'playing', 'stand', 'shred', 'race', 'get', 'wine', 'beliefs', 'reel', 'lovers', 'dinners', 'let', 'water', 'happy', 'smashed', 'gave', 'grateful', 'town', 'listening', 'strobe', 'sheer', 'remember', 'soon', 'less', 'teenage', 'holy', 'battery', 'worms', 'uncle', 'scrolling', 'ventriloquists', 'walking', 'jackknifed', 'shut', 'brought', 'promise', 'ladders', 'cheshire', 'clinging', 'mixed', 'starving', 'wan', 'smell', 'kid', 'wakey', 'glass', 'prey', 'shoulders', 'ugly', 'lose', 'asleep', 'mouse', 'transport', 'proceeded', 'notice', 'weight', 'wipe', 'strong', 'starts', 'sound', 'employee', 'anywhere', 'burst', 'swim', 'century', 'ridiculously', 'drowning', 'company', 'friends', 'rattling', 'girls', 'run', 'film', 'fell', 'howling', 'place', 'ran', 'hooooooo', 'truth', 'animal', 'around', 'called', 'butter', 'side', 'thicken', 'string', 'insect', 'letters', 'died', 'infrastructure', 'barks', 'repeated', 'jumped', 'since', 'ate', 'yes', 'waste', 'feathers', 'cranes', 'pretty', 'lights', 'lead', 'alarms', 'kettle', 'fitter', 'yeah', 'beholder', 'yen', 'shutdown', 'glassy', 'reasonable', 'blank', 'hands', 'react', 'rails', 'thing', 'different', 'steel', 'itch', 'crumb', 'save', 'enjoy', 'haunt', 'helpless', 'payroll', 'conversation', 'tastes', 'stones', 'clouds', 'step', 'panic', 'cry', 'speeches', 'second', 'ringing', 'stone', 'flood', 'chasing', 'check', 'seat', 'ring', 'walls', 'keys', 'h', 'awake', 'waits', 'chaotic', 'melt', 'blame', 'drama', 'drink', 'frightened', 'irish', 'cheek', 'shaped', 'thrown', 'kiss', 'k', 'basement', 'help', 'blink', 'police', 'torn', 'ballooning', 'government', 'little', 'ground', 'fit', 'arrive', 'passed', 'patient', 'please', 'ca', 'hear', 'shouting', 'removed', 'dry', 'show', 'shore', 'sweet', 'efil', 'hens', 'father', 'cheats', 'good', 'ought', 'backsliding', 'buildings', 'cloth', 'disappear', 'used', 'stink', 'member', 'disappointing', 'street', 'holding', 'trapdoors', 'receive', 'bullets', 'creep', 'bully', 'rivers', 'curling', 'mine', 'photo', 'worked', 'locks', 'grows', 'sarah', 'elephants', 'overcharged', 'underground', 'twitching', 'sucked', 'cathode', 'alright', 'gunboat', 'hard', 'bad', 'leaves', 'hand', 'crawling', 'airplane', 'liberal', 'schedules', 'midday', 'crack', 'seams', 'fla', 'burn', 'ransom', 'tracks', 'ocean', 'amazed', 'hover', 'choose', 'bill', 'tingling', 'dirt', 'solo', 'summer', 'stolen', 'slept', 'carbon', 'planet', 'cover', 'disinfected', 'across', 'sunshine', 'mess', 'tubes', 'picked', 'wrapped', 'patterns', 'share', 'mobiles', 'stopping', 'idealism', 'without', 'pay', 'networking', 'daddy', 'waving', 'red', 'choke', 'honesty', 'pretended', 'bet', 'microwave', 'squeal', 'thousand', 'balance', 'bar', 'call', 'fat', 'till', 'ark', 'dollars', 'still', 'use', 'prison', 'loving', 'morning', 'figures', 'insides', 'released', 'weeds', 'cost', 'started', 'crosses', 'crippled', 'favourite', 'piggy', 'accidents', 'pleasure', 'end', 'money', 'backdrifting', 'pointless', 'squealing', 'bring', 'handshake', 'disappointed', 'cold', 'home', 'ships', 'stung', 'parting', 'flew', 'farm', 'tell', 'chat', 'trip', 'drying', 'fly', 'given', 'pit', 'lightning', 'consequence', 'room', 'damaged', 'either', 'prozac', 'look', 'pins', 'revolving', 'spark', 'looks', 'ears', 'ooohh', 'judged', 'fridge', 'going', 'sea', 'shop', 'chirping', 'neon', 'though', 'driver', 'reeling', 'films', 'tying', 'pole', 'green', 'ends', 'innocent', 'polystyrene', 'shields', 'made', 'catching', 'marines', 'open', 'picking', 'ooooooh', 'genie', 'form', 'dug', 'breathing', 'skin', 'faces', 'slowly', 'cattle', 'hurricanes', 'kicking', 'shines', 'crackle', 'wake', 'bliss', 'know', 'ask', 'happens', 'hate', 'tramlines', 'people', 'voices', 'kill', 'bottle', 'collapsing', 'troubled', 'pot'}\n"
     ]
    }
   ],
   "source": [
    "# 300 words weren't present in the pretrained embedding set\n",
    "print(len(words))\n",
    "print(len(vector_store.keys()))\n",
    "print(words - vector_store.keys()) # These few words are not a big deal although there are some strange one (for example grey?)"
   ]
  },
  {
   "cell_type": "code",
   "execution_count": 45,
   "metadata": {},
   "outputs": [],
   "source": [
    "# Convert vector_store dictionary to DataFrame\n",
    "embeddings_df = pd.DataFrame.from_dict(vector_store, orient='index')\n",
    "\n",
    "# Save to CSV file\n",
    "embeddings_df.to_csv(Path('data/embeddings.csv'))\n"
   ]
  },
  {
   "cell_type": "code",
   "execution_count": 33,
   "metadata": {},
   "outputs": [],
   "source": [
    "with open(Path('data/embeddings.csv'), 'rb') as f:\n",
    "    word_vectors = pd.read_csv(f, index_col=0)"
   ]
  },
  {
   "cell_type": "markdown",
   "metadata": {},
   "source": [
    "# Analyzing the fetures of the dataset"
   ]
  },
  {
   "cell_type": "code",
   "execution_count": 56,
   "metadata": {},
   "outputs": [
    {
     "data": {
      "application/vnd.plotly.v1+json": {
       "config": {
        "plotlyServerURL": "https://plot.ly"
       },
       "data": [
        {
         "alignmentgroup": "True",
         "hovertemplate": "variable=word_count<br>album_release_year=%{x}<br>value=%{y}<extra></extra>",
         "legendgroup": "word_count",
         "marker": {
          "color": "#636efa",
          "pattern": {
           "shape": ""
          }
         },
         "name": "word_count",
         "offsetgroup": "word_count",
         "orientation": "v",
         "showlegend": true,
         "textposition": "auto",
         "type": "bar",
         "x": [
          1993,
          1995,
          1997,
          2000,
          2001,
          2003,
          2007,
          2011,
          2016
         ],
         "xaxis": "x",
         "y": [
          34.5,
          49.75,
          51.5,
          32.09090909090909,
          32.18181818181818,
          58.92857142857143,
          41.3,
          40.375,
          56.09090909090909
         ],
         "yaxis": "y"
        }
       ],
       "layout": {
        "barmode": "relative",
        "legend": {
         "title": {
          "text": "variable"
         },
         "tracegroupgap": 0
        },
        "margin": {
         "t": 60
        },
        "template": {
         "data": {
          "bar": [
           {
            "error_x": {
             "color": "#2a3f5f"
            },
            "error_y": {
             "color": "#2a3f5f"
            },
            "marker": {
             "line": {
              "color": "#E5ECF6",
              "width": 0.5
             },
             "pattern": {
              "fillmode": "overlay",
              "size": 10,
              "solidity": 0.2
             }
            },
            "type": "bar"
           }
          ],
          "barpolar": [
           {
            "marker": {
             "line": {
              "color": "#E5ECF6",
              "width": 0.5
             },
             "pattern": {
              "fillmode": "overlay",
              "size": 10,
              "solidity": 0.2
             }
            },
            "type": "barpolar"
           }
          ],
          "carpet": [
           {
            "aaxis": {
             "endlinecolor": "#2a3f5f",
             "gridcolor": "white",
             "linecolor": "white",
             "minorgridcolor": "white",
             "startlinecolor": "#2a3f5f"
            },
            "baxis": {
             "endlinecolor": "#2a3f5f",
             "gridcolor": "white",
             "linecolor": "white",
             "minorgridcolor": "white",
             "startlinecolor": "#2a3f5f"
            },
            "type": "carpet"
           }
          ],
          "choropleth": [
           {
            "colorbar": {
             "outlinewidth": 0,
             "ticks": ""
            },
            "type": "choropleth"
           }
          ],
          "contour": [
           {
            "colorbar": {
             "outlinewidth": 0,
             "ticks": ""
            },
            "colorscale": [
             [
              0,
              "#0d0887"
             ],
             [
              0.1111111111111111,
              "#46039f"
             ],
             [
              0.2222222222222222,
              "#7201a8"
             ],
             [
              0.3333333333333333,
              "#9c179e"
             ],
             [
              0.4444444444444444,
              "#bd3786"
             ],
             [
              0.5555555555555556,
              "#d8576b"
             ],
             [
              0.6666666666666666,
              "#ed7953"
             ],
             [
              0.7777777777777778,
              "#fb9f3a"
             ],
             [
              0.8888888888888888,
              "#fdca26"
             ],
             [
              1,
              "#f0f921"
             ]
            ],
            "type": "contour"
           }
          ],
          "contourcarpet": [
           {
            "colorbar": {
             "outlinewidth": 0,
             "ticks": ""
            },
            "type": "contourcarpet"
           }
          ],
          "heatmap": [
           {
            "colorbar": {
             "outlinewidth": 0,
             "ticks": ""
            },
            "colorscale": [
             [
              0,
              "#0d0887"
             ],
             [
              0.1111111111111111,
              "#46039f"
             ],
             [
              0.2222222222222222,
              "#7201a8"
             ],
             [
              0.3333333333333333,
              "#9c179e"
             ],
             [
              0.4444444444444444,
              "#bd3786"
             ],
             [
              0.5555555555555556,
              "#d8576b"
             ],
             [
              0.6666666666666666,
              "#ed7953"
             ],
             [
              0.7777777777777778,
              "#fb9f3a"
             ],
             [
              0.8888888888888888,
              "#fdca26"
             ],
             [
              1,
              "#f0f921"
             ]
            ],
            "type": "heatmap"
           }
          ],
          "heatmapgl": [
           {
            "colorbar": {
             "outlinewidth": 0,
             "ticks": ""
            },
            "colorscale": [
             [
              0,
              "#0d0887"
             ],
             [
              0.1111111111111111,
              "#46039f"
             ],
             [
              0.2222222222222222,
              "#7201a8"
             ],
             [
              0.3333333333333333,
              "#9c179e"
             ],
             [
              0.4444444444444444,
              "#bd3786"
             ],
             [
              0.5555555555555556,
              "#d8576b"
             ],
             [
              0.6666666666666666,
              "#ed7953"
             ],
             [
              0.7777777777777778,
              "#fb9f3a"
             ],
             [
              0.8888888888888888,
              "#fdca26"
             ],
             [
              1,
              "#f0f921"
             ]
            ],
            "type": "heatmapgl"
           }
          ],
          "histogram": [
           {
            "marker": {
             "pattern": {
              "fillmode": "overlay",
              "size": 10,
              "solidity": 0.2
             }
            },
            "type": "histogram"
           }
          ],
          "histogram2d": [
           {
            "colorbar": {
             "outlinewidth": 0,
             "ticks": ""
            },
            "colorscale": [
             [
              0,
              "#0d0887"
             ],
             [
              0.1111111111111111,
              "#46039f"
             ],
             [
              0.2222222222222222,
              "#7201a8"
             ],
             [
              0.3333333333333333,
              "#9c179e"
             ],
             [
              0.4444444444444444,
              "#bd3786"
             ],
             [
              0.5555555555555556,
              "#d8576b"
             ],
             [
              0.6666666666666666,
              "#ed7953"
             ],
             [
              0.7777777777777778,
              "#fb9f3a"
             ],
             [
              0.8888888888888888,
              "#fdca26"
             ],
             [
              1,
              "#f0f921"
             ]
            ],
            "type": "histogram2d"
           }
          ],
          "histogram2dcontour": [
           {
            "colorbar": {
             "outlinewidth": 0,
             "ticks": ""
            },
            "colorscale": [
             [
              0,
              "#0d0887"
             ],
             [
              0.1111111111111111,
              "#46039f"
             ],
             [
              0.2222222222222222,
              "#7201a8"
             ],
             [
              0.3333333333333333,
              "#9c179e"
             ],
             [
              0.4444444444444444,
              "#bd3786"
             ],
             [
              0.5555555555555556,
              "#d8576b"
             ],
             [
              0.6666666666666666,
              "#ed7953"
             ],
             [
              0.7777777777777778,
              "#fb9f3a"
             ],
             [
              0.8888888888888888,
              "#fdca26"
             ],
             [
              1,
              "#f0f921"
             ]
            ],
            "type": "histogram2dcontour"
           }
          ],
          "mesh3d": [
           {
            "colorbar": {
             "outlinewidth": 0,
             "ticks": ""
            },
            "type": "mesh3d"
           }
          ],
          "parcoords": [
           {
            "line": {
             "colorbar": {
              "outlinewidth": 0,
              "ticks": ""
             }
            },
            "type": "parcoords"
           }
          ],
          "pie": [
           {
            "automargin": true,
            "type": "pie"
           }
          ],
          "scatter": [
           {
            "fillpattern": {
             "fillmode": "overlay",
             "size": 10,
             "solidity": 0.2
            },
            "type": "scatter"
           }
          ],
          "scatter3d": [
           {
            "line": {
             "colorbar": {
              "outlinewidth": 0,
              "ticks": ""
             }
            },
            "marker": {
             "colorbar": {
              "outlinewidth": 0,
              "ticks": ""
             }
            },
            "type": "scatter3d"
           }
          ],
          "scattercarpet": [
           {
            "marker": {
             "colorbar": {
              "outlinewidth": 0,
              "ticks": ""
             }
            },
            "type": "scattercarpet"
           }
          ],
          "scattergeo": [
           {
            "marker": {
             "colorbar": {
              "outlinewidth": 0,
              "ticks": ""
             }
            },
            "type": "scattergeo"
           }
          ],
          "scattergl": [
           {
            "marker": {
             "colorbar": {
              "outlinewidth": 0,
              "ticks": ""
             }
            },
            "type": "scattergl"
           }
          ],
          "scattermapbox": [
           {
            "marker": {
             "colorbar": {
              "outlinewidth": 0,
              "ticks": ""
             }
            },
            "type": "scattermapbox"
           }
          ],
          "scatterpolar": [
           {
            "marker": {
             "colorbar": {
              "outlinewidth": 0,
              "ticks": ""
             }
            },
            "type": "scatterpolar"
           }
          ],
          "scatterpolargl": [
           {
            "marker": {
             "colorbar": {
              "outlinewidth": 0,
              "ticks": ""
             }
            },
            "type": "scatterpolargl"
           }
          ],
          "scatterternary": [
           {
            "marker": {
             "colorbar": {
              "outlinewidth": 0,
              "ticks": ""
             }
            },
            "type": "scatterternary"
           }
          ],
          "surface": [
           {
            "colorbar": {
             "outlinewidth": 0,
             "ticks": ""
            },
            "colorscale": [
             [
              0,
              "#0d0887"
             ],
             [
              0.1111111111111111,
              "#46039f"
             ],
             [
              0.2222222222222222,
              "#7201a8"
             ],
             [
              0.3333333333333333,
              "#9c179e"
             ],
             [
              0.4444444444444444,
              "#bd3786"
             ],
             [
              0.5555555555555556,
              "#d8576b"
             ],
             [
              0.6666666666666666,
              "#ed7953"
             ],
             [
              0.7777777777777778,
              "#fb9f3a"
             ],
             [
              0.8888888888888888,
              "#fdca26"
             ],
             [
              1,
              "#f0f921"
             ]
            ],
            "type": "surface"
           }
          ],
          "table": [
           {
            "cells": {
             "fill": {
              "color": "#EBF0F8"
             },
             "line": {
              "color": "white"
             }
            },
            "header": {
             "fill": {
              "color": "#C8D4E3"
             },
             "line": {
              "color": "white"
             }
            },
            "type": "table"
           }
          ]
         },
         "layout": {
          "annotationdefaults": {
           "arrowcolor": "#2a3f5f",
           "arrowhead": 0,
           "arrowwidth": 1
          },
          "autotypenumbers": "strict",
          "coloraxis": {
           "colorbar": {
            "outlinewidth": 0,
            "ticks": ""
           }
          },
          "colorscale": {
           "diverging": [
            [
             0,
             "#8e0152"
            ],
            [
             0.1,
             "#c51b7d"
            ],
            [
             0.2,
             "#de77ae"
            ],
            [
             0.3,
             "#f1b6da"
            ],
            [
             0.4,
             "#fde0ef"
            ],
            [
             0.5,
             "#f7f7f7"
            ],
            [
             0.6,
             "#e6f5d0"
            ],
            [
             0.7,
             "#b8e186"
            ],
            [
             0.8,
             "#7fbc41"
            ],
            [
             0.9,
             "#4d9221"
            ],
            [
             1,
             "#276419"
            ]
           ],
           "sequential": [
            [
             0,
             "#0d0887"
            ],
            [
             0.1111111111111111,
             "#46039f"
            ],
            [
             0.2222222222222222,
             "#7201a8"
            ],
            [
             0.3333333333333333,
             "#9c179e"
            ],
            [
             0.4444444444444444,
             "#bd3786"
            ],
            [
             0.5555555555555556,
             "#d8576b"
            ],
            [
             0.6666666666666666,
             "#ed7953"
            ],
            [
             0.7777777777777778,
             "#fb9f3a"
            ],
            [
             0.8888888888888888,
             "#fdca26"
            ],
            [
             1,
             "#f0f921"
            ]
           ],
           "sequentialminus": [
            [
             0,
             "#0d0887"
            ],
            [
             0.1111111111111111,
             "#46039f"
            ],
            [
             0.2222222222222222,
             "#7201a8"
            ],
            [
             0.3333333333333333,
             "#9c179e"
            ],
            [
             0.4444444444444444,
             "#bd3786"
            ],
            [
             0.5555555555555556,
             "#d8576b"
            ],
            [
             0.6666666666666666,
             "#ed7953"
            ],
            [
             0.7777777777777778,
             "#fb9f3a"
            ],
            [
             0.8888888888888888,
             "#fdca26"
            ],
            [
             1,
             "#f0f921"
            ]
           ]
          },
          "colorway": [
           "#636efa",
           "#EF553B",
           "#00cc96",
           "#ab63fa",
           "#FFA15A",
           "#19d3f3",
           "#FF6692",
           "#B6E880",
           "#FF97FF",
           "#FECB52"
          ],
          "font": {
           "color": "#2a3f5f"
          },
          "geo": {
           "bgcolor": "white",
           "lakecolor": "white",
           "landcolor": "#E5ECF6",
           "showlakes": true,
           "showland": true,
           "subunitcolor": "white"
          },
          "hoverlabel": {
           "align": "left"
          },
          "hovermode": "closest",
          "mapbox": {
           "style": "light"
          },
          "paper_bgcolor": "white",
          "plot_bgcolor": "#E5ECF6",
          "polar": {
           "angularaxis": {
            "gridcolor": "white",
            "linecolor": "white",
            "ticks": ""
           },
           "bgcolor": "#E5ECF6",
           "radialaxis": {
            "gridcolor": "white",
            "linecolor": "white",
            "ticks": ""
           }
          },
          "scene": {
           "xaxis": {
            "backgroundcolor": "#E5ECF6",
            "gridcolor": "white",
            "gridwidth": 2,
            "linecolor": "white",
            "showbackground": true,
            "ticks": "",
            "zerolinecolor": "white"
           },
           "yaxis": {
            "backgroundcolor": "#E5ECF6",
            "gridcolor": "white",
            "gridwidth": 2,
            "linecolor": "white",
            "showbackground": true,
            "ticks": "",
            "zerolinecolor": "white"
           },
           "zaxis": {
            "backgroundcolor": "#E5ECF6",
            "gridcolor": "white",
            "gridwidth": 2,
            "linecolor": "white",
            "showbackground": true,
            "ticks": "",
            "zerolinecolor": "white"
           }
          },
          "shapedefaults": {
           "line": {
            "color": "#2a3f5f"
           }
          },
          "ternary": {
           "aaxis": {
            "gridcolor": "white",
            "linecolor": "white",
            "ticks": ""
           },
           "baxis": {
            "gridcolor": "white",
            "linecolor": "white",
            "ticks": ""
           },
           "bgcolor": "#E5ECF6",
           "caxis": {
            "gridcolor": "white",
            "linecolor": "white",
            "ticks": ""
           }
          },
          "title": {
           "x": 0.05
          },
          "xaxis": {
           "automargin": true,
           "gridcolor": "white",
           "linecolor": "white",
           "ticks": "",
           "title": {
            "standoff": 15
           },
           "zerolinecolor": "white",
           "zerolinewidth": 2
          },
          "yaxis": {
           "automargin": true,
           "gridcolor": "white",
           "linecolor": "white",
           "ticks": "",
           "title": {
            "standoff": 15
           },
           "zerolinecolor": "white",
           "zerolinewidth": 2
          }
         }
        },
        "xaxis": {
         "anchor": "y",
         "domain": [
          0,
          1
         ],
         "title": {
          "text": "album_release_year"
         }
        },
        "yaxis": {
         "anchor": "x",
         "domain": [
          0,
          1
         ],
         "title": {
          "text": "value"
         }
        }
       }
      }
     },
     "metadata": {},
     "output_type": "display_data"
    }
   ],
   "source": [
    "# Average word count by year and album\n",
    "word_no_by_album = df.groupby('album_release_year')['word_count'].mean()\n",
    "\n",
    "fig = px.bar(word_no_by_album)\n",
    "fig.show()"
   ]
  },
  {
   "cell_type": "code",
   "execution_count": 62,
   "metadata": {},
   "outputs": [
    {
     "data": {
      "application/vnd.plotly.v1+json": {
       "config": {
        "plotlyServerURL": "https://plot.ly"
       },
       "data": [
        {
         "alignmentgroup": "True",
         "hovertemplate": "album_release_year=%{x}<br>word_count=%{y}<extra></extra>",
         "legendgroup": "",
         "marker": {
          "color": "#636efa"
         },
         "name": "",
         "notched": false,
         "offsetgroup": "",
         "orientation": "v",
         "showlegend": false,
         "type": "box",
         "x": [
          1993,
          1993,
          1993,
          1993,
          1993,
          1993,
          1993,
          1993,
          1993,
          1993,
          1993,
          1993,
          1995,
          1995,
          1995,
          1995,
          1995,
          1995,
          1995,
          1995,
          1995,
          1995,
          1995,
          1995,
          1997,
          1997,
          1997,
          1997,
          1997,
          1997,
          1997,
          1997,
          1997,
          1997,
          1997,
          1997,
          2000,
          2000,
          2000,
          2000,
          2000,
          2000,
          2000,
          2000,
          2000,
          2000,
          2000,
          2001,
          2001,
          2001,
          2001,
          2001,
          2001,
          2001,
          2001,
          2001,
          2001,
          2001,
          2003,
          2003,
          2003,
          2003,
          2003,
          2003,
          2003,
          2003,
          2003,
          2003,
          2003,
          2003,
          2003,
          2003,
          2007,
          2007,
          2007,
          2007,
          2007,
          2007,
          2007,
          2007,
          2007,
          2007,
          2011,
          2011,
          2011,
          2011,
          2011,
          2011,
          2011,
          2011,
          2016,
          2016,
          2016,
          2016,
          2016,
          2016,
          2016,
          2016,
          2016,
          2016,
          2016
         ],
         "x0": " ",
         "xaxis": "x",
         "y": [
          19,
          39,
          8,
          13,
          51,
          40,
          35,
          39,
          46,
          21,
          51,
          52,
          78,
          43,
          47,
          60,
          30,
          34,
          56,
          37,
          50,
          79,
          30,
          53,
          31,
          27,
          41,
          47,
          44,
          121,
          57,
          64,
          43,
          62,
          40,
          41,
          0,
          24,
          63,
          83,
          61,
          38,
          18,
          8,
          31,
          27,
          0,
          81,
          48,
          22,
          0,
          46,
          29,
          16,
          19,
          44,
          30,
          19,
          44,
          119,
          36,
          73,
          38,
          29,
          76,
          31,
          78,
          37,
          44,
          20,
          126,
          74,
          65,
          53,
          24,
          58,
          28,
          28,
          19,
          52,
          38,
          48,
          62,
          15,
          81,
          75,
          42,
          16,
          27,
          5,
          26,
          47,
          79,
          68,
          43,
          82,
          47,
          100,
          44,
          39,
          42
         ],
         "y0": " ",
         "yaxis": "y"
        }
       ],
       "layout": {
        "boxmode": "group",
        "legend": {
         "tracegroupgap": 0
        },
        "margin": {
         "t": 60
        },
        "template": {
         "data": {
          "bar": [
           {
            "error_x": {
             "color": "#2a3f5f"
            },
            "error_y": {
             "color": "#2a3f5f"
            },
            "marker": {
             "line": {
              "color": "#E5ECF6",
              "width": 0.5
             },
             "pattern": {
              "fillmode": "overlay",
              "size": 10,
              "solidity": 0.2
             }
            },
            "type": "bar"
           }
          ],
          "barpolar": [
           {
            "marker": {
             "line": {
              "color": "#E5ECF6",
              "width": 0.5
             },
             "pattern": {
              "fillmode": "overlay",
              "size": 10,
              "solidity": 0.2
             }
            },
            "type": "barpolar"
           }
          ],
          "carpet": [
           {
            "aaxis": {
             "endlinecolor": "#2a3f5f",
             "gridcolor": "white",
             "linecolor": "white",
             "minorgridcolor": "white",
             "startlinecolor": "#2a3f5f"
            },
            "baxis": {
             "endlinecolor": "#2a3f5f",
             "gridcolor": "white",
             "linecolor": "white",
             "minorgridcolor": "white",
             "startlinecolor": "#2a3f5f"
            },
            "type": "carpet"
           }
          ],
          "choropleth": [
           {
            "colorbar": {
             "outlinewidth": 0,
             "ticks": ""
            },
            "type": "choropleth"
           }
          ],
          "contour": [
           {
            "colorbar": {
             "outlinewidth": 0,
             "ticks": ""
            },
            "colorscale": [
             [
              0,
              "#0d0887"
             ],
             [
              0.1111111111111111,
              "#46039f"
             ],
             [
              0.2222222222222222,
              "#7201a8"
             ],
             [
              0.3333333333333333,
              "#9c179e"
             ],
             [
              0.4444444444444444,
              "#bd3786"
             ],
             [
              0.5555555555555556,
              "#d8576b"
             ],
             [
              0.6666666666666666,
              "#ed7953"
             ],
             [
              0.7777777777777778,
              "#fb9f3a"
             ],
             [
              0.8888888888888888,
              "#fdca26"
             ],
             [
              1,
              "#f0f921"
             ]
            ],
            "type": "contour"
           }
          ],
          "contourcarpet": [
           {
            "colorbar": {
             "outlinewidth": 0,
             "ticks": ""
            },
            "type": "contourcarpet"
           }
          ],
          "heatmap": [
           {
            "colorbar": {
             "outlinewidth": 0,
             "ticks": ""
            },
            "colorscale": [
             [
              0,
              "#0d0887"
             ],
             [
              0.1111111111111111,
              "#46039f"
             ],
             [
              0.2222222222222222,
              "#7201a8"
             ],
             [
              0.3333333333333333,
              "#9c179e"
             ],
             [
              0.4444444444444444,
              "#bd3786"
             ],
             [
              0.5555555555555556,
              "#d8576b"
             ],
             [
              0.6666666666666666,
              "#ed7953"
             ],
             [
              0.7777777777777778,
              "#fb9f3a"
             ],
             [
              0.8888888888888888,
              "#fdca26"
             ],
             [
              1,
              "#f0f921"
             ]
            ],
            "type": "heatmap"
           }
          ],
          "heatmapgl": [
           {
            "colorbar": {
             "outlinewidth": 0,
             "ticks": ""
            },
            "colorscale": [
             [
              0,
              "#0d0887"
             ],
             [
              0.1111111111111111,
              "#46039f"
             ],
             [
              0.2222222222222222,
              "#7201a8"
             ],
             [
              0.3333333333333333,
              "#9c179e"
             ],
             [
              0.4444444444444444,
              "#bd3786"
             ],
             [
              0.5555555555555556,
              "#d8576b"
             ],
             [
              0.6666666666666666,
              "#ed7953"
             ],
             [
              0.7777777777777778,
              "#fb9f3a"
             ],
             [
              0.8888888888888888,
              "#fdca26"
             ],
             [
              1,
              "#f0f921"
             ]
            ],
            "type": "heatmapgl"
           }
          ],
          "histogram": [
           {
            "marker": {
             "pattern": {
              "fillmode": "overlay",
              "size": 10,
              "solidity": 0.2
             }
            },
            "type": "histogram"
           }
          ],
          "histogram2d": [
           {
            "colorbar": {
             "outlinewidth": 0,
             "ticks": ""
            },
            "colorscale": [
             [
              0,
              "#0d0887"
             ],
             [
              0.1111111111111111,
              "#46039f"
             ],
             [
              0.2222222222222222,
              "#7201a8"
             ],
             [
              0.3333333333333333,
              "#9c179e"
             ],
             [
              0.4444444444444444,
              "#bd3786"
             ],
             [
              0.5555555555555556,
              "#d8576b"
             ],
             [
              0.6666666666666666,
              "#ed7953"
             ],
             [
              0.7777777777777778,
              "#fb9f3a"
             ],
             [
              0.8888888888888888,
              "#fdca26"
             ],
             [
              1,
              "#f0f921"
             ]
            ],
            "type": "histogram2d"
           }
          ],
          "histogram2dcontour": [
           {
            "colorbar": {
             "outlinewidth": 0,
             "ticks": ""
            },
            "colorscale": [
             [
              0,
              "#0d0887"
             ],
             [
              0.1111111111111111,
              "#46039f"
             ],
             [
              0.2222222222222222,
              "#7201a8"
             ],
             [
              0.3333333333333333,
              "#9c179e"
             ],
             [
              0.4444444444444444,
              "#bd3786"
             ],
             [
              0.5555555555555556,
              "#d8576b"
             ],
             [
              0.6666666666666666,
              "#ed7953"
             ],
             [
              0.7777777777777778,
              "#fb9f3a"
             ],
             [
              0.8888888888888888,
              "#fdca26"
             ],
             [
              1,
              "#f0f921"
             ]
            ],
            "type": "histogram2dcontour"
           }
          ],
          "mesh3d": [
           {
            "colorbar": {
             "outlinewidth": 0,
             "ticks": ""
            },
            "type": "mesh3d"
           }
          ],
          "parcoords": [
           {
            "line": {
             "colorbar": {
              "outlinewidth": 0,
              "ticks": ""
             }
            },
            "type": "parcoords"
           }
          ],
          "pie": [
           {
            "automargin": true,
            "type": "pie"
           }
          ],
          "scatter": [
           {
            "fillpattern": {
             "fillmode": "overlay",
             "size": 10,
             "solidity": 0.2
            },
            "type": "scatter"
           }
          ],
          "scatter3d": [
           {
            "line": {
             "colorbar": {
              "outlinewidth": 0,
              "ticks": ""
             }
            },
            "marker": {
             "colorbar": {
              "outlinewidth": 0,
              "ticks": ""
             }
            },
            "type": "scatter3d"
           }
          ],
          "scattercarpet": [
           {
            "marker": {
             "colorbar": {
              "outlinewidth": 0,
              "ticks": ""
             }
            },
            "type": "scattercarpet"
           }
          ],
          "scattergeo": [
           {
            "marker": {
             "colorbar": {
              "outlinewidth": 0,
              "ticks": ""
             }
            },
            "type": "scattergeo"
           }
          ],
          "scattergl": [
           {
            "marker": {
             "colorbar": {
              "outlinewidth": 0,
              "ticks": ""
             }
            },
            "type": "scattergl"
           }
          ],
          "scattermapbox": [
           {
            "marker": {
             "colorbar": {
              "outlinewidth": 0,
              "ticks": ""
             }
            },
            "type": "scattermapbox"
           }
          ],
          "scatterpolar": [
           {
            "marker": {
             "colorbar": {
              "outlinewidth": 0,
              "ticks": ""
             }
            },
            "type": "scatterpolar"
           }
          ],
          "scatterpolargl": [
           {
            "marker": {
             "colorbar": {
              "outlinewidth": 0,
              "ticks": ""
             }
            },
            "type": "scatterpolargl"
           }
          ],
          "scatterternary": [
           {
            "marker": {
             "colorbar": {
              "outlinewidth": 0,
              "ticks": ""
             }
            },
            "type": "scatterternary"
           }
          ],
          "surface": [
           {
            "colorbar": {
             "outlinewidth": 0,
             "ticks": ""
            },
            "colorscale": [
             [
              0,
              "#0d0887"
             ],
             [
              0.1111111111111111,
              "#46039f"
             ],
             [
              0.2222222222222222,
              "#7201a8"
             ],
             [
              0.3333333333333333,
              "#9c179e"
             ],
             [
              0.4444444444444444,
              "#bd3786"
             ],
             [
              0.5555555555555556,
              "#d8576b"
             ],
             [
              0.6666666666666666,
              "#ed7953"
             ],
             [
              0.7777777777777778,
              "#fb9f3a"
             ],
             [
              0.8888888888888888,
              "#fdca26"
             ],
             [
              1,
              "#f0f921"
             ]
            ],
            "type": "surface"
           }
          ],
          "table": [
           {
            "cells": {
             "fill": {
              "color": "#EBF0F8"
             },
             "line": {
              "color": "white"
             }
            },
            "header": {
             "fill": {
              "color": "#C8D4E3"
             },
             "line": {
              "color": "white"
             }
            },
            "type": "table"
           }
          ]
         },
         "layout": {
          "annotationdefaults": {
           "arrowcolor": "#2a3f5f",
           "arrowhead": 0,
           "arrowwidth": 1
          },
          "autotypenumbers": "strict",
          "coloraxis": {
           "colorbar": {
            "outlinewidth": 0,
            "ticks": ""
           }
          },
          "colorscale": {
           "diverging": [
            [
             0,
             "#8e0152"
            ],
            [
             0.1,
             "#c51b7d"
            ],
            [
             0.2,
             "#de77ae"
            ],
            [
             0.3,
             "#f1b6da"
            ],
            [
             0.4,
             "#fde0ef"
            ],
            [
             0.5,
             "#f7f7f7"
            ],
            [
             0.6,
             "#e6f5d0"
            ],
            [
             0.7,
             "#b8e186"
            ],
            [
             0.8,
             "#7fbc41"
            ],
            [
             0.9,
             "#4d9221"
            ],
            [
             1,
             "#276419"
            ]
           ],
           "sequential": [
            [
             0,
             "#0d0887"
            ],
            [
             0.1111111111111111,
             "#46039f"
            ],
            [
             0.2222222222222222,
             "#7201a8"
            ],
            [
             0.3333333333333333,
             "#9c179e"
            ],
            [
             0.4444444444444444,
             "#bd3786"
            ],
            [
             0.5555555555555556,
             "#d8576b"
            ],
            [
             0.6666666666666666,
             "#ed7953"
            ],
            [
             0.7777777777777778,
             "#fb9f3a"
            ],
            [
             0.8888888888888888,
             "#fdca26"
            ],
            [
             1,
             "#f0f921"
            ]
           ],
           "sequentialminus": [
            [
             0,
             "#0d0887"
            ],
            [
             0.1111111111111111,
             "#46039f"
            ],
            [
             0.2222222222222222,
             "#7201a8"
            ],
            [
             0.3333333333333333,
             "#9c179e"
            ],
            [
             0.4444444444444444,
             "#bd3786"
            ],
            [
             0.5555555555555556,
             "#d8576b"
            ],
            [
             0.6666666666666666,
             "#ed7953"
            ],
            [
             0.7777777777777778,
             "#fb9f3a"
            ],
            [
             0.8888888888888888,
             "#fdca26"
            ],
            [
             1,
             "#f0f921"
            ]
           ]
          },
          "colorway": [
           "#636efa",
           "#EF553B",
           "#00cc96",
           "#ab63fa",
           "#FFA15A",
           "#19d3f3",
           "#FF6692",
           "#B6E880",
           "#FF97FF",
           "#FECB52"
          ],
          "font": {
           "color": "#2a3f5f"
          },
          "geo": {
           "bgcolor": "white",
           "lakecolor": "white",
           "landcolor": "#E5ECF6",
           "showlakes": true,
           "showland": true,
           "subunitcolor": "white"
          },
          "hoverlabel": {
           "align": "left"
          },
          "hovermode": "closest",
          "mapbox": {
           "style": "light"
          },
          "paper_bgcolor": "white",
          "plot_bgcolor": "#E5ECF6",
          "polar": {
           "angularaxis": {
            "gridcolor": "white",
            "linecolor": "white",
            "ticks": ""
           },
           "bgcolor": "#E5ECF6",
           "radialaxis": {
            "gridcolor": "white",
            "linecolor": "white",
            "ticks": ""
           }
          },
          "scene": {
           "xaxis": {
            "backgroundcolor": "#E5ECF6",
            "gridcolor": "white",
            "gridwidth": 2,
            "linecolor": "white",
            "showbackground": true,
            "ticks": "",
            "zerolinecolor": "white"
           },
           "yaxis": {
            "backgroundcolor": "#E5ECF6",
            "gridcolor": "white",
            "gridwidth": 2,
            "linecolor": "white",
            "showbackground": true,
            "ticks": "",
            "zerolinecolor": "white"
           },
           "zaxis": {
            "backgroundcolor": "#E5ECF6",
            "gridcolor": "white",
            "gridwidth": 2,
            "linecolor": "white",
            "showbackground": true,
            "ticks": "",
            "zerolinecolor": "white"
           }
          },
          "shapedefaults": {
           "line": {
            "color": "#2a3f5f"
           }
          },
          "ternary": {
           "aaxis": {
            "gridcolor": "white",
            "linecolor": "white",
            "ticks": ""
           },
           "baxis": {
            "gridcolor": "white",
            "linecolor": "white",
            "ticks": ""
           },
           "bgcolor": "#E5ECF6",
           "caxis": {
            "gridcolor": "white",
            "linecolor": "white",
            "ticks": ""
           }
          },
          "title": {
           "x": 0.05
          },
          "xaxis": {
           "automargin": true,
           "gridcolor": "white",
           "linecolor": "white",
           "ticks": "",
           "title": {
            "standoff": 15
           },
           "zerolinecolor": "white",
           "zerolinewidth": 2
          },
          "yaxis": {
           "automargin": true,
           "gridcolor": "white",
           "linecolor": "white",
           "ticks": "",
           "title": {
            "standoff": 15
           },
           "zerolinecolor": "white",
           "zerolinewidth": 2
          }
         }
        },
        "xaxis": {
         "anchor": "y",
         "domain": [
          0,
          1
         ],
         "title": {
          "text": "album_release_year"
         }
        },
        "yaxis": {
         "anchor": "x",
         "domain": [
          0,
          1
         ],
         "title": {
          "text": "word_count"
         }
        }
       }
      }
     },
     "metadata": {},
     "output_type": "display_data"
    }
   ],
   "source": [
    "# Words by song\n",
    "fig = px.box(df.sort_values(by='album_release_year'), x='album_release_year', y='word_count')\n",
    "fig.show()"
   ]
  },
  {
   "cell_type": "code",
   "execution_count": 63,
   "metadata": {},
   "outputs": [
    {
     "data": {
      "application/vnd.plotly.v1+json": {
       "config": {
        "plotlyServerURL": "https://plot.ly"
       },
       "data": [
        {
         "alignmentgroup": "True",
         "hovertemplate": "album_release_year=%{x}<br>gloom_index=%{y}<extra></extra>",
         "legendgroup": "",
         "marker": {
          "color": "#636efa"
         },
         "name": "",
         "notched": false,
         "offsetgroup": "",
         "orientation": "v",
         "showlegend": false,
         "type": "box",
         "x": [
          1993,
          1993,
          1993,
          1993,
          1993,
          1993,
          1993,
          1993,
          1993,
          1993,
          1993,
          1993,
          1995,
          1995,
          1995,
          1995,
          1995,
          1995,
          1995,
          1995,
          1995,
          1995,
          1995,
          1995,
          1997,
          1997,
          1997,
          1997,
          1997,
          1997,
          1997,
          1997,
          1997,
          1997,
          1997,
          1997,
          2000,
          2000,
          2000,
          2000,
          2000,
          2000,
          2000,
          2000,
          2000,
          2000,
          2000,
          2001,
          2001,
          2001,
          2001,
          2001,
          2001,
          2001,
          2001,
          2001,
          2001,
          2001,
          2003,
          2003,
          2003,
          2003,
          2003,
          2003,
          2003,
          2003,
          2003,
          2003,
          2003,
          2003,
          2003,
          2003,
          2007,
          2007,
          2007,
          2007,
          2007,
          2007,
          2007,
          2007,
          2007,
          2007,
          2011,
          2011,
          2011,
          2011,
          2011,
          2011,
          2011,
          2011,
          2016,
          2016,
          2016,
          2016,
          2016,
          2016,
          2016,
          2016,
          2016,
          2016,
          2016
         ],
         "x0": " ",
         "xaxis": "x",
         "y": [
          50.39,
          22.6,
          36.56,
          43.48,
          60.8,
          72.23,
          40.56,
          54.45,
          44.68,
          32.33,
          58.06,
          46.08,
          26.99,
          48.25,
          15.69,
          27.7,
          55.99,
          57.42,
          44.21,
          73.76,
          22.69,
          31.07,
          76.63,
          29.71,
          81.18,
          40.98,
          49.68,
          14.57,
          13.7,
          27.77,
          75.23,
          45.81,
          34.61,
          29.34,
          35.17,
          22.52,
          27.87,
          33.78,
          57.7,
          40.98,
          27.87,
          72.09,
          61.5,
          71.77,
          56.37,
          9.35,
          29.67,
          80.63,
          14.15,
          34.86,
          30.86,
          68.84,
          39.06,
          42.44,
          15.29,
          29.64,
          41.71,
          20.54,
          47.4,
          68.61,
          26.71,
          57.99,
          82.28,
          64.23,
          16.21,
          26.5,
          72.34,
          34.14,
          53.88,
          70.4,
          40.64,
          50.8,
          100,
          88.4,
          26.62,
          25.1,
          31.03,
          40.71,
          37.95,
          72.43,
          84.85,
          16.03,
          48.55,
          59.71,
          59.9,
          91.14,
          67.59,
          21.86,
          6.46,
          69.83,
          70.19,
          28.84,
          41.09,
          36.5,
          38.88,
          28.27,
          32.25,
          22.82,
          35.56,
          15.8,
          1
         ],
         "y0": " ",
         "yaxis": "y"
        }
       ],
       "layout": {
        "boxmode": "group",
        "legend": {
         "tracegroupgap": 0
        },
        "margin": {
         "t": 60
        },
        "template": {
         "data": {
          "bar": [
           {
            "error_x": {
             "color": "#2a3f5f"
            },
            "error_y": {
             "color": "#2a3f5f"
            },
            "marker": {
             "line": {
              "color": "#E5ECF6",
              "width": 0.5
             },
             "pattern": {
              "fillmode": "overlay",
              "size": 10,
              "solidity": 0.2
             }
            },
            "type": "bar"
           }
          ],
          "barpolar": [
           {
            "marker": {
             "line": {
              "color": "#E5ECF6",
              "width": 0.5
             },
             "pattern": {
              "fillmode": "overlay",
              "size": 10,
              "solidity": 0.2
             }
            },
            "type": "barpolar"
           }
          ],
          "carpet": [
           {
            "aaxis": {
             "endlinecolor": "#2a3f5f",
             "gridcolor": "white",
             "linecolor": "white",
             "minorgridcolor": "white",
             "startlinecolor": "#2a3f5f"
            },
            "baxis": {
             "endlinecolor": "#2a3f5f",
             "gridcolor": "white",
             "linecolor": "white",
             "minorgridcolor": "white",
             "startlinecolor": "#2a3f5f"
            },
            "type": "carpet"
           }
          ],
          "choropleth": [
           {
            "colorbar": {
             "outlinewidth": 0,
             "ticks": ""
            },
            "type": "choropleth"
           }
          ],
          "contour": [
           {
            "colorbar": {
             "outlinewidth": 0,
             "ticks": ""
            },
            "colorscale": [
             [
              0,
              "#0d0887"
             ],
             [
              0.1111111111111111,
              "#46039f"
             ],
             [
              0.2222222222222222,
              "#7201a8"
             ],
             [
              0.3333333333333333,
              "#9c179e"
             ],
             [
              0.4444444444444444,
              "#bd3786"
             ],
             [
              0.5555555555555556,
              "#d8576b"
             ],
             [
              0.6666666666666666,
              "#ed7953"
             ],
             [
              0.7777777777777778,
              "#fb9f3a"
             ],
             [
              0.8888888888888888,
              "#fdca26"
             ],
             [
              1,
              "#f0f921"
             ]
            ],
            "type": "contour"
           }
          ],
          "contourcarpet": [
           {
            "colorbar": {
             "outlinewidth": 0,
             "ticks": ""
            },
            "type": "contourcarpet"
           }
          ],
          "heatmap": [
           {
            "colorbar": {
             "outlinewidth": 0,
             "ticks": ""
            },
            "colorscale": [
             [
              0,
              "#0d0887"
             ],
             [
              0.1111111111111111,
              "#46039f"
             ],
             [
              0.2222222222222222,
              "#7201a8"
             ],
             [
              0.3333333333333333,
              "#9c179e"
             ],
             [
              0.4444444444444444,
              "#bd3786"
             ],
             [
              0.5555555555555556,
              "#d8576b"
             ],
             [
              0.6666666666666666,
              "#ed7953"
             ],
             [
              0.7777777777777778,
              "#fb9f3a"
             ],
             [
              0.8888888888888888,
              "#fdca26"
             ],
             [
              1,
              "#f0f921"
             ]
            ],
            "type": "heatmap"
           }
          ],
          "heatmapgl": [
           {
            "colorbar": {
             "outlinewidth": 0,
             "ticks": ""
            },
            "colorscale": [
             [
              0,
              "#0d0887"
             ],
             [
              0.1111111111111111,
              "#46039f"
             ],
             [
              0.2222222222222222,
              "#7201a8"
             ],
             [
              0.3333333333333333,
              "#9c179e"
             ],
             [
              0.4444444444444444,
              "#bd3786"
             ],
             [
              0.5555555555555556,
              "#d8576b"
             ],
             [
              0.6666666666666666,
              "#ed7953"
             ],
             [
              0.7777777777777778,
              "#fb9f3a"
             ],
             [
              0.8888888888888888,
              "#fdca26"
             ],
             [
              1,
              "#f0f921"
             ]
            ],
            "type": "heatmapgl"
           }
          ],
          "histogram": [
           {
            "marker": {
             "pattern": {
              "fillmode": "overlay",
              "size": 10,
              "solidity": 0.2
             }
            },
            "type": "histogram"
           }
          ],
          "histogram2d": [
           {
            "colorbar": {
             "outlinewidth": 0,
             "ticks": ""
            },
            "colorscale": [
             [
              0,
              "#0d0887"
             ],
             [
              0.1111111111111111,
              "#46039f"
             ],
             [
              0.2222222222222222,
              "#7201a8"
             ],
             [
              0.3333333333333333,
              "#9c179e"
             ],
             [
              0.4444444444444444,
              "#bd3786"
             ],
             [
              0.5555555555555556,
              "#d8576b"
             ],
             [
              0.6666666666666666,
              "#ed7953"
             ],
             [
              0.7777777777777778,
              "#fb9f3a"
             ],
             [
              0.8888888888888888,
              "#fdca26"
             ],
             [
              1,
              "#f0f921"
             ]
            ],
            "type": "histogram2d"
           }
          ],
          "histogram2dcontour": [
           {
            "colorbar": {
             "outlinewidth": 0,
             "ticks": ""
            },
            "colorscale": [
             [
              0,
              "#0d0887"
             ],
             [
              0.1111111111111111,
              "#46039f"
             ],
             [
              0.2222222222222222,
              "#7201a8"
             ],
             [
              0.3333333333333333,
              "#9c179e"
             ],
             [
              0.4444444444444444,
              "#bd3786"
             ],
             [
              0.5555555555555556,
              "#d8576b"
             ],
             [
              0.6666666666666666,
              "#ed7953"
             ],
             [
              0.7777777777777778,
              "#fb9f3a"
             ],
             [
              0.8888888888888888,
              "#fdca26"
             ],
             [
              1,
              "#f0f921"
             ]
            ],
            "type": "histogram2dcontour"
           }
          ],
          "mesh3d": [
           {
            "colorbar": {
             "outlinewidth": 0,
             "ticks": ""
            },
            "type": "mesh3d"
           }
          ],
          "parcoords": [
           {
            "line": {
             "colorbar": {
              "outlinewidth": 0,
              "ticks": ""
             }
            },
            "type": "parcoords"
           }
          ],
          "pie": [
           {
            "automargin": true,
            "type": "pie"
           }
          ],
          "scatter": [
           {
            "fillpattern": {
             "fillmode": "overlay",
             "size": 10,
             "solidity": 0.2
            },
            "type": "scatter"
           }
          ],
          "scatter3d": [
           {
            "line": {
             "colorbar": {
              "outlinewidth": 0,
              "ticks": ""
             }
            },
            "marker": {
             "colorbar": {
              "outlinewidth": 0,
              "ticks": ""
             }
            },
            "type": "scatter3d"
           }
          ],
          "scattercarpet": [
           {
            "marker": {
             "colorbar": {
              "outlinewidth": 0,
              "ticks": ""
             }
            },
            "type": "scattercarpet"
           }
          ],
          "scattergeo": [
           {
            "marker": {
             "colorbar": {
              "outlinewidth": 0,
              "ticks": ""
             }
            },
            "type": "scattergeo"
           }
          ],
          "scattergl": [
           {
            "marker": {
             "colorbar": {
              "outlinewidth": 0,
              "ticks": ""
             }
            },
            "type": "scattergl"
           }
          ],
          "scattermapbox": [
           {
            "marker": {
             "colorbar": {
              "outlinewidth": 0,
              "ticks": ""
             }
            },
            "type": "scattermapbox"
           }
          ],
          "scatterpolar": [
           {
            "marker": {
             "colorbar": {
              "outlinewidth": 0,
              "ticks": ""
             }
            },
            "type": "scatterpolar"
           }
          ],
          "scatterpolargl": [
           {
            "marker": {
             "colorbar": {
              "outlinewidth": 0,
              "ticks": ""
             }
            },
            "type": "scatterpolargl"
           }
          ],
          "scatterternary": [
           {
            "marker": {
             "colorbar": {
              "outlinewidth": 0,
              "ticks": ""
             }
            },
            "type": "scatterternary"
           }
          ],
          "surface": [
           {
            "colorbar": {
             "outlinewidth": 0,
             "ticks": ""
            },
            "colorscale": [
             [
              0,
              "#0d0887"
             ],
             [
              0.1111111111111111,
              "#46039f"
             ],
             [
              0.2222222222222222,
              "#7201a8"
             ],
             [
              0.3333333333333333,
              "#9c179e"
             ],
             [
              0.4444444444444444,
              "#bd3786"
             ],
             [
              0.5555555555555556,
              "#d8576b"
             ],
             [
              0.6666666666666666,
              "#ed7953"
             ],
             [
              0.7777777777777778,
              "#fb9f3a"
             ],
             [
              0.8888888888888888,
              "#fdca26"
             ],
             [
              1,
              "#f0f921"
             ]
            ],
            "type": "surface"
           }
          ],
          "table": [
           {
            "cells": {
             "fill": {
              "color": "#EBF0F8"
             },
             "line": {
              "color": "white"
             }
            },
            "header": {
             "fill": {
              "color": "#C8D4E3"
             },
             "line": {
              "color": "white"
             }
            },
            "type": "table"
           }
          ]
         },
         "layout": {
          "annotationdefaults": {
           "arrowcolor": "#2a3f5f",
           "arrowhead": 0,
           "arrowwidth": 1
          },
          "autotypenumbers": "strict",
          "coloraxis": {
           "colorbar": {
            "outlinewidth": 0,
            "ticks": ""
           }
          },
          "colorscale": {
           "diverging": [
            [
             0,
             "#8e0152"
            ],
            [
             0.1,
             "#c51b7d"
            ],
            [
             0.2,
             "#de77ae"
            ],
            [
             0.3,
             "#f1b6da"
            ],
            [
             0.4,
             "#fde0ef"
            ],
            [
             0.5,
             "#f7f7f7"
            ],
            [
             0.6,
             "#e6f5d0"
            ],
            [
             0.7,
             "#b8e186"
            ],
            [
             0.8,
             "#7fbc41"
            ],
            [
             0.9,
             "#4d9221"
            ],
            [
             1,
             "#276419"
            ]
           ],
           "sequential": [
            [
             0,
             "#0d0887"
            ],
            [
             0.1111111111111111,
             "#46039f"
            ],
            [
             0.2222222222222222,
             "#7201a8"
            ],
            [
             0.3333333333333333,
             "#9c179e"
            ],
            [
             0.4444444444444444,
             "#bd3786"
            ],
            [
             0.5555555555555556,
             "#d8576b"
            ],
            [
             0.6666666666666666,
             "#ed7953"
            ],
            [
             0.7777777777777778,
             "#fb9f3a"
            ],
            [
             0.8888888888888888,
             "#fdca26"
            ],
            [
             1,
             "#f0f921"
            ]
           ],
           "sequentialminus": [
            [
             0,
             "#0d0887"
            ],
            [
             0.1111111111111111,
             "#46039f"
            ],
            [
             0.2222222222222222,
             "#7201a8"
            ],
            [
             0.3333333333333333,
             "#9c179e"
            ],
            [
             0.4444444444444444,
             "#bd3786"
            ],
            [
             0.5555555555555556,
             "#d8576b"
            ],
            [
             0.6666666666666666,
             "#ed7953"
            ],
            [
             0.7777777777777778,
             "#fb9f3a"
            ],
            [
             0.8888888888888888,
             "#fdca26"
            ],
            [
             1,
             "#f0f921"
            ]
           ]
          },
          "colorway": [
           "#636efa",
           "#EF553B",
           "#00cc96",
           "#ab63fa",
           "#FFA15A",
           "#19d3f3",
           "#FF6692",
           "#B6E880",
           "#FF97FF",
           "#FECB52"
          ],
          "font": {
           "color": "#2a3f5f"
          },
          "geo": {
           "bgcolor": "white",
           "lakecolor": "white",
           "landcolor": "#E5ECF6",
           "showlakes": true,
           "showland": true,
           "subunitcolor": "white"
          },
          "hoverlabel": {
           "align": "left"
          },
          "hovermode": "closest",
          "mapbox": {
           "style": "light"
          },
          "paper_bgcolor": "white",
          "plot_bgcolor": "#E5ECF6",
          "polar": {
           "angularaxis": {
            "gridcolor": "white",
            "linecolor": "white",
            "ticks": ""
           },
           "bgcolor": "#E5ECF6",
           "radialaxis": {
            "gridcolor": "white",
            "linecolor": "white",
            "ticks": ""
           }
          },
          "scene": {
           "xaxis": {
            "backgroundcolor": "#E5ECF6",
            "gridcolor": "white",
            "gridwidth": 2,
            "linecolor": "white",
            "showbackground": true,
            "ticks": "",
            "zerolinecolor": "white"
           },
           "yaxis": {
            "backgroundcolor": "#E5ECF6",
            "gridcolor": "white",
            "gridwidth": 2,
            "linecolor": "white",
            "showbackground": true,
            "ticks": "",
            "zerolinecolor": "white"
           },
           "zaxis": {
            "backgroundcolor": "#E5ECF6",
            "gridcolor": "white",
            "gridwidth": 2,
            "linecolor": "white",
            "showbackground": true,
            "ticks": "",
            "zerolinecolor": "white"
           }
          },
          "shapedefaults": {
           "line": {
            "color": "#2a3f5f"
           }
          },
          "ternary": {
           "aaxis": {
            "gridcolor": "white",
            "linecolor": "white",
            "ticks": ""
           },
           "baxis": {
            "gridcolor": "white",
            "linecolor": "white",
            "ticks": ""
           },
           "bgcolor": "#E5ECF6",
           "caxis": {
            "gridcolor": "white",
            "linecolor": "white",
            "ticks": ""
           }
          },
          "title": {
           "x": 0.05
          },
          "xaxis": {
           "automargin": true,
           "gridcolor": "white",
           "linecolor": "white",
           "ticks": "",
           "title": {
            "standoff": 15
           },
           "zerolinecolor": "white",
           "zerolinewidth": 2
          },
          "yaxis": {
           "automargin": true,
           "gridcolor": "white",
           "linecolor": "white",
           "ticks": "",
           "title": {
            "standoff": 15
           },
           "zerolinecolor": "white",
           "zerolinewidth": 2
          }
         }
        },
        "xaxis": {
         "anchor": "y",
         "domain": [
          0,
          1
         ],
         "title": {
          "text": "album_release_year"
         }
        },
        "yaxis": {
         "anchor": "x",
         "domain": [
          0,
          1
         ],
         "title": {
          "text": "gloom_index"
         }
        }
       }
      }
     },
     "metadata": {},
     "output_type": "display_data"
    }
   ],
   "source": [
    "# Gloom index of songs\n",
    "fig = px.box(df, x='album_release_year', y='gloom_index')\n",
    "fig.show()"
   ]
  },
  {
   "cell_type": "code",
   "execution_count": 90,
   "metadata": {},
   "outputs": [
    {
     "data": {
      "application/vnd.plotly.v1+json": {
       "config": {
        "plotlyServerURL": "https://plot.ly"
       },
       "data": [
        {
         "type": "bar",
         "x": [
          1993,
          1995,
          1997,
          2000,
          2001,
          2003,
          2007,
          2011,
          2016
         ],
         "y": [
          52.916666666666664,
          69.5,
          71.41666666666667,
          44.77777777777778,
          49.6,
          66.28571428571429,
          66.6,
          49.625,
          58.63636363636363
         ]
        }
       ],
       "layout": {
        "height": 600,
        "template": {
         "data": {
          "bar": [
           {
            "error_x": {
             "color": "#2a3f5f"
            },
            "error_y": {
             "color": "#2a3f5f"
            },
            "marker": {
             "line": {
              "color": "#E5ECF6",
              "width": 0.5
             },
             "pattern": {
              "fillmode": "overlay",
              "size": 10,
              "solidity": 0.2
             }
            },
            "type": "bar"
           }
          ],
          "barpolar": [
           {
            "marker": {
             "line": {
              "color": "#E5ECF6",
              "width": 0.5
             },
             "pattern": {
              "fillmode": "overlay",
              "size": 10,
              "solidity": 0.2
             }
            },
            "type": "barpolar"
           }
          ],
          "carpet": [
           {
            "aaxis": {
             "endlinecolor": "#2a3f5f",
             "gridcolor": "white",
             "linecolor": "white",
             "minorgridcolor": "white",
             "startlinecolor": "#2a3f5f"
            },
            "baxis": {
             "endlinecolor": "#2a3f5f",
             "gridcolor": "white",
             "linecolor": "white",
             "minorgridcolor": "white",
             "startlinecolor": "#2a3f5f"
            },
            "type": "carpet"
           }
          ],
          "choropleth": [
           {
            "colorbar": {
             "outlinewidth": 0,
             "ticks": ""
            },
            "type": "choropleth"
           }
          ],
          "contour": [
           {
            "colorbar": {
             "outlinewidth": 0,
             "ticks": ""
            },
            "colorscale": [
             [
              0,
              "#0d0887"
             ],
             [
              0.1111111111111111,
              "#46039f"
             ],
             [
              0.2222222222222222,
              "#7201a8"
             ],
             [
              0.3333333333333333,
              "#9c179e"
             ],
             [
              0.4444444444444444,
              "#bd3786"
             ],
             [
              0.5555555555555556,
              "#d8576b"
             ],
             [
              0.6666666666666666,
              "#ed7953"
             ],
             [
              0.7777777777777778,
              "#fb9f3a"
             ],
             [
              0.8888888888888888,
              "#fdca26"
             ],
             [
              1,
              "#f0f921"
             ]
            ],
            "type": "contour"
           }
          ],
          "contourcarpet": [
           {
            "colorbar": {
             "outlinewidth": 0,
             "ticks": ""
            },
            "type": "contourcarpet"
           }
          ],
          "heatmap": [
           {
            "colorbar": {
             "outlinewidth": 0,
             "ticks": ""
            },
            "colorscale": [
             [
              0,
              "#0d0887"
             ],
             [
              0.1111111111111111,
              "#46039f"
             ],
             [
              0.2222222222222222,
              "#7201a8"
             ],
             [
              0.3333333333333333,
              "#9c179e"
             ],
             [
              0.4444444444444444,
              "#bd3786"
             ],
             [
              0.5555555555555556,
              "#d8576b"
             ],
             [
              0.6666666666666666,
              "#ed7953"
             ],
             [
              0.7777777777777778,
              "#fb9f3a"
             ],
             [
              0.8888888888888888,
              "#fdca26"
             ],
             [
              1,
              "#f0f921"
             ]
            ],
            "type": "heatmap"
           }
          ],
          "heatmapgl": [
           {
            "colorbar": {
             "outlinewidth": 0,
             "ticks": ""
            },
            "colorscale": [
             [
              0,
              "#0d0887"
             ],
             [
              0.1111111111111111,
              "#46039f"
             ],
             [
              0.2222222222222222,
              "#7201a8"
             ],
             [
              0.3333333333333333,
              "#9c179e"
             ],
             [
              0.4444444444444444,
              "#bd3786"
             ],
             [
              0.5555555555555556,
              "#d8576b"
             ],
             [
              0.6666666666666666,
              "#ed7953"
             ],
             [
              0.7777777777777778,
              "#fb9f3a"
             ],
             [
              0.8888888888888888,
              "#fdca26"
             ],
             [
              1,
              "#f0f921"
             ]
            ],
            "type": "heatmapgl"
           }
          ],
          "histogram": [
           {
            "marker": {
             "pattern": {
              "fillmode": "overlay",
              "size": 10,
              "solidity": 0.2
             }
            },
            "type": "histogram"
           }
          ],
          "histogram2d": [
           {
            "colorbar": {
             "outlinewidth": 0,
             "ticks": ""
            },
            "colorscale": [
             [
              0,
              "#0d0887"
             ],
             [
              0.1111111111111111,
              "#46039f"
             ],
             [
              0.2222222222222222,
              "#7201a8"
             ],
             [
              0.3333333333333333,
              "#9c179e"
             ],
             [
              0.4444444444444444,
              "#bd3786"
             ],
             [
              0.5555555555555556,
              "#d8576b"
             ],
             [
              0.6666666666666666,
              "#ed7953"
             ],
             [
              0.7777777777777778,
              "#fb9f3a"
             ],
             [
              0.8888888888888888,
              "#fdca26"
             ],
             [
              1,
              "#f0f921"
             ]
            ],
            "type": "histogram2d"
           }
          ],
          "histogram2dcontour": [
           {
            "colorbar": {
             "outlinewidth": 0,
             "ticks": ""
            },
            "colorscale": [
             [
              0,
              "#0d0887"
             ],
             [
              0.1111111111111111,
              "#46039f"
             ],
             [
              0.2222222222222222,
              "#7201a8"
             ],
             [
              0.3333333333333333,
              "#9c179e"
             ],
             [
              0.4444444444444444,
              "#bd3786"
             ],
             [
              0.5555555555555556,
              "#d8576b"
             ],
             [
              0.6666666666666666,
              "#ed7953"
             ],
             [
              0.7777777777777778,
              "#fb9f3a"
             ],
             [
              0.8888888888888888,
              "#fdca26"
             ],
             [
              1,
              "#f0f921"
             ]
            ],
            "type": "histogram2dcontour"
           }
          ],
          "mesh3d": [
           {
            "colorbar": {
             "outlinewidth": 0,
             "ticks": ""
            },
            "type": "mesh3d"
           }
          ],
          "parcoords": [
           {
            "line": {
             "colorbar": {
              "outlinewidth": 0,
              "ticks": ""
             }
            },
            "type": "parcoords"
           }
          ],
          "pie": [
           {
            "automargin": true,
            "type": "pie"
           }
          ],
          "scatter": [
           {
            "fillpattern": {
             "fillmode": "overlay",
             "size": 10,
             "solidity": 0.2
            },
            "type": "scatter"
           }
          ],
          "scatter3d": [
           {
            "line": {
             "colorbar": {
              "outlinewidth": 0,
              "ticks": ""
             }
            },
            "marker": {
             "colorbar": {
              "outlinewidth": 0,
              "ticks": ""
             }
            },
            "type": "scatter3d"
           }
          ],
          "scattercarpet": [
           {
            "marker": {
             "colorbar": {
              "outlinewidth": 0,
              "ticks": ""
             }
            },
            "type": "scattercarpet"
           }
          ],
          "scattergeo": [
           {
            "marker": {
             "colorbar": {
              "outlinewidth": 0,
              "ticks": ""
             }
            },
            "type": "scattergeo"
           }
          ],
          "scattergl": [
           {
            "marker": {
             "colorbar": {
              "outlinewidth": 0,
              "ticks": ""
             }
            },
            "type": "scattergl"
           }
          ],
          "scattermapbox": [
           {
            "marker": {
             "colorbar": {
              "outlinewidth": 0,
              "ticks": ""
             }
            },
            "type": "scattermapbox"
           }
          ],
          "scatterpolar": [
           {
            "marker": {
             "colorbar": {
              "outlinewidth": 0,
              "ticks": ""
             }
            },
            "type": "scatterpolar"
           }
          ],
          "scatterpolargl": [
           {
            "marker": {
             "colorbar": {
              "outlinewidth": 0,
              "ticks": ""
             }
            },
            "type": "scatterpolargl"
           }
          ],
          "scatterternary": [
           {
            "marker": {
             "colorbar": {
              "outlinewidth": 0,
              "ticks": ""
             }
            },
            "type": "scatterternary"
           }
          ],
          "surface": [
           {
            "colorbar": {
             "outlinewidth": 0,
             "ticks": ""
            },
            "colorscale": [
             [
              0,
              "#0d0887"
             ],
             [
              0.1111111111111111,
              "#46039f"
             ],
             [
              0.2222222222222222,
              "#7201a8"
             ],
             [
              0.3333333333333333,
              "#9c179e"
             ],
             [
              0.4444444444444444,
              "#bd3786"
             ],
             [
              0.5555555555555556,
              "#d8576b"
             ],
             [
              0.6666666666666666,
              "#ed7953"
             ],
             [
              0.7777777777777778,
              "#fb9f3a"
             ],
             [
              0.8888888888888888,
              "#fdca26"
             ],
             [
              1,
              "#f0f921"
             ]
            ],
            "type": "surface"
           }
          ],
          "table": [
           {
            "cells": {
             "fill": {
              "color": "#EBF0F8"
             },
             "line": {
              "color": "white"
             }
            },
            "header": {
             "fill": {
              "color": "#C8D4E3"
             },
             "line": {
              "color": "white"
             }
            },
            "type": "table"
           }
          ]
         },
         "layout": {
          "annotationdefaults": {
           "arrowcolor": "#2a3f5f",
           "arrowhead": 0,
           "arrowwidth": 1
          },
          "autotypenumbers": "strict",
          "coloraxis": {
           "colorbar": {
            "outlinewidth": 0,
            "ticks": ""
           }
          },
          "colorscale": {
           "diverging": [
            [
             0,
             "#8e0152"
            ],
            [
             0.1,
             "#c51b7d"
            ],
            [
             0.2,
             "#de77ae"
            ],
            [
             0.3,
             "#f1b6da"
            ],
            [
             0.4,
             "#fde0ef"
            ],
            [
             0.5,
             "#f7f7f7"
            ],
            [
             0.6,
             "#e6f5d0"
            ],
            [
             0.7,
             "#b8e186"
            ],
            [
             0.8,
             "#7fbc41"
            ],
            [
             0.9,
             "#4d9221"
            ],
            [
             1,
             "#276419"
            ]
           ],
           "sequential": [
            [
             0,
             "#0d0887"
            ],
            [
             0.1111111111111111,
             "#46039f"
            ],
            [
             0.2222222222222222,
             "#7201a8"
            ],
            [
             0.3333333333333333,
             "#9c179e"
            ],
            [
             0.4444444444444444,
             "#bd3786"
            ],
            [
             0.5555555555555556,
             "#d8576b"
            ],
            [
             0.6666666666666666,
             "#ed7953"
            ],
            [
             0.7777777777777778,
             "#fb9f3a"
            ],
            [
             0.8888888888888888,
             "#fdca26"
            ],
            [
             1,
             "#f0f921"
            ]
           ],
           "sequentialminus": [
            [
             0,
             "#0d0887"
            ],
            [
             0.1111111111111111,
             "#46039f"
            ],
            [
             0.2222222222222222,
             "#7201a8"
            ],
            [
             0.3333333333333333,
             "#9c179e"
            ],
            [
             0.4444444444444444,
             "#bd3786"
            ],
            [
             0.5555555555555556,
             "#d8576b"
            ],
            [
             0.6666666666666666,
             "#ed7953"
            ],
            [
             0.7777777777777778,
             "#fb9f3a"
            ],
            [
             0.8888888888888888,
             "#fdca26"
            ],
            [
             1,
             "#f0f921"
            ]
           ]
          },
          "colorway": [
           "#636efa",
           "#EF553B",
           "#00cc96",
           "#ab63fa",
           "#FFA15A",
           "#19d3f3",
           "#FF6692",
           "#B6E880",
           "#FF97FF",
           "#FECB52"
          ],
          "font": {
           "color": "#2a3f5f"
          },
          "geo": {
           "bgcolor": "white",
           "lakecolor": "white",
           "landcolor": "#E5ECF6",
           "showlakes": true,
           "showland": true,
           "subunitcolor": "white"
          },
          "hoverlabel": {
           "align": "left"
          },
          "hovermode": "closest",
          "mapbox": {
           "style": "light"
          },
          "paper_bgcolor": "white",
          "plot_bgcolor": "#E5ECF6",
          "polar": {
           "angularaxis": {
            "gridcolor": "white",
            "linecolor": "white",
            "ticks": ""
           },
           "bgcolor": "#E5ECF6",
           "radialaxis": {
            "gridcolor": "white",
            "linecolor": "white",
            "ticks": ""
           }
          },
          "scene": {
           "xaxis": {
            "backgroundcolor": "#E5ECF6",
            "gridcolor": "white",
            "gridwidth": 2,
            "linecolor": "white",
            "showbackground": true,
            "ticks": "",
            "zerolinecolor": "white"
           },
           "yaxis": {
            "backgroundcolor": "#E5ECF6",
            "gridcolor": "white",
            "gridwidth": 2,
            "linecolor": "white",
            "showbackground": true,
            "ticks": "",
            "zerolinecolor": "white"
           },
           "zaxis": {
            "backgroundcolor": "#E5ECF6",
            "gridcolor": "white",
            "gridwidth": 2,
            "linecolor": "white",
            "showbackground": true,
            "ticks": "",
            "zerolinecolor": "white"
           }
          },
          "shapedefaults": {
           "line": {
            "color": "#2a3f5f"
           }
          },
          "ternary": {
           "aaxis": {
            "gridcolor": "white",
            "linecolor": "white",
            "ticks": ""
           },
           "baxis": {
            "gridcolor": "white",
            "linecolor": "white",
            "ticks": ""
           },
           "bgcolor": "#E5ECF6",
           "caxis": {
            "gridcolor": "white",
            "linecolor": "white",
            "ticks": ""
           }
          },
          "title": {
           "x": 0.05
          },
          "xaxis": {
           "automargin": true,
           "gridcolor": "white",
           "linecolor": "white",
           "ticks": "",
           "title": {
            "standoff": 15
           },
           "zerolinecolor": "white",
           "zerolinewidth": 2
          },
          "yaxis": {
           "automargin": true,
           "gridcolor": "white",
           "linecolor": "white",
           "ticks": "",
           "title": {
            "standoff": 15
           },
           "zerolinecolor": "white",
           "zerolinewidth": 2
          }
         }
        },
        "width": 800
       }
      }
     },
     "metadata": {},
     "output_type": "display_data"
    }
   ],
   "source": [
    "# Songs by unique tokens\n",
    "df_w_tokens['unique_tokens_count'] = df_w_tokens['tokens'].apply(lambda x: len(set(x)))\n",
    "y = df_w_tokens.groupby('album_release_year')['unique_tokens_count'].mean()\n",
    "\n",
    "fig = go.Figure(\n",
    "    data=[go.Bar(x=df_w_tokens['album_release_year'].drop_duplicates(), y=y)],\n",
    "    layout=go.Layout(height=600, width=800)\n",
    ")\n",
    "fig.show()"
   ]
  },
  {
   "cell_type": "code",
   "execution_count": 96,
   "metadata": {},
   "outputs": [
    {
     "data": {
      "application/vnd.plotly.v1+json": {
       "config": {
        "plotlyServerURL": "https://plot.ly"
       },
       "data": [
        {
         "alignmentgroup": "True",
         "customdata": [
          [
           "You",
           50.39
          ],
          [
           "Creep",
           22.6
          ],
          [
           "How Do You?",
           36.56
          ],
          [
           "Stop Whispering",
           43.48
          ],
          [
           "Thinking About You",
           60.8
          ],
          [
           "Anyone Can Play Guitar",
           72.23
          ],
          [
           "Ripcord",
           40.56
          ],
          [
           "Vegetable",
           54.45
          ],
          [
           "Prove Yourself",
           44.68
          ],
          [
           "I Can't",
           32.33
          ],
          [
           "Lurgee",
           58.06
          ],
          [
           "Blow Out",
           46.08
          ],
          [
           "Planet Telex",
           26.99
          ],
          [
           "The Bends",
           48.25
          ],
          [
           "High And Dry",
           15.69
          ],
          [
           "Fake Plastic Trees",
           27.7
          ],
          [
           "Bones",
           55.99
          ],
          [
           "(Nice Dream)",
           57.42
          ],
          [
           "Just",
           44.21
          ],
          [
           "My Iron Lung",
           73.76
          ],
          [
           "Bullet Proof ... I Wish I Was",
           22.69
          ],
          [
           "Black Star",
           31.07
          ],
          [
           "Sulk",
           76.63
          ],
          [
           "Street Spirit (Fade Out)",
           29.71
          ],
          [
           "Airbag",
           81.18
          ],
          [
           "Paranoid Android",
           40.98
          ],
          [
           "Subterranean Homesick Alien",
           49.68
          ],
          [
           "Exit Music (For a Film)",
           14.57
          ],
          [
           "Let Down",
           13.7
          ],
          [
           "Karma Police",
           27.77
          ],
          [
           "Fitter Happier",
           75.23
          ],
          [
           "Electioneering",
           45.81
          ],
          [
           "Climbing Up the Walls",
           34.61
          ],
          [
           "No Surprises",
           29.34
          ],
          [
           "Lucky",
           35.17
          ],
          [
           "The Tourist",
           22.52
          ],
          [
           "Everything In Its Right Place",
           27.87
          ],
          [
           "Kid A",
           33.78
          ],
          [
           "The National Anthem",
           57.7
          ],
          [
           "How To Disappear Completely",
           40.98
          ],
          [
           "Optimistic",
           72.09
          ],
          [
           "In Limbo",
           61.5
          ],
          [
           "Idioteque",
           71.77
          ],
          [
           "Morning Bell",
           56.37
          ],
          [
           "Motion Picture Soundtrack",
           9.35
          ],
          [
           "Packt Like Sardines In a Crushed Tin Box",
           80.63
          ],
          [
           "Pyramid Song",
           14.15
          ],
          [
           "Pulk/Pull Revolving Doors",
           34.86
          ],
          [
           "You And Whose Army?",
           30.86
          ],
          [
           "I Might Be Wrong",
           68.84
          ],
          [
           "Knives Out",
           39.06
          ],
          [
           "Morning Bell/Amnesiac",
           42.44
          ],
          [
           "Dollars & Cents",
           15.29
          ],
          [
           "Like Spinning Plates",
           41.71
          ],
          [
           "Life In a Glasshouse",
           20.54
          ],
          [
           "2 + 2 = 5",
           47.4
          ],
          [
           "Sit Down. Stand Up",
           68.61
          ],
          [
           "Sail To The Moon",
           26.71
          ],
          [
           "Backdrifts",
           57.99
          ],
          [
           "Go To Sleep",
           82.28
          ],
          [
           "Where I End and You Begin",
           64.23
          ],
          [
           "We Suck Young Blood",
           16.21
          ],
          [
           "The Gloaming",
           26.5
          ],
          [
           "There, There",
           72.34
          ],
          [
           "I Will",
           34.14
          ],
          [
           "A Punch Up At a Wedding",
           53.88
          ],
          [
           "Myxomatosis",
           70.4
          ],
          [
           "Scatterbrain",
           40.64
          ],
          [
           "A Wolf At the Door",
           50.8
          ],
          [
           "15 Step",
           100
          ],
          [
           "Bodysnatchers",
           88.4
          ],
          [
           "Nude",
           26.62
          ],
          [
           "Weird Fishes/ Arpeggi",
           25.1
          ],
          [
           "All I Need",
           31.03
          ],
          [
           "Faust Arp",
           40.71
          ],
          [
           "Reckoner",
           37.95
          ],
          [
           "House Of Cards",
           72.43
          ],
          [
           "Jigsaw Falling Into Place",
           84.85
          ],
          [
           "Videotape",
           16.03
          ],
          [
           "Bloom",
           48.55
          ],
          [
           "Morning Mr Magpie",
           59.71
          ],
          [
           "Little By Little",
           59.9
          ],
          [
           "Feral",
           91.14
          ],
          [
           "Lotus Flower",
           67.59
          ],
          [
           "Codex",
           21.86
          ],
          [
           "Give Up The Ghost",
           6.46
          ],
          [
           "Separator",
           69.83
          ],
          [
           "Burn the Witch",
           70.19
          ],
          [
           "Daydreaming",
           28.84
          ],
          [
           "Decks Dark",
           41.09
          ],
          [
           "Desert Island Disk",
           36.5
          ],
          [
           "Ful Stop",
           38.88
          ],
          [
           "Glass Eyes",
           28.27
          ],
          [
           "Identikit",
           32.25
          ],
          [
           "The Numbers",
           22.82
          ],
          [
           "Present Tense",
           35.56
          ],
          [
           "Tinker Tailor Soldier Sailor Rich Man Poor Man Beggar Man Thief",
           15.8
          ],
          [
           "True Love Waits",
           1
          ]
         ],
         "hovertemplate": "album_release_year=%{x}<br>unique_tokens_count=%{y}<br>track_name=%{customdata[0]}<br>gloom_index=%{customdata[1]}<extra></extra>",
         "legendgroup": "",
         "marker": {
          "color": "#636efa"
         },
         "name": "",
         "notched": false,
         "offsetgroup": "",
         "orientation": "v",
         "showlegend": false,
         "type": "box",
         "x": [
          1993,
          1993,
          1993,
          1993,
          1993,
          1993,
          1993,
          1993,
          1993,
          1993,
          1993,
          1993,
          1995,
          1995,
          1995,
          1995,
          1995,
          1995,
          1995,
          1995,
          1995,
          1995,
          1995,
          1995,
          1997,
          1997,
          1997,
          1997,
          1997,
          1997,
          1997,
          1997,
          1997,
          1997,
          1997,
          1997,
          2000,
          2000,
          2000,
          2000,
          2000,
          2000,
          2000,
          2000,
          2000,
          2001,
          2001,
          2001,
          2001,
          2001,
          2001,
          2001,
          2001,
          2001,
          2001,
          2003,
          2003,
          2003,
          2003,
          2003,
          2003,
          2003,
          2003,
          2003,
          2003,
          2003,
          2003,
          2003,
          2003,
          2007,
          2007,
          2007,
          2007,
          2007,
          2007,
          2007,
          2007,
          2007,
          2007,
          2011,
          2011,
          2011,
          2011,
          2011,
          2011,
          2011,
          2011,
          2016,
          2016,
          2016,
          2016,
          2016,
          2016,
          2016,
          2016,
          2016,
          2016,
          2016
         ],
         "x0": " ",
         "xaxis": "x",
         "y": [
          45,
          67,
          52,
          59,
          80,
          55,
          49,
          66,
          45,
          56,
          27,
          34,
          43,
          110,
          91,
          76,
          50,
          51,
          67,
          92,
          47,
          82,
          58,
          67,
          42,
          87,
          96,
          58,
          75,
          60,
          158,
          38,
          87,
          61,
          54,
          41,
          31,
          34,
          14,
          42,
          70,
          46,
          64,
          55,
          47,
          30,
          44,
          31,
          29,
          55,
          63,
          45,
          88,
          37,
          74,
          95,
          23,
          39,
          67,
          62,
          62,
          44,
          49,
          56,
          37,
          73,
          104,
          57,
          160,
          60,
          93,
          49,
          52,
          53,
          83,
          38,
          51,
          112,
          75,
          48,
          35,
          70,
          18,
          80,
          30,
          28,
          88,
          52,
          42,
          84,
          62,
          43,
          68,
          55,
          77,
          69,
          55,
          38
         ],
         "y0": " ",
         "yaxis": "y"
        }
       ],
       "layout": {
        "boxmode": "group",
        "legend": {
         "tracegroupgap": 0
        },
        "margin": {
         "t": 60
        },
        "template": {
         "data": {
          "bar": [
           {
            "error_x": {
             "color": "#2a3f5f"
            },
            "error_y": {
             "color": "#2a3f5f"
            },
            "marker": {
             "line": {
              "color": "#E5ECF6",
              "width": 0.5
             },
             "pattern": {
              "fillmode": "overlay",
              "size": 10,
              "solidity": 0.2
             }
            },
            "type": "bar"
           }
          ],
          "barpolar": [
           {
            "marker": {
             "line": {
              "color": "#E5ECF6",
              "width": 0.5
             },
             "pattern": {
              "fillmode": "overlay",
              "size": 10,
              "solidity": 0.2
             }
            },
            "type": "barpolar"
           }
          ],
          "carpet": [
           {
            "aaxis": {
             "endlinecolor": "#2a3f5f",
             "gridcolor": "white",
             "linecolor": "white",
             "minorgridcolor": "white",
             "startlinecolor": "#2a3f5f"
            },
            "baxis": {
             "endlinecolor": "#2a3f5f",
             "gridcolor": "white",
             "linecolor": "white",
             "minorgridcolor": "white",
             "startlinecolor": "#2a3f5f"
            },
            "type": "carpet"
           }
          ],
          "choropleth": [
           {
            "colorbar": {
             "outlinewidth": 0,
             "ticks": ""
            },
            "type": "choropleth"
           }
          ],
          "contour": [
           {
            "colorbar": {
             "outlinewidth": 0,
             "ticks": ""
            },
            "colorscale": [
             [
              0,
              "#0d0887"
             ],
             [
              0.1111111111111111,
              "#46039f"
             ],
             [
              0.2222222222222222,
              "#7201a8"
             ],
             [
              0.3333333333333333,
              "#9c179e"
             ],
             [
              0.4444444444444444,
              "#bd3786"
             ],
             [
              0.5555555555555556,
              "#d8576b"
             ],
             [
              0.6666666666666666,
              "#ed7953"
             ],
             [
              0.7777777777777778,
              "#fb9f3a"
             ],
             [
              0.8888888888888888,
              "#fdca26"
             ],
             [
              1,
              "#f0f921"
             ]
            ],
            "type": "contour"
           }
          ],
          "contourcarpet": [
           {
            "colorbar": {
             "outlinewidth": 0,
             "ticks": ""
            },
            "type": "contourcarpet"
           }
          ],
          "heatmap": [
           {
            "colorbar": {
             "outlinewidth": 0,
             "ticks": ""
            },
            "colorscale": [
             [
              0,
              "#0d0887"
             ],
             [
              0.1111111111111111,
              "#46039f"
             ],
             [
              0.2222222222222222,
              "#7201a8"
             ],
             [
              0.3333333333333333,
              "#9c179e"
             ],
             [
              0.4444444444444444,
              "#bd3786"
             ],
             [
              0.5555555555555556,
              "#d8576b"
             ],
             [
              0.6666666666666666,
              "#ed7953"
             ],
             [
              0.7777777777777778,
              "#fb9f3a"
             ],
             [
              0.8888888888888888,
              "#fdca26"
             ],
             [
              1,
              "#f0f921"
             ]
            ],
            "type": "heatmap"
           }
          ],
          "heatmapgl": [
           {
            "colorbar": {
             "outlinewidth": 0,
             "ticks": ""
            },
            "colorscale": [
             [
              0,
              "#0d0887"
             ],
             [
              0.1111111111111111,
              "#46039f"
             ],
             [
              0.2222222222222222,
              "#7201a8"
             ],
             [
              0.3333333333333333,
              "#9c179e"
             ],
             [
              0.4444444444444444,
              "#bd3786"
             ],
             [
              0.5555555555555556,
              "#d8576b"
             ],
             [
              0.6666666666666666,
              "#ed7953"
             ],
             [
              0.7777777777777778,
              "#fb9f3a"
             ],
             [
              0.8888888888888888,
              "#fdca26"
             ],
             [
              1,
              "#f0f921"
             ]
            ],
            "type": "heatmapgl"
           }
          ],
          "histogram": [
           {
            "marker": {
             "pattern": {
              "fillmode": "overlay",
              "size": 10,
              "solidity": 0.2
             }
            },
            "type": "histogram"
           }
          ],
          "histogram2d": [
           {
            "colorbar": {
             "outlinewidth": 0,
             "ticks": ""
            },
            "colorscale": [
             [
              0,
              "#0d0887"
             ],
             [
              0.1111111111111111,
              "#46039f"
             ],
             [
              0.2222222222222222,
              "#7201a8"
             ],
             [
              0.3333333333333333,
              "#9c179e"
             ],
             [
              0.4444444444444444,
              "#bd3786"
             ],
             [
              0.5555555555555556,
              "#d8576b"
             ],
             [
              0.6666666666666666,
              "#ed7953"
             ],
             [
              0.7777777777777778,
              "#fb9f3a"
             ],
             [
              0.8888888888888888,
              "#fdca26"
             ],
             [
              1,
              "#f0f921"
             ]
            ],
            "type": "histogram2d"
           }
          ],
          "histogram2dcontour": [
           {
            "colorbar": {
             "outlinewidth": 0,
             "ticks": ""
            },
            "colorscale": [
             [
              0,
              "#0d0887"
             ],
             [
              0.1111111111111111,
              "#46039f"
             ],
             [
              0.2222222222222222,
              "#7201a8"
             ],
             [
              0.3333333333333333,
              "#9c179e"
             ],
             [
              0.4444444444444444,
              "#bd3786"
             ],
             [
              0.5555555555555556,
              "#d8576b"
             ],
             [
              0.6666666666666666,
              "#ed7953"
             ],
             [
              0.7777777777777778,
              "#fb9f3a"
             ],
             [
              0.8888888888888888,
              "#fdca26"
             ],
             [
              1,
              "#f0f921"
             ]
            ],
            "type": "histogram2dcontour"
           }
          ],
          "mesh3d": [
           {
            "colorbar": {
             "outlinewidth": 0,
             "ticks": ""
            },
            "type": "mesh3d"
           }
          ],
          "parcoords": [
           {
            "line": {
             "colorbar": {
              "outlinewidth": 0,
              "ticks": ""
             }
            },
            "type": "parcoords"
           }
          ],
          "pie": [
           {
            "automargin": true,
            "type": "pie"
           }
          ],
          "scatter": [
           {
            "fillpattern": {
             "fillmode": "overlay",
             "size": 10,
             "solidity": 0.2
            },
            "type": "scatter"
           }
          ],
          "scatter3d": [
           {
            "line": {
             "colorbar": {
              "outlinewidth": 0,
              "ticks": ""
             }
            },
            "marker": {
             "colorbar": {
              "outlinewidth": 0,
              "ticks": ""
             }
            },
            "type": "scatter3d"
           }
          ],
          "scattercarpet": [
           {
            "marker": {
             "colorbar": {
              "outlinewidth": 0,
              "ticks": ""
             }
            },
            "type": "scattercarpet"
           }
          ],
          "scattergeo": [
           {
            "marker": {
             "colorbar": {
              "outlinewidth": 0,
              "ticks": ""
             }
            },
            "type": "scattergeo"
           }
          ],
          "scattergl": [
           {
            "marker": {
             "colorbar": {
              "outlinewidth": 0,
              "ticks": ""
             }
            },
            "type": "scattergl"
           }
          ],
          "scattermapbox": [
           {
            "marker": {
             "colorbar": {
              "outlinewidth": 0,
              "ticks": ""
             }
            },
            "type": "scattermapbox"
           }
          ],
          "scatterpolar": [
           {
            "marker": {
             "colorbar": {
              "outlinewidth": 0,
              "ticks": ""
             }
            },
            "type": "scatterpolar"
           }
          ],
          "scatterpolargl": [
           {
            "marker": {
             "colorbar": {
              "outlinewidth": 0,
              "ticks": ""
             }
            },
            "type": "scatterpolargl"
           }
          ],
          "scatterternary": [
           {
            "marker": {
             "colorbar": {
              "outlinewidth": 0,
              "ticks": ""
             }
            },
            "type": "scatterternary"
           }
          ],
          "surface": [
           {
            "colorbar": {
             "outlinewidth": 0,
             "ticks": ""
            },
            "colorscale": [
             [
              0,
              "#0d0887"
             ],
             [
              0.1111111111111111,
              "#46039f"
             ],
             [
              0.2222222222222222,
              "#7201a8"
             ],
             [
              0.3333333333333333,
              "#9c179e"
             ],
             [
              0.4444444444444444,
              "#bd3786"
             ],
             [
              0.5555555555555556,
              "#d8576b"
             ],
             [
              0.6666666666666666,
              "#ed7953"
             ],
             [
              0.7777777777777778,
              "#fb9f3a"
             ],
             [
              0.8888888888888888,
              "#fdca26"
             ],
             [
              1,
              "#f0f921"
             ]
            ],
            "type": "surface"
           }
          ],
          "table": [
           {
            "cells": {
             "fill": {
              "color": "#EBF0F8"
             },
             "line": {
              "color": "white"
             }
            },
            "header": {
             "fill": {
              "color": "#C8D4E3"
             },
             "line": {
              "color": "white"
             }
            },
            "type": "table"
           }
          ]
         },
         "layout": {
          "annotationdefaults": {
           "arrowcolor": "#2a3f5f",
           "arrowhead": 0,
           "arrowwidth": 1
          },
          "autotypenumbers": "strict",
          "coloraxis": {
           "colorbar": {
            "outlinewidth": 0,
            "ticks": ""
           }
          },
          "colorscale": {
           "diverging": [
            [
             0,
             "#8e0152"
            ],
            [
             0.1,
             "#c51b7d"
            ],
            [
             0.2,
             "#de77ae"
            ],
            [
             0.3,
             "#f1b6da"
            ],
            [
             0.4,
             "#fde0ef"
            ],
            [
             0.5,
             "#f7f7f7"
            ],
            [
             0.6,
             "#e6f5d0"
            ],
            [
             0.7,
             "#b8e186"
            ],
            [
             0.8,
             "#7fbc41"
            ],
            [
             0.9,
             "#4d9221"
            ],
            [
             1,
             "#276419"
            ]
           ],
           "sequential": [
            [
             0,
             "#0d0887"
            ],
            [
             0.1111111111111111,
             "#46039f"
            ],
            [
             0.2222222222222222,
             "#7201a8"
            ],
            [
             0.3333333333333333,
             "#9c179e"
            ],
            [
             0.4444444444444444,
             "#bd3786"
            ],
            [
             0.5555555555555556,
             "#d8576b"
            ],
            [
             0.6666666666666666,
             "#ed7953"
            ],
            [
             0.7777777777777778,
             "#fb9f3a"
            ],
            [
             0.8888888888888888,
             "#fdca26"
            ],
            [
             1,
             "#f0f921"
            ]
           ],
           "sequentialminus": [
            [
             0,
             "#0d0887"
            ],
            [
             0.1111111111111111,
             "#46039f"
            ],
            [
             0.2222222222222222,
             "#7201a8"
            ],
            [
             0.3333333333333333,
             "#9c179e"
            ],
            [
             0.4444444444444444,
             "#bd3786"
            ],
            [
             0.5555555555555556,
             "#d8576b"
            ],
            [
             0.6666666666666666,
             "#ed7953"
            ],
            [
             0.7777777777777778,
             "#fb9f3a"
            ],
            [
             0.8888888888888888,
             "#fdca26"
            ],
            [
             1,
             "#f0f921"
            ]
           ]
          },
          "colorway": [
           "#636efa",
           "#EF553B",
           "#00cc96",
           "#ab63fa",
           "#FFA15A",
           "#19d3f3",
           "#FF6692",
           "#B6E880",
           "#FF97FF",
           "#FECB52"
          ],
          "font": {
           "color": "#2a3f5f"
          },
          "geo": {
           "bgcolor": "white",
           "lakecolor": "white",
           "landcolor": "#E5ECF6",
           "showlakes": true,
           "showland": true,
           "subunitcolor": "white"
          },
          "hoverlabel": {
           "align": "left"
          },
          "hovermode": "closest",
          "mapbox": {
           "style": "light"
          },
          "paper_bgcolor": "white",
          "plot_bgcolor": "#E5ECF6",
          "polar": {
           "angularaxis": {
            "gridcolor": "white",
            "linecolor": "white",
            "ticks": ""
           },
           "bgcolor": "#E5ECF6",
           "radialaxis": {
            "gridcolor": "white",
            "linecolor": "white",
            "ticks": ""
           }
          },
          "scene": {
           "xaxis": {
            "backgroundcolor": "#E5ECF6",
            "gridcolor": "white",
            "gridwidth": 2,
            "linecolor": "white",
            "showbackground": true,
            "ticks": "",
            "zerolinecolor": "white"
           },
           "yaxis": {
            "backgroundcolor": "#E5ECF6",
            "gridcolor": "white",
            "gridwidth": 2,
            "linecolor": "white",
            "showbackground": true,
            "ticks": "",
            "zerolinecolor": "white"
           },
           "zaxis": {
            "backgroundcolor": "#E5ECF6",
            "gridcolor": "white",
            "gridwidth": 2,
            "linecolor": "white",
            "showbackground": true,
            "ticks": "",
            "zerolinecolor": "white"
           }
          },
          "shapedefaults": {
           "line": {
            "color": "#2a3f5f"
           }
          },
          "ternary": {
           "aaxis": {
            "gridcolor": "white",
            "linecolor": "white",
            "ticks": ""
           },
           "baxis": {
            "gridcolor": "white",
            "linecolor": "white",
            "ticks": ""
           },
           "bgcolor": "#E5ECF6",
           "caxis": {
            "gridcolor": "white",
            "linecolor": "white",
            "ticks": ""
           }
          },
          "title": {
           "x": 0.05
          },
          "xaxis": {
           "automargin": true,
           "gridcolor": "white",
           "linecolor": "white",
           "ticks": "",
           "title": {
            "standoff": 15
           },
           "zerolinecolor": "white",
           "zerolinewidth": 2
          },
          "yaxis": {
           "automargin": true,
           "gridcolor": "white",
           "linecolor": "white",
           "ticks": "",
           "title": {
            "standoff": 15
           },
           "zerolinecolor": "white",
           "zerolinewidth": 2
          }
         }
        },
        "xaxis": {
         "anchor": "y",
         "domain": [
          0,
          1
         ],
         "title": {
          "text": "album_release_year"
         }
        },
        "yaxis": {
         "anchor": "x",
         "domain": [
          0,
          1
         ],
         "title": {
          "text": "unique_tokens_count"
         }
        }
       }
      }
     },
     "metadata": {},
     "output_type": "display_data"
    }
   ],
   "source": [
    "fig = px.box(df_w_tokens, x='album_release_year', y='unique_tokens_count',\n",
    "             hover_data=['track_name', 'gloom_index'])\n",
    "fig.show()"
   ]
  },
  {
   "cell_type": "code",
   "execution_count": 105,
   "metadata": {},
   "outputs": [
    {
     "data": {
      "application/vnd.plotly.v1+json": {
       "config": {
        "plotlyServerURL": "https://plot.ly"
       },
       "data": [
        {
         "customdata": [
          "Pablo Honey",
          "The Bends",
          "OK Computer",
          "Kid A",
          "Amnesiac",
          "Hail To the Thief",
          "In Rainbows",
          "The King Of Limbs",
          "A Moon Shaped Pool"
         ],
         "hovertemplate": "%{y}<br>Album name: %{customdata}<br>Year: %{x}",
         "name": "Mean of word counts",
         "type": "bar",
         "x": [
          1993,
          1995,
          1997,
          2000,
          2001,
          2003,
          2007,
          2011,
          2016
         ],
         "y": [
          34.5,
          49.75,
          51.5,
          39.22222222222222,
          35.4,
          58.92857142857143,
          41.3,
          40.375,
          56.09090909090909
         ]
        },
        {
         "customdata": [
          "Pablo Honey",
          "The Bends",
          "OK Computer",
          "Kid A",
          "Amnesiac",
          "Hail To the Thief",
          "In Rainbows",
          "The King Of Limbs",
          "A Moon Shaped Pool"
         ],
         "hovertemplate": "%{y}<br>Album name: %{customdata}<br>Year: %{x}",
         "name": "Mean of unique cleaned tokens",
         "type": "bar",
         "x": [
          1993,
          1995,
          1997,
          2000,
          2001,
          2003,
          2007,
          2011,
          2016
         ],
         "y": [
          52.916666666666664,
          69.5,
          71.41666666666667,
          44.77777777777778,
          49.6,
          66.28571428571429,
          66.6,
          49.625,
          58.63636363636363
         ]
        }
       ],
       "layout": {
        "barmode": "group",
        "template": {
         "data": {
          "bar": [
           {
            "error_x": {
             "color": "#2a3f5f"
            },
            "error_y": {
             "color": "#2a3f5f"
            },
            "marker": {
             "line": {
              "color": "#E5ECF6",
              "width": 0.5
             },
             "pattern": {
              "fillmode": "overlay",
              "size": 10,
              "solidity": 0.2
             }
            },
            "type": "bar"
           }
          ],
          "barpolar": [
           {
            "marker": {
             "line": {
              "color": "#E5ECF6",
              "width": 0.5
             },
             "pattern": {
              "fillmode": "overlay",
              "size": 10,
              "solidity": 0.2
             }
            },
            "type": "barpolar"
           }
          ],
          "carpet": [
           {
            "aaxis": {
             "endlinecolor": "#2a3f5f",
             "gridcolor": "white",
             "linecolor": "white",
             "minorgridcolor": "white",
             "startlinecolor": "#2a3f5f"
            },
            "baxis": {
             "endlinecolor": "#2a3f5f",
             "gridcolor": "white",
             "linecolor": "white",
             "minorgridcolor": "white",
             "startlinecolor": "#2a3f5f"
            },
            "type": "carpet"
           }
          ],
          "choropleth": [
           {
            "colorbar": {
             "outlinewidth": 0,
             "ticks": ""
            },
            "type": "choropleth"
           }
          ],
          "contour": [
           {
            "colorbar": {
             "outlinewidth": 0,
             "ticks": ""
            },
            "colorscale": [
             [
              0,
              "#0d0887"
             ],
             [
              0.1111111111111111,
              "#46039f"
             ],
             [
              0.2222222222222222,
              "#7201a8"
             ],
             [
              0.3333333333333333,
              "#9c179e"
             ],
             [
              0.4444444444444444,
              "#bd3786"
             ],
             [
              0.5555555555555556,
              "#d8576b"
             ],
             [
              0.6666666666666666,
              "#ed7953"
             ],
             [
              0.7777777777777778,
              "#fb9f3a"
             ],
             [
              0.8888888888888888,
              "#fdca26"
             ],
             [
              1,
              "#f0f921"
             ]
            ],
            "type": "contour"
           }
          ],
          "contourcarpet": [
           {
            "colorbar": {
             "outlinewidth": 0,
             "ticks": ""
            },
            "type": "contourcarpet"
           }
          ],
          "heatmap": [
           {
            "colorbar": {
             "outlinewidth": 0,
             "ticks": ""
            },
            "colorscale": [
             [
              0,
              "#0d0887"
             ],
             [
              0.1111111111111111,
              "#46039f"
             ],
             [
              0.2222222222222222,
              "#7201a8"
             ],
             [
              0.3333333333333333,
              "#9c179e"
             ],
             [
              0.4444444444444444,
              "#bd3786"
             ],
             [
              0.5555555555555556,
              "#d8576b"
             ],
             [
              0.6666666666666666,
              "#ed7953"
             ],
             [
              0.7777777777777778,
              "#fb9f3a"
             ],
             [
              0.8888888888888888,
              "#fdca26"
             ],
             [
              1,
              "#f0f921"
             ]
            ],
            "type": "heatmap"
           }
          ],
          "heatmapgl": [
           {
            "colorbar": {
             "outlinewidth": 0,
             "ticks": ""
            },
            "colorscale": [
             [
              0,
              "#0d0887"
             ],
             [
              0.1111111111111111,
              "#46039f"
             ],
             [
              0.2222222222222222,
              "#7201a8"
             ],
             [
              0.3333333333333333,
              "#9c179e"
             ],
             [
              0.4444444444444444,
              "#bd3786"
             ],
             [
              0.5555555555555556,
              "#d8576b"
             ],
             [
              0.6666666666666666,
              "#ed7953"
             ],
             [
              0.7777777777777778,
              "#fb9f3a"
             ],
             [
              0.8888888888888888,
              "#fdca26"
             ],
             [
              1,
              "#f0f921"
             ]
            ],
            "type": "heatmapgl"
           }
          ],
          "histogram": [
           {
            "marker": {
             "pattern": {
              "fillmode": "overlay",
              "size": 10,
              "solidity": 0.2
             }
            },
            "type": "histogram"
           }
          ],
          "histogram2d": [
           {
            "colorbar": {
             "outlinewidth": 0,
             "ticks": ""
            },
            "colorscale": [
             [
              0,
              "#0d0887"
             ],
             [
              0.1111111111111111,
              "#46039f"
             ],
             [
              0.2222222222222222,
              "#7201a8"
             ],
             [
              0.3333333333333333,
              "#9c179e"
             ],
             [
              0.4444444444444444,
              "#bd3786"
             ],
             [
              0.5555555555555556,
              "#d8576b"
             ],
             [
              0.6666666666666666,
              "#ed7953"
             ],
             [
              0.7777777777777778,
              "#fb9f3a"
             ],
             [
              0.8888888888888888,
              "#fdca26"
             ],
             [
              1,
              "#f0f921"
             ]
            ],
            "type": "histogram2d"
           }
          ],
          "histogram2dcontour": [
           {
            "colorbar": {
             "outlinewidth": 0,
             "ticks": ""
            },
            "colorscale": [
             [
              0,
              "#0d0887"
             ],
             [
              0.1111111111111111,
              "#46039f"
             ],
             [
              0.2222222222222222,
              "#7201a8"
             ],
             [
              0.3333333333333333,
              "#9c179e"
             ],
             [
              0.4444444444444444,
              "#bd3786"
             ],
             [
              0.5555555555555556,
              "#d8576b"
             ],
             [
              0.6666666666666666,
              "#ed7953"
             ],
             [
              0.7777777777777778,
              "#fb9f3a"
             ],
             [
              0.8888888888888888,
              "#fdca26"
             ],
             [
              1,
              "#f0f921"
             ]
            ],
            "type": "histogram2dcontour"
           }
          ],
          "mesh3d": [
           {
            "colorbar": {
             "outlinewidth": 0,
             "ticks": ""
            },
            "type": "mesh3d"
           }
          ],
          "parcoords": [
           {
            "line": {
             "colorbar": {
              "outlinewidth": 0,
              "ticks": ""
             }
            },
            "type": "parcoords"
           }
          ],
          "pie": [
           {
            "automargin": true,
            "type": "pie"
           }
          ],
          "scatter": [
           {
            "fillpattern": {
             "fillmode": "overlay",
             "size": 10,
             "solidity": 0.2
            },
            "type": "scatter"
           }
          ],
          "scatter3d": [
           {
            "line": {
             "colorbar": {
              "outlinewidth": 0,
              "ticks": ""
             }
            },
            "marker": {
             "colorbar": {
              "outlinewidth": 0,
              "ticks": ""
             }
            },
            "type": "scatter3d"
           }
          ],
          "scattercarpet": [
           {
            "marker": {
             "colorbar": {
              "outlinewidth": 0,
              "ticks": ""
             }
            },
            "type": "scattercarpet"
           }
          ],
          "scattergeo": [
           {
            "marker": {
             "colorbar": {
              "outlinewidth": 0,
              "ticks": ""
             }
            },
            "type": "scattergeo"
           }
          ],
          "scattergl": [
           {
            "marker": {
             "colorbar": {
              "outlinewidth": 0,
              "ticks": ""
             }
            },
            "type": "scattergl"
           }
          ],
          "scattermapbox": [
           {
            "marker": {
             "colorbar": {
              "outlinewidth": 0,
              "ticks": ""
             }
            },
            "type": "scattermapbox"
           }
          ],
          "scatterpolar": [
           {
            "marker": {
             "colorbar": {
              "outlinewidth": 0,
              "ticks": ""
             }
            },
            "type": "scatterpolar"
           }
          ],
          "scatterpolargl": [
           {
            "marker": {
             "colorbar": {
              "outlinewidth": 0,
              "ticks": ""
             }
            },
            "type": "scatterpolargl"
           }
          ],
          "scatterternary": [
           {
            "marker": {
             "colorbar": {
              "outlinewidth": 0,
              "ticks": ""
             }
            },
            "type": "scatterternary"
           }
          ],
          "surface": [
           {
            "colorbar": {
             "outlinewidth": 0,
             "ticks": ""
            },
            "colorscale": [
             [
              0,
              "#0d0887"
             ],
             [
              0.1111111111111111,
              "#46039f"
             ],
             [
              0.2222222222222222,
              "#7201a8"
             ],
             [
              0.3333333333333333,
              "#9c179e"
             ],
             [
              0.4444444444444444,
              "#bd3786"
             ],
             [
              0.5555555555555556,
              "#d8576b"
             ],
             [
              0.6666666666666666,
              "#ed7953"
             ],
             [
              0.7777777777777778,
              "#fb9f3a"
             ],
             [
              0.8888888888888888,
              "#fdca26"
             ],
             [
              1,
              "#f0f921"
             ]
            ],
            "type": "surface"
           }
          ],
          "table": [
           {
            "cells": {
             "fill": {
              "color": "#EBF0F8"
             },
             "line": {
              "color": "white"
             }
            },
            "header": {
             "fill": {
              "color": "#C8D4E3"
             },
             "line": {
              "color": "white"
             }
            },
            "type": "table"
           }
          ]
         },
         "layout": {
          "annotationdefaults": {
           "arrowcolor": "#2a3f5f",
           "arrowhead": 0,
           "arrowwidth": 1
          },
          "autotypenumbers": "strict",
          "coloraxis": {
           "colorbar": {
            "outlinewidth": 0,
            "ticks": ""
           }
          },
          "colorscale": {
           "diverging": [
            [
             0,
             "#8e0152"
            ],
            [
             0.1,
             "#c51b7d"
            ],
            [
             0.2,
             "#de77ae"
            ],
            [
             0.3,
             "#f1b6da"
            ],
            [
             0.4,
             "#fde0ef"
            ],
            [
             0.5,
             "#f7f7f7"
            ],
            [
             0.6,
             "#e6f5d0"
            ],
            [
             0.7,
             "#b8e186"
            ],
            [
             0.8,
             "#7fbc41"
            ],
            [
             0.9,
             "#4d9221"
            ],
            [
             1,
             "#276419"
            ]
           ],
           "sequential": [
            [
             0,
             "#0d0887"
            ],
            [
             0.1111111111111111,
             "#46039f"
            ],
            [
             0.2222222222222222,
             "#7201a8"
            ],
            [
             0.3333333333333333,
             "#9c179e"
            ],
            [
             0.4444444444444444,
             "#bd3786"
            ],
            [
             0.5555555555555556,
             "#d8576b"
            ],
            [
             0.6666666666666666,
             "#ed7953"
            ],
            [
             0.7777777777777778,
             "#fb9f3a"
            ],
            [
             0.8888888888888888,
             "#fdca26"
            ],
            [
             1,
             "#f0f921"
            ]
           ],
           "sequentialminus": [
            [
             0,
             "#0d0887"
            ],
            [
             0.1111111111111111,
             "#46039f"
            ],
            [
             0.2222222222222222,
             "#7201a8"
            ],
            [
             0.3333333333333333,
             "#9c179e"
            ],
            [
             0.4444444444444444,
             "#bd3786"
            ],
            [
             0.5555555555555556,
             "#d8576b"
            ],
            [
             0.6666666666666666,
             "#ed7953"
            ],
            [
             0.7777777777777778,
             "#fb9f3a"
            ],
            [
             0.8888888888888888,
             "#fdca26"
            ],
            [
             1,
             "#f0f921"
            ]
           ]
          },
          "colorway": [
           "#636efa",
           "#EF553B",
           "#00cc96",
           "#ab63fa",
           "#FFA15A",
           "#19d3f3",
           "#FF6692",
           "#B6E880",
           "#FF97FF",
           "#FECB52"
          ],
          "font": {
           "color": "#2a3f5f"
          },
          "geo": {
           "bgcolor": "white",
           "lakecolor": "white",
           "landcolor": "#E5ECF6",
           "showlakes": true,
           "showland": true,
           "subunitcolor": "white"
          },
          "hoverlabel": {
           "align": "left"
          },
          "hovermode": "closest",
          "mapbox": {
           "style": "light"
          },
          "paper_bgcolor": "white",
          "plot_bgcolor": "#E5ECF6",
          "polar": {
           "angularaxis": {
            "gridcolor": "white",
            "linecolor": "white",
            "ticks": ""
           },
           "bgcolor": "#E5ECF6",
           "radialaxis": {
            "gridcolor": "white",
            "linecolor": "white",
            "ticks": ""
           }
          },
          "scene": {
           "xaxis": {
            "backgroundcolor": "#E5ECF6",
            "gridcolor": "white",
            "gridwidth": 2,
            "linecolor": "white",
            "showbackground": true,
            "ticks": "",
            "zerolinecolor": "white"
           },
           "yaxis": {
            "backgroundcolor": "#E5ECF6",
            "gridcolor": "white",
            "gridwidth": 2,
            "linecolor": "white",
            "showbackground": true,
            "ticks": "",
            "zerolinecolor": "white"
           },
           "zaxis": {
            "backgroundcolor": "#E5ECF6",
            "gridcolor": "white",
            "gridwidth": 2,
            "linecolor": "white",
            "showbackground": true,
            "ticks": "",
            "zerolinecolor": "white"
           }
          },
          "shapedefaults": {
           "line": {
            "color": "#2a3f5f"
           }
          },
          "ternary": {
           "aaxis": {
            "gridcolor": "white",
            "linecolor": "white",
            "ticks": ""
           },
           "baxis": {
            "gridcolor": "white",
            "linecolor": "white",
            "ticks": ""
           },
           "bgcolor": "#E5ECF6",
           "caxis": {
            "gridcolor": "white",
            "linecolor": "white",
            "ticks": ""
           }
          },
          "title": {
           "x": 0.05
          },
          "xaxis": {
           "automargin": true,
           "gridcolor": "white",
           "linecolor": "white",
           "ticks": "",
           "title": {
            "standoff": 15
           },
           "zerolinecolor": "white",
           "zerolinewidth": 2
          },
          "yaxis": {
           "automargin": true,
           "gridcolor": "white",
           "linecolor": "white",
           "ticks": "",
           "title": {
            "standoff": 15
           },
           "zerolinecolor": "white",
           "zerolinewidth": 2
          }
         }
        },
        "title": {
         "text": "Mean of unique words and total words for each song in each year."
        }
       }
      }
     },
     "metadata": {},
     "output_type": "display_data"
    }
   ],
   "source": [
    "fig = go.Figure()\n",
    "years = df_w_tokens['album_release_year'].drop_duplicates()\n",
    "album_names = df_w_tokens['album_name'].drop_duplicates()\n",
    "\n",
    "fig.add_trace(go.Bar(\n",
    "    y=df_w_tokens.groupby('album_release_year')['word_count'].mean(),\n",
    "    x=years,\n",
    "    customdata=album_names,\n",
    "    name='Mean of word counts',\n",
    "    hovertemplate='%{y}<br>Album name: %{customdata}<br>Year: %{x}'\n",
    "))\n",
    "\n",
    "fig.add_trace(go.Bar(\n",
    "    y = df_w_tokens.groupby('album_release_year')['unique_tokens_count'].mean(),\n",
    "    x = years,\n",
    "    customdata=album_names,\n",
    "    name='Mean of unique cleaned tokens',\n",
    "    hovertemplate='%{y}<br>Album name: %{customdata}<br>Year: %{x}'\n",
    "))\n",
    "\n",
    "fig.update_layout(\n",
    "    title='Mean of unique words and total words for each song in each year.',\n",
    "    barmode='group'\n",
    ")\n",
    "\n",
    "fig.show()"
   ]
  },
  {
   "cell_type": "code",
   "execution_count": 19,
   "metadata": {},
   "outputs": [
    {
     "data": {
      "application/vnd.plotly.v1+json": {
       "config": {
        "plotlyServerURL": "https://plot.ly"
       },
       "data": [
        {
         "customdata": [
          "Pablo Honey",
          "The Bends",
          "OK Computer",
          "Kid A",
          "Amnesiac",
          "Hail To the Thief",
          "In Rainbows",
          "The King Of Limbs",
          "A Moon Shaped Pool"
         ],
         "hovertemplate": "%{y}<br>Album name: %{customdata}<br>Year: %{x}",
         "name": "Mean of frequencies of nouns",
         "type": "scatter",
         "x": [
          1993,
          1995,
          1997,
          2000,
          2001,
          2003,
          2007,
          2011,
          2016
         ],
         "y": [
          0.39475115310042636,
          0.3650127927462372,
          0.46130681059559175,
          0.42713334205226827,
          0.41855085045002394,
          0.4188051154331328,
          0.3703031463459451,
          0.38405975288907873,
          0.4659720466600246
         ]
        },
        {
         "customdata": [
          "Pablo Honey",
          "The Bends",
          "OK Computer",
          "Kid A",
          "Amnesiac",
          "Hail To the Thief",
          "In Rainbows",
          "The King Of Limbs",
          "A Moon Shaped Pool"
         ],
         "hovertemplate": "%{y}<br>Album name: %{customdata}<br>Year: %{x}",
         "name": "Mean of frequences of verbs",
         "type": "scatter",
         "x": [
          1993,
          1995,
          1997,
          2000,
          2001,
          2003,
          2007,
          2011,
          2016
         ],
         "y": [
          0.546584640746926,
          0.479632522428674,
          0.43438603953260996,
          0.5066547456083508,
          0.47242592642421244,
          0.47413833286594337,
          0.48577507947755355,
          0.4512482011543378,
          0.4445222540635683
         ]
        },
        {
         "customdata": [
          "Pablo Honey",
          "The Bends",
          "OK Computer",
          "Kid A",
          "Amnesiac",
          "Hail To the Thief",
          "In Rainbows",
          "The King Of Limbs",
          "A Moon Shaped Pool"
         ],
         "hovertemplate": "%{y}<br>Album name: %{customdata}<br>Year: %{x}",
         "name": "Mean of frequences of adjectives / adverbs",
         "type": "scatter",
         "x": [
          1993,
          1995,
          1997,
          2000,
          2001,
          2003,
          2007,
          2011,
          2016
         ],
         "y": [
          0.29625227297409307,
          0.25010287327262426,
          0.2617731585710869,
          0.31010310996842044,
          0.23223089511050138,
          0.2454494587925294,
          0.2583960586740481,
          0.3361880513749736,
          0.2932655166299817
         ]
        }
       ],
       "layout": {
        "barmode": "group",
        "template": {
         "data": {
          "bar": [
           {
            "error_x": {
             "color": "#2a3f5f"
            },
            "error_y": {
             "color": "#2a3f5f"
            },
            "marker": {
             "line": {
              "color": "#E5ECF6",
              "width": 0.5
             },
             "pattern": {
              "fillmode": "overlay",
              "size": 10,
              "solidity": 0.2
             }
            },
            "type": "bar"
           }
          ],
          "barpolar": [
           {
            "marker": {
             "line": {
              "color": "#E5ECF6",
              "width": 0.5
             },
             "pattern": {
              "fillmode": "overlay",
              "size": 10,
              "solidity": 0.2
             }
            },
            "type": "barpolar"
           }
          ],
          "carpet": [
           {
            "aaxis": {
             "endlinecolor": "#2a3f5f",
             "gridcolor": "white",
             "linecolor": "white",
             "minorgridcolor": "white",
             "startlinecolor": "#2a3f5f"
            },
            "baxis": {
             "endlinecolor": "#2a3f5f",
             "gridcolor": "white",
             "linecolor": "white",
             "minorgridcolor": "white",
             "startlinecolor": "#2a3f5f"
            },
            "type": "carpet"
           }
          ],
          "choropleth": [
           {
            "colorbar": {
             "outlinewidth": 0,
             "ticks": ""
            },
            "type": "choropleth"
           }
          ],
          "contour": [
           {
            "colorbar": {
             "outlinewidth": 0,
             "ticks": ""
            },
            "colorscale": [
             [
              0,
              "#0d0887"
             ],
             [
              0.1111111111111111,
              "#46039f"
             ],
             [
              0.2222222222222222,
              "#7201a8"
             ],
             [
              0.3333333333333333,
              "#9c179e"
             ],
             [
              0.4444444444444444,
              "#bd3786"
             ],
             [
              0.5555555555555556,
              "#d8576b"
             ],
             [
              0.6666666666666666,
              "#ed7953"
             ],
             [
              0.7777777777777778,
              "#fb9f3a"
             ],
             [
              0.8888888888888888,
              "#fdca26"
             ],
             [
              1,
              "#f0f921"
             ]
            ],
            "type": "contour"
           }
          ],
          "contourcarpet": [
           {
            "colorbar": {
             "outlinewidth": 0,
             "ticks": ""
            },
            "type": "contourcarpet"
           }
          ],
          "heatmap": [
           {
            "colorbar": {
             "outlinewidth": 0,
             "ticks": ""
            },
            "colorscale": [
             [
              0,
              "#0d0887"
             ],
             [
              0.1111111111111111,
              "#46039f"
             ],
             [
              0.2222222222222222,
              "#7201a8"
             ],
             [
              0.3333333333333333,
              "#9c179e"
             ],
             [
              0.4444444444444444,
              "#bd3786"
             ],
             [
              0.5555555555555556,
              "#d8576b"
             ],
             [
              0.6666666666666666,
              "#ed7953"
             ],
             [
              0.7777777777777778,
              "#fb9f3a"
             ],
             [
              0.8888888888888888,
              "#fdca26"
             ],
             [
              1,
              "#f0f921"
             ]
            ],
            "type": "heatmap"
           }
          ],
          "heatmapgl": [
           {
            "colorbar": {
             "outlinewidth": 0,
             "ticks": ""
            },
            "colorscale": [
             [
              0,
              "#0d0887"
             ],
             [
              0.1111111111111111,
              "#46039f"
             ],
             [
              0.2222222222222222,
              "#7201a8"
             ],
             [
              0.3333333333333333,
              "#9c179e"
             ],
             [
              0.4444444444444444,
              "#bd3786"
             ],
             [
              0.5555555555555556,
              "#d8576b"
             ],
             [
              0.6666666666666666,
              "#ed7953"
             ],
             [
              0.7777777777777778,
              "#fb9f3a"
             ],
             [
              0.8888888888888888,
              "#fdca26"
             ],
             [
              1,
              "#f0f921"
             ]
            ],
            "type": "heatmapgl"
           }
          ],
          "histogram": [
           {
            "marker": {
             "pattern": {
              "fillmode": "overlay",
              "size": 10,
              "solidity": 0.2
             }
            },
            "type": "histogram"
           }
          ],
          "histogram2d": [
           {
            "colorbar": {
             "outlinewidth": 0,
             "ticks": ""
            },
            "colorscale": [
             [
              0,
              "#0d0887"
             ],
             [
              0.1111111111111111,
              "#46039f"
             ],
             [
              0.2222222222222222,
              "#7201a8"
             ],
             [
              0.3333333333333333,
              "#9c179e"
             ],
             [
              0.4444444444444444,
              "#bd3786"
             ],
             [
              0.5555555555555556,
              "#d8576b"
             ],
             [
              0.6666666666666666,
              "#ed7953"
             ],
             [
              0.7777777777777778,
              "#fb9f3a"
             ],
             [
              0.8888888888888888,
              "#fdca26"
             ],
             [
              1,
              "#f0f921"
             ]
            ],
            "type": "histogram2d"
           }
          ],
          "histogram2dcontour": [
           {
            "colorbar": {
             "outlinewidth": 0,
             "ticks": ""
            },
            "colorscale": [
             [
              0,
              "#0d0887"
             ],
             [
              0.1111111111111111,
              "#46039f"
             ],
             [
              0.2222222222222222,
              "#7201a8"
             ],
             [
              0.3333333333333333,
              "#9c179e"
             ],
             [
              0.4444444444444444,
              "#bd3786"
             ],
             [
              0.5555555555555556,
              "#d8576b"
             ],
             [
              0.6666666666666666,
              "#ed7953"
             ],
             [
              0.7777777777777778,
              "#fb9f3a"
             ],
             [
              0.8888888888888888,
              "#fdca26"
             ],
             [
              1,
              "#f0f921"
             ]
            ],
            "type": "histogram2dcontour"
           }
          ],
          "mesh3d": [
           {
            "colorbar": {
             "outlinewidth": 0,
             "ticks": ""
            },
            "type": "mesh3d"
           }
          ],
          "parcoords": [
           {
            "line": {
             "colorbar": {
              "outlinewidth": 0,
              "ticks": ""
             }
            },
            "type": "parcoords"
           }
          ],
          "pie": [
           {
            "automargin": true,
            "type": "pie"
           }
          ],
          "scatter": [
           {
            "fillpattern": {
             "fillmode": "overlay",
             "size": 10,
             "solidity": 0.2
            },
            "type": "scatter"
           }
          ],
          "scatter3d": [
           {
            "line": {
             "colorbar": {
              "outlinewidth": 0,
              "ticks": ""
             }
            },
            "marker": {
             "colorbar": {
              "outlinewidth": 0,
              "ticks": ""
             }
            },
            "type": "scatter3d"
           }
          ],
          "scattercarpet": [
           {
            "marker": {
             "colorbar": {
              "outlinewidth": 0,
              "ticks": ""
             }
            },
            "type": "scattercarpet"
           }
          ],
          "scattergeo": [
           {
            "marker": {
             "colorbar": {
              "outlinewidth": 0,
              "ticks": ""
             }
            },
            "type": "scattergeo"
           }
          ],
          "scattergl": [
           {
            "marker": {
             "colorbar": {
              "outlinewidth": 0,
              "ticks": ""
             }
            },
            "type": "scattergl"
           }
          ],
          "scattermapbox": [
           {
            "marker": {
             "colorbar": {
              "outlinewidth": 0,
              "ticks": ""
             }
            },
            "type": "scattermapbox"
           }
          ],
          "scatterpolar": [
           {
            "marker": {
             "colorbar": {
              "outlinewidth": 0,
              "ticks": ""
             }
            },
            "type": "scatterpolar"
           }
          ],
          "scatterpolargl": [
           {
            "marker": {
             "colorbar": {
              "outlinewidth": 0,
              "ticks": ""
             }
            },
            "type": "scatterpolargl"
           }
          ],
          "scatterternary": [
           {
            "marker": {
             "colorbar": {
              "outlinewidth": 0,
              "ticks": ""
             }
            },
            "type": "scatterternary"
           }
          ],
          "surface": [
           {
            "colorbar": {
             "outlinewidth": 0,
             "ticks": ""
            },
            "colorscale": [
             [
              0,
              "#0d0887"
             ],
             [
              0.1111111111111111,
              "#46039f"
             ],
             [
              0.2222222222222222,
              "#7201a8"
             ],
             [
              0.3333333333333333,
              "#9c179e"
             ],
             [
              0.4444444444444444,
              "#bd3786"
             ],
             [
              0.5555555555555556,
              "#d8576b"
             ],
             [
              0.6666666666666666,
              "#ed7953"
             ],
             [
              0.7777777777777778,
              "#fb9f3a"
             ],
             [
              0.8888888888888888,
              "#fdca26"
             ],
             [
              1,
              "#f0f921"
             ]
            ],
            "type": "surface"
           }
          ],
          "table": [
           {
            "cells": {
             "fill": {
              "color": "#EBF0F8"
             },
             "line": {
              "color": "white"
             }
            },
            "header": {
             "fill": {
              "color": "#C8D4E3"
             },
             "line": {
              "color": "white"
             }
            },
            "type": "table"
           }
          ]
         },
         "layout": {
          "annotationdefaults": {
           "arrowcolor": "#2a3f5f",
           "arrowhead": 0,
           "arrowwidth": 1
          },
          "autotypenumbers": "strict",
          "coloraxis": {
           "colorbar": {
            "outlinewidth": 0,
            "ticks": ""
           }
          },
          "colorscale": {
           "diverging": [
            [
             0,
             "#8e0152"
            ],
            [
             0.1,
             "#c51b7d"
            ],
            [
             0.2,
             "#de77ae"
            ],
            [
             0.3,
             "#f1b6da"
            ],
            [
             0.4,
             "#fde0ef"
            ],
            [
             0.5,
             "#f7f7f7"
            ],
            [
             0.6,
             "#e6f5d0"
            ],
            [
             0.7,
             "#b8e186"
            ],
            [
             0.8,
             "#7fbc41"
            ],
            [
             0.9,
             "#4d9221"
            ],
            [
             1,
             "#276419"
            ]
           ],
           "sequential": [
            [
             0,
             "#0d0887"
            ],
            [
             0.1111111111111111,
             "#46039f"
            ],
            [
             0.2222222222222222,
             "#7201a8"
            ],
            [
             0.3333333333333333,
             "#9c179e"
            ],
            [
             0.4444444444444444,
             "#bd3786"
            ],
            [
             0.5555555555555556,
             "#d8576b"
            ],
            [
             0.6666666666666666,
             "#ed7953"
            ],
            [
             0.7777777777777778,
             "#fb9f3a"
            ],
            [
             0.8888888888888888,
             "#fdca26"
            ],
            [
             1,
             "#f0f921"
            ]
           ],
           "sequentialminus": [
            [
             0,
             "#0d0887"
            ],
            [
             0.1111111111111111,
             "#46039f"
            ],
            [
             0.2222222222222222,
             "#7201a8"
            ],
            [
             0.3333333333333333,
             "#9c179e"
            ],
            [
             0.4444444444444444,
             "#bd3786"
            ],
            [
             0.5555555555555556,
             "#d8576b"
            ],
            [
             0.6666666666666666,
             "#ed7953"
            ],
            [
             0.7777777777777778,
             "#fb9f3a"
            ],
            [
             0.8888888888888888,
             "#fdca26"
            ],
            [
             1,
             "#f0f921"
            ]
           ]
          },
          "colorway": [
           "#636efa",
           "#EF553B",
           "#00cc96",
           "#ab63fa",
           "#FFA15A",
           "#19d3f3",
           "#FF6692",
           "#B6E880",
           "#FF97FF",
           "#FECB52"
          ],
          "font": {
           "color": "#2a3f5f"
          },
          "geo": {
           "bgcolor": "white",
           "lakecolor": "white",
           "landcolor": "#E5ECF6",
           "showlakes": true,
           "showland": true,
           "subunitcolor": "white"
          },
          "hoverlabel": {
           "align": "left"
          },
          "hovermode": "closest",
          "mapbox": {
           "style": "light"
          },
          "paper_bgcolor": "white",
          "plot_bgcolor": "#E5ECF6",
          "polar": {
           "angularaxis": {
            "gridcolor": "white",
            "linecolor": "white",
            "ticks": ""
           },
           "bgcolor": "#E5ECF6",
           "radialaxis": {
            "gridcolor": "white",
            "linecolor": "white",
            "ticks": ""
           }
          },
          "scene": {
           "xaxis": {
            "backgroundcolor": "#E5ECF6",
            "gridcolor": "white",
            "gridwidth": 2,
            "linecolor": "white",
            "showbackground": true,
            "ticks": "",
            "zerolinecolor": "white"
           },
           "yaxis": {
            "backgroundcolor": "#E5ECF6",
            "gridcolor": "white",
            "gridwidth": 2,
            "linecolor": "white",
            "showbackground": true,
            "ticks": "",
            "zerolinecolor": "white"
           },
           "zaxis": {
            "backgroundcolor": "#E5ECF6",
            "gridcolor": "white",
            "gridwidth": 2,
            "linecolor": "white",
            "showbackground": true,
            "ticks": "",
            "zerolinecolor": "white"
           }
          },
          "shapedefaults": {
           "line": {
            "color": "#2a3f5f"
           }
          },
          "ternary": {
           "aaxis": {
            "gridcolor": "white",
            "linecolor": "white",
            "ticks": ""
           },
           "baxis": {
            "gridcolor": "white",
            "linecolor": "white",
            "ticks": ""
           },
           "bgcolor": "#E5ECF6",
           "caxis": {
            "gridcolor": "white",
            "linecolor": "white",
            "ticks": ""
           }
          },
          "title": {
           "x": 0.05
          },
          "xaxis": {
           "automargin": true,
           "gridcolor": "white",
           "linecolor": "white",
           "ticks": "",
           "title": {
            "standoff": 15
           },
           "zerolinecolor": "white",
           "zerolinewidth": 2
          },
          "yaxis": {
           "automargin": true,
           "gridcolor": "white",
           "linecolor": "white",
           "ticks": "",
           "title": {
            "standoff": 15
           },
           "zerolinecolor": "white",
           "zerolinewidth": 2
          }
         }
        },
        "title": {
         "text": "Mean of the main part of speech frequences in each album."
        }
       }
      }
     },
     "metadata": {},
     "output_type": "display_data"
    }
   ],
   "source": [
    "fig = go.Figure()\n",
    "years = df_w_tokens['album_release_year'].drop_duplicates()\n",
    "album_names = df_w_tokens['album_name'].drop_duplicates()\n",
    "word_counts = df_w_tokens.groupby('album_release_year')['word_count']\n",
    "\n",
    "fig.add_trace(go.Scatter(\n",
    "    y=df_w_tokens.groupby('album_release_year')['noun_freq'].mean(),\n",
    "    x=years,\n",
    "    customdata=album_names,\n",
    "    name='Mean of frequencies of nouns',\n",
    "    hovertemplate='%{y}<br>Album name: %{customdata}<br>Year: %{x}'\n",
    "))\n",
    "\n",
    "fig.add_trace(go.Scatter(\n",
    "    y = df_w_tokens.groupby('album_release_year')['verb_freq'].mean(),\n",
    "    x = years,\n",
    "    customdata=album_names,\n",
    "    name='Mean of frequences of verbs',\n",
    "    hovertemplate='%{y}<br>Album name: %{customdata}<br>Year: %{x}'\n",
    "))\n",
    "\n",
    "fig.add_trace(go.Scatter(\n",
    "    y = df_w_tokens.groupby('album_release_year')['adverb_freq'].mean(),\n",
    "    x = years,\n",
    "    customdata=album_names,\n",
    "    name='Mean of frequences of adjectives / adverbs',\n",
    "    hovertemplate='%{y}<br>Album name: %{customdata}<br>Year: %{x}'\n",
    "))\n",
    "\n",
    "fig.update_layout(\n",
    "    title='Mean of the main part of speech frequences in each album.',\n",
    "    barmode='group'\n",
    ")\n",
    "\n",
    "fig.show()  "
   ]
  },
  {
   "cell_type": "code",
   "execution_count": 28,
   "metadata": {},
   "outputs": [
    {
     "data": {
      "application/vnd.plotly.v1+json": {
       "config": {
        "plotlyServerURL": "https://plot.ly"
       },
       "data": [
        {
         "coloraxis": "coloraxis",
         "hovertemplate": "x: %{x}<br>y: %{y}<br>color: %{z}<extra></extra>",
         "name": "0",
         "texttemplate": "%{z}",
         "type": "heatmap",
         "x": [
          "valence",
          "duration_ms",
          "album_release_year",
          "pct_sad",
          "word_count",
          "lyrical_density",
          "gloom_index",
          "noun_freq",
          "verb_freq",
          "adverb_freq"
         ],
         "xaxis": "x",
         "y": [
          "valence",
          "duration_ms",
          "album_release_year",
          "pct_sad",
          "word_count",
          "lyrical_density",
          "gloom_index",
          "noun_freq",
          "verb_freq",
          "adverb_freq"
         ],
         "yaxis": "y",
         "z": [
          [
           1,
           -0.07397612536542597,
           -0.011873368864607584,
           -0.048884650583006325,
           0.23570008320206493,
           0.2437953802465273,
           0.9257232969672129,
           -0.1318309141517809,
           0.09772475364521313,
           0.04550913355681116
          ],
          [
           -0.07397612536542597,
           1,
           0.28544699843022825,
           0.18191856166961232,
           0.03021173355771956,
           -0.3926398015029838,
           -0.1253104668624408,
           -0.049801233267857105,
           0.02311685923662945,
           -0.017437912361877004
          ],
          [
           -0.011873368864607584,
           0.28544699843022825,
           1,
           0.07956436824260138,
           0.11496357164191297,
           -0.023709213919931138,
           -0.04058966545034316,
           0.07132176643665712,
           -0.14775540746092747,
           0.0785024941115721
          ],
          [
           -0.048884650583006325,
           0.18191856166961232,
           0.07956436824260138,
           1,
           0.09330590655951902,
           -0.004476180872951152,
           -0.4210933356225605,
           -0.22716881031580996,
           0.15252880866679558,
           0.017859935127565098
          ],
          [
           0.23570008320206493,
           0.03021173355771956,
           0.11496357164191297,
           0.09330590655951902,
           1,
           0.8375957462532937,
           0.15557992195761222,
           0.12870959175591343,
           -0.1875587524477148,
           -0.010472947749169367
          ],
          [
           0.2437953802465273,
           -0.3926398015029838,
           -0.023709213919931138,
           -0.004476180872951152,
           0.8375957462532937,
           1,
           0.19360827619721596,
           0.14857098501135294,
           -0.2213285967205469,
           0.06902931632520726
          ],
          [
           0.9257232969672129,
           -0.1253104668624408,
           -0.04058966545034316,
           -0.4210933356225605,
           0.15557992195761222,
           0.19360827619721596,
           1,
           -0.03844020770755937,
           0.035375426974894625,
           0.028126121604033695
          ],
          [
           -0.1318309141517809,
           -0.049801233267857105,
           0.07132176643665712,
           -0.22716881031580996,
           0.12870959175591343,
           0.14857098501135294,
           -0.03844020770755937,
           1,
           -0.48730709484535933,
           -0.05327084710953235
          ],
          [
           0.09772475364521313,
           0.02311685923662945,
           -0.14775540746092747,
           0.15252880866679558,
           -0.1875587524477148,
           -0.2213285967205469,
           0.035375426974894625,
           -0.48730709484535933,
           1,
           -0.05377493584582081
          ],
          [
           0.04550913355681116,
           -0.017437912361877004,
           0.0785024941115721,
           0.017859935127565098,
           -0.010472947749169367,
           0.06902931632520726,
           0.028126121604033695,
           -0.05327084710953235,
           -0.05377493584582081,
           1
          ]
         ]
        }
       ],
       "layout": {
        "coloraxis": {
         "colorscale": [
          [
           0,
           "#0d0887"
          ],
          [
           0.1111111111111111,
           "#46039f"
          ],
          [
           0.2222222222222222,
           "#7201a8"
          ],
          [
           0.3333333333333333,
           "#9c179e"
          ],
          [
           0.4444444444444444,
           "#bd3786"
          ],
          [
           0.5555555555555556,
           "#d8576b"
          ],
          [
           0.6666666666666666,
           "#ed7953"
          ],
          [
           0.7777777777777778,
           "#fb9f3a"
          ],
          [
           0.8888888888888888,
           "#fdca26"
          ],
          [
           1,
           "#f0f921"
          ]
         ]
        },
        "margin": {
         "t": 60
        },
        "template": {
         "data": {
          "bar": [
           {
            "error_x": {
             "color": "#2a3f5f"
            },
            "error_y": {
             "color": "#2a3f5f"
            },
            "marker": {
             "line": {
              "color": "#E5ECF6",
              "width": 0.5
             },
             "pattern": {
              "fillmode": "overlay",
              "size": 10,
              "solidity": 0.2
             }
            },
            "type": "bar"
           }
          ],
          "barpolar": [
           {
            "marker": {
             "line": {
              "color": "#E5ECF6",
              "width": 0.5
             },
             "pattern": {
              "fillmode": "overlay",
              "size": 10,
              "solidity": 0.2
             }
            },
            "type": "barpolar"
           }
          ],
          "carpet": [
           {
            "aaxis": {
             "endlinecolor": "#2a3f5f",
             "gridcolor": "white",
             "linecolor": "white",
             "minorgridcolor": "white",
             "startlinecolor": "#2a3f5f"
            },
            "baxis": {
             "endlinecolor": "#2a3f5f",
             "gridcolor": "white",
             "linecolor": "white",
             "minorgridcolor": "white",
             "startlinecolor": "#2a3f5f"
            },
            "type": "carpet"
           }
          ],
          "choropleth": [
           {
            "colorbar": {
             "outlinewidth": 0,
             "ticks": ""
            },
            "type": "choropleth"
           }
          ],
          "contour": [
           {
            "colorbar": {
             "outlinewidth": 0,
             "ticks": ""
            },
            "colorscale": [
             [
              0,
              "#0d0887"
             ],
             [
              0.1111111111111111,
              "#46039f"
             ],
             [
              0.2222222222222222,
              "#7201a8"
             ],
             [
              0.3333333333333333,
              "#9c179e"
             ],
             [
              0.4444444444444444,
              "#bd3786"
             ],
             [
              0.5555555555555556,
              "#d8576b"
             ],
             [
              0.6666666666666666,
              "#ed7953"
             ],
             [
              0.7777777777777778,
              "#fb9f3a"
             ],
             [
              0.8888888888888888,
              "#fdca26"
             ],
             [
              1,
              "#f0f921"
             ]
            ],
            "type": "contour"
           }
          ],
          "contourcarpet": [
           {
            "colorbar": {
             "outlinewidth": 0,
             "ticks": ""
            },
            "type": "contourcarpet"
           }
          ],
          "heatmap": [
           {
            "colorbar": {
             "outlinewidth": 0,
             "ticks": ""
            },
            "colorscale": [
             [
              0,
              "#0d0887"
             ],
             [
              0.1111111111111111,
              "#46039f"
             ],
             [
              0.2222222222222222,
              "#7201a8"
             ],
             [
              0.3333333333333333,
              "#9c179e"
             ],
             [
              0.4444444444444444,
              "#bd3786"
             ],
             [
              0.5555555555555556,
              "#d8576b"
             ],
             [
              0.6666666666666666,
              "#ed7953"
             ],
             [
              0.7777777777777778,
              "#fb9f3a"
             ],
             [
              0.8888888888888888,
              "#fdca26"
             ],
             [
              1,
              "#f0f921"
             ]
            ],
            "type": "heatmap"
           }
          ],
          "heatmapgl": [
           {
            "colorbar": {
             "outlinewidth": 0,
             "ticks": ""
            },
            "colorscale": [
             [
              0,
              "#0d0887"
             ],
             [
              0.1111111111111111,
              "#46039f"
             ],
             [
              0.2222222222222222,
              "#7201a8"
             ],
             [
              0.3333333333333333,
              "#9c179e"
             ],
             [
              0.4444444444444444,
              "#bd3786"
             ],
             [
              0.5555555555555556,
              "#d8576b"
             ],
             [
              0.6666666666666666,
              "#ed7953"
             ],
             [
              0.7777777777777778,
              "#fb9f3a"
             ],
             [
              0.8888888888888888,
              "#fdca26"
             ],
             [
              1,
              "#f0f921"
             ]
            ],
            "type": "heatmapgl"
           }
          ],
          "histogram": [
           {
            "marker": {
             "pattern": {
              "fillmode": "overlay",
              "size": 10,
              "solidity": 0.2
             }
            },
            "type": "histogram"
           }
          ],
          "histogram2d": [
           {
            "colorbar": {
             "outlinewidth": 0,
             "ticks": ""
            },
            "colorscale": [
             [
              0,
              "#0d0887"
             ],
             [
              0.1111111111111111,
              "#46039f"
             ],
             [
              0.2222222222222222,
              "#7201a8"
             ],
             [
              0.3333333333333333,
              "#9c179e"
             ],
             [
              0.4444444444444444,
              "#bd3786"
             ],
             [
              0.5555555555555556,
              "#d8576b"
             ],
             [
              0.6666666666666666,
              "#ed7953"
             ],
             [
              0.7777777777777778,
              "#fb9f3a"
             ],
             [
              0.8888888888888888,
              "#fdca26"
             ],
             [
              1,
              "#f0f921"
             ]
            ],
            "type": "histogram2d"
           }
          ],
          "histogram2dcontour": [
           {
            "colorbar": {
             "outlinewidth": 0,
             "ticks": ""
            },
            "colorscale": [
             [
              0,
              "#0d0887"
             ],
             [
              0.1111111111111111,
              "#46039f"
             ],
             [
              0.2222222222222222,
              "#7201a8"
             ],
             [
              0.3333333333333333,
              "#9c179e"
             ],
             [
              0.4444444444444444,
              "#bd3786"
             ],
             [
              0.5555555555555556,
              "#d8576b"
             ],
             [
              0.6666666666666666,
              "#ed7953"
             ],
             [
              0.7777777777777778,
              "#fb9f3a"
             ],
             [
              0.8888888888888888,
              "#fdca26"
             ],
             [
              1,
              "#f0f921"
             ]
            ],
            "type": "histogram2dcontour"
           }
          ],
          "mesh3d": [
           {
            "colorbar": {
             "outlinewidth": 0,
             "ticks": ""
            },
            "type": "mesh3d"
           }
          ],
          "parcoords": [
           {
            "line": {
             "colorbar": {
              "outlinewidth": 0,
              "ticks": ""
             }
            },
            "type": "parcoords"
           }
          ],
          "pie": [
           {
            "automargin": true,
            "type": "pie"
           }
          ],
          "scatter": [
           {
            "fillpattern": {
             "fillmode": "overlay",
             "size": 10,
             "solidity": 0.2
            },
            "type": "scatter"
           }
          ],
          "scatter3d": [
           {
            "line": {
             "colorbar": {
              "outlinewidth": 0,
              "ticks": ""
             }
            },
            "marker": {
             "colorbar": {
              "outlinewidth": 0,
              "ticks": ""
             }
            },
            "type": "scatter3d"
           }
          ],
          "scattercarpet": [
           {
            "marker": {
             "colorbar": {
              "outlinewidth": 0,
              "ticks": ""
             }
            },
            "type": "scattercarpet"
           }
          ],
          "scattergeo": [
           {
            "marker": {
             "colorbar": {
              "outlinewidth": 0,
              "ticks": ""
             }
            },
            "type": "scattergeo"
           }
          ],
          "scattergl": [
           {
            "marker": {
             "colorbar": {
              "outlinewidth": 0,
              "ticks": ""
             }
            },
            "type": "scattergl"
           }
          ],
          "scattermapbox": [
           {
            "marker": {
             "colorbar": {
              "outlinewidth": 0,
              "ticks": ""
             }
            },
            "type": "scattermapbox"
           }
          ],
          "scatterpolar": [
           {
            "marker": {
             "colorbar": {
              "outlinewidth": 0,
              "ticks": ""
             }
            },
            "type": "scatterpolar"
           }
          ],
          "scatterpolargl": [
           {
            "marker": {
             "colorbar": {
              "outlinewidth": 0,
              "ticks": ""
             }
            },
            "type": "scatterpolargl"
           }
          ],
          "scatterternary": [
           {
            "marker": {
             "colorbar": {
              "outlinewidth": 0,
              "ticks": ""
             }
            },
            "type": "scatterternary"
           }
          ],
          "surface": [
           {
            "colorbar": {
             "outlinewidth": 0,
             "ticks": ""
            },
            "colorscale": [
             [
              0,
              "#0d0887"
             ],
             [
              0.1111111111111111,
              "#46039f"
             ],
             [
              0.2222222222222222,
              "#7201a8"
             ],
             [
              0.3333333333333333,
              "#9c179e"
             ],
             [
              0.4444444444444444,
              "#bd3786"
             ],
             [
              0.5555555555555556,
              "#d8576b"
             ],
             [
              0.6666666666666666,
              "#ed7953"
             ],
             [
              0.7777777777777778,
              "#fb9f3a"
             ],
             [
              0.8888888888888888,
              "#fdca26"
             ],
             [
              1,
              "#f0f921"
             ]
            ],
            "type": "surface"
           }
          ],
          "table": [
           {
            "cells": {
             "fill": {
              "color": "#EBF0F8"
             },
             "line": {
              "color": "white"
             }
            },
            "header": {
             "fill": {
              "color": "#C8D4E3"
             },
             "line": {
              "color": "white"
             }
            },
            "type": "table"
           }
          ]
         },
         "layout": {
          "annotationdefaults": {
           "arrowcolor": "#2a3f5f",
           "arrowhead": 0,
           "arrowwidth": 1
          },
          "autotypenumbers": "strict",
          "coloraxis": {
           "colorbar": {
            "outlinewidth": 0,
            "ticks": ""
           }
          },
          "colorscale": {
           "diverging": [
            [
             0,
             "#8e0152"
            ],
            [
             0.1,
             "#c51b7d"
            ],
            [
             0.2,
             "#de77ae"
            ],
            [
             0.3,
             "#f1b6da"
            ],
            [
             0.4,
             "#fde0ef"
            ],
            [
             0.5,
             "#f7f7f7"
            ],
            [
             0.6,
             "#e6f5d0"
            ],
            [
             0.7,
             "#b8e186"
            ],
            [
             0.8,
             "#7fbc41"
            ],
            [
             0.9,
             "#4d9221"
            ],
            [
             1,
             "#276419"
            ]
           ],
           "sequential": [
            [
             0,
             "#0d0887"
            ],
            [
             0.1111111111111111,
             "#46039f"
            ],
            [
             0.2222222222222222,
             "#7201a8"
            ],
            [
             0.3333333333333333,
             "#9c179e"
            ],
            [
             0.4444444444444444,
             "#bd3786"
            ],
            [
             0.5555555555555556,
             "#d8576b"
            ],
            [
             0.6666666666666666,
             "#ed7953"
            ],
            [
             0.7777777777777778,
             "#fb9f3a"
            ],
            [
             0.8888888888888888,
             "#fdca26"
            ],
            [
             1,
             "#f0f921"
            ]
           ],
           "sequentialminus": [
            [
             0,
             "#0d0887"
            ],
            [
             0.1111111111111111,
             "#46039f"
            ],
            [
             0.2222222222222222,
             "#7201a8"
            ],
            [
             0.3333333333333333,
             "#9c179e"
            ],
            [
             0.4444444444444444,
             "#bd3786"
            ],
            [
             0.5555555555555556,
             "#d8576b"
            ],
            [
             0.6666666666666666,
             "#ed7953"
            ],
            [
             0.7777777777777778,
             "#fb9f3a"
            ],
            [
             0.8888888888888888,
             "#fdca26"
            ],
            [
             1,
             "#f0f921"
            ]
           ]
          },
          "colorway": [
           "#636efa",
           "#EF553B",
           "#00cc96",
           "#ab63fa",
           "#FFA15A",
           "#19d3f3",
           "#FF6692",
           "#B6E880",
           "#FF97FF",
           "#FECB52"
          ],
          "font": {
           "color": "#2a3f5f"
          },
          "geo": {
           "bgcolor": "white",
           "lakecolor": "white",
           "landcolor": "#E5ECF6",
           "showlakes": true,
           "showland": true,
           "subunitcolor": "white"
          },
          "hoverlabel": {
           "align": "left"
          },
          "hovermode": "closest",
          "mapbox": {
           "style": "light"
          },
          "paper_bgcolor": "white",
          "plot_bgcolor": "#E5ECF6",
          "polar": {
           "angularaxis": {
            "gridcolor": "white",
            "linecolor": "white",
            "ticks": ""
           },
           "bgcolor": "#E5ECF6",
           "radialaxis": {
            "gridcolor": "white",
            "linecolor": "white",
            "ticks": ""
           }
          },
          "scene": {
           "xaxis": {
            "backgroundcolor": "#E5ECF6",
            "gridcolor": "white",
            "gridwidth": 2,
            "linecolor": "white",
            "showbackground": true,
            "ticks": "",
            "zerolinecolor": "white"
           },
           "yaxis": {
            "backgroundcolor": "#E5ECF6",
            "gridcolor": "white",
            "gridwidth": 2,
            "linecolor": "white",
            "showbackground": true,
            "ticks": "",
            "zerolinecolor": "white"
           },
           "zaxis": {
            "backgroundcolor": "#E5ECF6",
            "gridcolor": "white",
            "gridwidth": 2,
            "linecolor": "white",
            "showbackground": true,
            "ticks": "",
            "zerolinecolor": "white"
           }
          },
          "shapedefaults": {
           "line": {
            "color": "#2a3f5f"
           }
          },
          "ternary": {
           "aaxis": {
            "gridcolor": "white",
            "linecolor": "white",
            "ticks": ""
           },
           "baxis": {
            "gridcolor": "white",
            "linecolor": "white",
            "ticks": ""
           },
           "bgcolor": "#E5ECF6",
           "caxis": {
            "gridcolor": "white",
            "linecolor": "white",
            "ticks": ""
           }
          },
          "title": {
           "x": 0.05
          },
          "xaxis": {
           "automargin": true,
           "gridcolor": "white",
           "linecolor": "white",
           "ticks": "",
           "title": {
            "standoff": 15
           },
           "zerolinecolor": "white",
           "zerolinewidth": 2
          },
          "yaxis": {
           "automargin": true,
           "gridcolor": "white",
           "linecolor": "white",
           "ticks": "",
           "title": {
            "standoff": 15
           },
           "zerolinecolor": "white",
           "zerolinewidth": 2
          }
         }
        },
        "xaxis": {
         "anchor": "y",
         "constrain": "domain",
         "domain": [
          0,
          1
         ],
         "scaleanchor": "y"
        },
        "yaxis": {
         "anchor": "x",
         "autorange": "reversed",
         "constrain": "domain",
         "domain": [
          0,
          1
         ]
        }
       }
      }
     },
     "metadata": {},
     "output_type": "display_data"
    }
   ],
   "source": [
    "c = df_w_tokens.select_dtypes(include=['float64', 'int64']).corr()\n",
    "px.imshow(c, text_auto=True)"
   ]
  },
  {
   "cell_type": "code",
   "execution_count": 29,
   "metadata": {},
   "outputs": [],
   "source": [
    "# Define bins for the decades\n",
    "bins = [1990, 2000, 2010, 2020]\n",
    "labels = ['90s', '00s', '10s']\n",
    "df_w_tokens['decade'] = pd.cut(df_w_tokens['album_release_year'], bins=bins, labels=labels)\n",
    "\n",
    "# Dummy encoding to measure correlations\n",
    "dummy = pd.get_dummies(df_w_tokens['decade'])\n",
    "df_encoded = pd.concat([df_w_tokens, dummy], axis=1)"
   ]
  },
  {
   "cell_type": "code",
   "execution_count": null,
   "metadata": {},
   "outputs": [],
   "source": []
  }
 ],
 "metadata": {
  "kernelspec": {
   "display_name": "radiohead-semantic-statistics-Aen7Xr81-py3.11",
   "language": "python",
   "name": "python3"
  },
  "language_info": {
   "codemirror_mode": {
    "name": "ipython",
    "version": 3
   },
   "file_extension": ".py",
   "mimetype": "text/x-python",
   "name": "python",
   "nbconvert_exporter": "python",
   "pygments_lexer": "ipython3",
   "version": "3.11.10"
  }
 },
 "nbformat": 4,
 "nbformat_minor": 2
}
