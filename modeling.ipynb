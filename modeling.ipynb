{
 "cells": [
  {
   "cell_type": "markdown",
   "metadata": {},
   "source": [
    "# Classifying Radiohead lyrics with super vector distribution"
   ]
  },
  {
   "cell_type": "markdown",
   "metadata": {},
   "source": [
    "## Motivation"
   ]
  },
  {
   "cell_type": "markdown",
   "metadata": {},
   "source": [
    "I wrote my thesis this semester related to LLM-agents and it included a research on the topic of NLP. I found especially interesting the discoveries of Mikolov et al. ([Mikolov et al. 2013](https://arxiv.org/abs/1301.3781)) about word embeddings and interesting relationships between them. Their work showcased that we can represent semantic meanings of words precisely in finite dimensions and many question have come to my mind:\n",
    "\n",
    "- What if we use the words' semantic representations for **unsupervised clustering**?\n",
    "- What are the **words represented by a cluster**? Do they represent easiliy interpretable connections?\n",
    "- Can we use these clusters for **document classifying**?\n",
    "\n",
    "I decided that I will dvelve more deeply on the topic and try to answer these questions on the corpus of the radiohead lyrics.\n",
    "\n",
    "During the research for this project, I found a method by Butnaru et al. ([Butnaru et al. 2017](https://sciencedirect.com/science/article/pii/S1877050917316071)) where they implemented **k-means clustering** to create ***super word vectors*** and then classified documents based on the distribution of super word vectors in each document. Their algorithm is similar to what I initially planned to do so I decided to follow the same logic, but I will try a **hierarhichal clustering** algorithm, and I will also use **dimension reduction** based on the corpus to see wether it helps the quality of the clustering. For the classification part my documents will be the radiohead song lyrics and the classes will be assigned to the albums.\n",
    "\n",
    "The main goal of the research is to experience with some of the learned techniques of a Data Science course I took at the University and to satisfy my curiosity. I am aware that using word embeddings isn't the most preferable approach for document classification and it would be more logical to use text embedding models on longer text chunks. This solution on the other hand doesn't require the high computing power of such models and can be trained on relatively shorter document sets.\n"
   ]
  },
  {
   "cell_type": "code",
   "execution_count": 14,
   "metadata": {},
   "outputs": [],
   "source": [
    "from pathlib import Path\n",
    "import pandas as pd\n",
    "import numpy as np\n",
    "from sklearn.cluster import AgglomerativeClustering\n",
    "from scipy.cluster.hierarchy import dendrogram\n",
    "import plotly.express as px\n",
    "import plotly.graph_objects as go\n",
    "from plotly.subplots import make_subplots\n",
    "from sklearn.decomposition import PCA"
   ]
  },
  {
   "cell_type": "code",
   "execution_count": 4,
   "metadata": {},
   "outputs": [],
   "source": [
    "with open(Path('data/embeddings.csv')) as f:\n",
    "    embeddings = pd.read_csv(f, index_col=0)\n",
    "\n",
    "with open(Path('data/radiohead_extended.csv')) as f:\n",
    "    radiohead = pd.read_csv(f)"
   ]
  },
  {
   "cell_type": "code",
   "execution_count": 5,
   "metadata": {},
   "outputs": [
    {
     "data": {
      "text/html": [
       "<div>\n",
       "<style scoped>\n",
       "    .dataframe tbody tr th:only-of-type {\n",
       "        vertical-align: middle;\n",
       "    }\n",
       "\n",
       "    .dataframe tbody tr th {\n",
       "        vertical-align: top;\n",
       "    }\n",
       "\n",
       "    .dataframe thead th {\n",
       "        text-align: right;\n",
       "    }\n",
       "</style>\n",
       "<table border=\"1\" class=\"dataframe\">\n",
       "  <thead>\n",
       "    <tr style=\"text-align: right;\">\n",
       "      <th></th>\n",
       "      <th>0</th>\n",
       "      <th>1</th>\n",
       "      <th>2</th>\n",
       "      <th>3</th>\n",
       "      <th>4</th>\n",
       "      <th>5</th>\n",
       "      <th>6</th>\n",
       "      <th>7</th>\n",
       "      <th>8</th>\n",
       "      <th>9</th>\n",
       "      <th>...</th>\n",
       "      <th>290</th>\n",
       "      <th>291</th>\n",
       "      <th>292</th>\n",
       "      <th>293</th>\n",
       "      <th>294</th>\n",
       "      <th>295</th>\n",
       "      <th>296</th>\n",
       "      <th>297</th>\n",
       "      <th>298</th>\n",
       "      <th>299</th>\n",
       "    </tr>\n",
       "  </thead>\n",
       "  <tbody>\n",
       "    <tr>\n",
       "      <th>lock</th>\n",
       "      <td>0.017944</td>\n",
       "      <td>0.193359</td>\n",
       "      <td>-0.062988</td>\n",
       "      <td>0.024292</td>\n",
       "      <td>0.001579</td>\n",
       "      <td>0.075195</td>\n",
       "      <td>-0.057129</td>\n",
       "      <td>0.139648</td>\n",
       "      <td>0.269531</td>\n",
       "      <td>0.027710</td>\n",
       "      <td>...</td>\n",
       "      <td>0.039062</td>\n",
       "      <td>0.277344</td>\n",
       "      <td>0.102539</td>\n",
       "      <td>0.100586</td>\n",
       "      <td>-0.030518</td>\n",
       "      <td>-0.144531</td>\n",
       "      <td>-0.123047</td>\n",
       "      <td>-0.218750</td>\n",
       "      <td>-0.049561</td>\n",
       "      <td>0.026978</td>\n",
       "    </tr>\n",
       "    <tr>\n",
       "      <th>path</th>\n",
       "      <td>0.083496</td>\n",
       "      <td>0.138672</td>\n",
       "      <td>0.005829</td>\n",
       "      <td>0.213867</td>\n",
       "      <td>0.024902</td>\n",
       "      <td>-0.131836</td>\n",
       "      <td>0.121094</td>\n",
       "      <td>-0.412109</td>\n",
       "      <td>-0.236328</td>\n",
       "      <td>0.349609</td>\n",
       "      <td>...</td>\n",
       "      <td>-0.062988</td>\n",
       "      <td>0.154297</td>\n",
       "      <td>-0.226562</td>\n",
       "      <td>0.055420</td>\n",
       "      <td>0.047363</td>\n",
       "      <td>-0.046875</td>\n",
       "      <td>0.109863</td>\n",
       "      <td>0.036865</td>\n",
       "      <td>0.032471</td>\n",
       "      <td>0.019897</td>\n",
       "    </tr>\n",
       "    <tr>\n",
       "      <th>microwave</th>\n",
       "      <td>-0.300781</td>\n",
       "      <td>-0.066895</td>\n",
       "      <td>0.075684</td>\n",
       "      <td>0.324219</td>\n",
       "      <td>-0.030762</td>\n",
       "      <td>0.013245</td>\n",
       "      <td>0.172852</td>\n",
       "      <td>-0.328125</td>\n",
       "      <td>0.022461</td>\n",
       "      <td>0.239258</td>\n",
       "      <td>...</td>\n",
       "      <td>-0.103027</td>\n",
       "      <td>-0.019165</td>\n",
       "      <td>-0.410156</td>\n",
       "      <td>0.214844</td>\n",
       "      <td>-0.012451</td>\n",
       "      <td>-0.515625</td>\n",
       "      <td>-0.011963</td>\n",
       "      <td>0.007416</td>\n",
       "      <td>-0.075684</td>\n",
       "      <td>0.219727</td>\n",
       "    </tr>\n",
       "    <tr>\n",
       "      <th>dealers</th>\n",
       "      <td>0.135742</td>\n",
       "      <td>0.170898</td>\n",
       "      <td>-0.042969</td>\n",
       "      <td>0.298828</td>\n",
       "      <td>-0.008240</td>\n",
       "      <td>0.053955</td>\n",
       "      <td>-0.033447</td>\n",
       "      <td>0.085938</td>\n",
       "      <td>-0.041016</td>\n",
       "      <td>0.314453</td>\n",
       "      <td>...</td>\n",
       "      <td>0.049561</td>\n",
       "      <td>0.167969</td>\n",
       "      <td>-0.177734</td>\n",
       "      <td>-0.062500</td>\n",
       "      <td>0.335938</td>\n",
       "      <td>0.104492</td>\n",
       "      <td>-0.144531</td>\n",
       "      <td>0.107422</td>\n",
       "      <td>0.152344</td>\n",
       "      <td>-0.660156</td>\n",
       "    </tr>\n",
       "    <tr>\n",
       "      <th>bouncing</th>\n",
       "      <td>-0.180664</td>\n",
       "      <td>0.110840</td>\n",
       "      <td>-0.104004</td>\n",
       "      <td>0.125977</td>\n",
       "      <td>-0.053955</td>\n",
       "      <td>-0.234375</td>\n",
       "      <td>-0.187500</td>\n",
       "      <td>0.202148</td>\n",
       "      <td>0.154297</td>\n",
       "      <td>0.289062</td>\n",
       "      <td>...</td>\n",
       "      <td>-0.271484</td>\n",
       "      <td>0.175781</td>\n",
       "      <td>0.032227</td>\n",
       "      <td>-0.136719</td>\n",
       "      <td>0.201172</td>\n",
       "      <td>0.081543</td>\n",
       "      <td>0.240234</td>\n",
       "      <td>-0.130859</td>\n",
       "      <td>0.067383</td>\n",
       "      <td>-0.025024</td>\n",
       "    </tr>\n",
       "    <tr>\n",
       "      <th>...</th>\n",
       "      <td>...</td>\n",
       "      <td>...</td>\n",
       "      <td>...</td>\n",
       "      <td>...</td>\n",
       "      <td>...</td>\n",
       "      <td>...</td>\n",
       "      <td>...</td>\n",
       "      <td>...</td>\n",
       "      <td>...</td>\n",
       "      <td>...</td>\n",
       "      <td>...</td>\n",
       "      <td>...</td>\n",
       "      <td>...</td>\n",
       "      <td>...</td>\n",
       "      <td>...</td>\n",
       "      <td>...</td>\n",
       "      <td>...</td>\n",
       "      <td>...</td>\n",
       "      <td>...</td>\n",
       "      <td>...</td>\n",
       "      <td>...</td>\n",
       "    </tr>\n",
       "    <tr>\n",
       "      <th>disappears</th>\n",
       "      <td>0.281250</td>\n",
       "      <td>0.204102</td>\n",
       "      <td>-0.237305</td>\n",
       "      <td>0.006470</td>\n",
       "      <td>-0.433594</td>\n",
       "      <td>0.015869</td>\n",
       "      <td>0.146484</td>\n",
       "      <td>-0.187500</td>\n",
       "      <td>0.343750</td>\n",
       "      <td>0.060303</td>\n",
       "      <td>...</td>\n",
       "      <td>-0.116699</td>\n",
       "      <td>0.189453</td>\n",
       "      <td>-0.159180</td>\n",
       "      <td>0.168945</td>\n",
       "      <td>-0.034424</td>\n",
       "      <td>0.257812</td>\n",
       "      <td>0.009705</td>\n",
       "      <td>-0.257812</td>\n",
       "      <td>0.091797</td>\n",
       "      <td>0.091797</td>\n",
       "    </tr>\n",
       "    <tr>\n",
       "      <th>pigskin</th>\n",
       "      <td>0.073730</td>\n",
       "      <td>-0.084473</td>\n",
       "      <td>0.032959</td>\n",
       "      <td>0.204102</td>\n",
       "      <td>-0.084961</td>\n",
       "      <td>-0.179688</td>\n",
       "      <td>0.185547</td>\n",
       "      <td>-0.101562</td>\n",
       "      <td>0.031128</td>\n",
       "      <td>0.155273</td>\n",
       "      <td>...</td>\n",
       "      <td>-0.005768</td>\n",
       "      <td>-0.056152</td>\n",
       "      <td>-0.145508</td>\n",
       "      <td>0.041504</td>\n",
       "      <td>0.441406</td>\n",
       "      <td>0.246094</td>\n",
       "      <td>0.208984</td>\n",
       "      <td>0.107910</td>\n",
       "      <td>-0.173828</td>\n",
       "      <td>0.167969</td>\n",
       "    </tr>\n",
       "    <tr>\n",
       "      <th>plastic</th>\n",
       "      <td>-0.204102</td>\n",
       "      <td>0.324219</td>\n",
       "      <td>-0.035645</td>\n",
       "      <td>0.004303</td>\n",
       "      <td>-0.178711</td>\n",
       "      <td>0.108398</td>\n",
       "      <td>0.080078</td>\n",
       "      <td>-0.066406</td>\n",
       "      <td>0.071289</td>\n",
       "      <td>0.312500</td>\n",
       "      <td>...</td>\n",
       "      <td>-0.259766</td>\n",
       "      <td>-0.236328</td>\n",
       "      <td>-0.114258</td>\n",
       "      <td>-0.032471</td>\n",
       "      <td>-0.126953</td>\n",
       "      <td>-0.001892</td>\n",
       "      <td>0.253906</td>\n",
       "      <td>0.173828</td>\n",
       "      <td>-0.011353</td>\n",
       "      <td>-0.077148</td>\n",
       "    </tr>\n",
       "    <tr>\n",
       "      <th>phone</th>\n",
       "      <td>-0.014465</td>\n",
       "      <td>-0.127930</td>\n",
       "      <td>-0.115723</td>\n",
       "      <td>-0.221680</td>\n",
       "      <td>-0.073730</td>\n",
       "      <td>-0.059814</td>\n",
       "      <td>-0.100098</td>\n",
       "      <td>-0.068848</td>\n",
       "      <td>0.149414</td>\n",
       "      <td>0.101074</td>\n",
       "      <td>...</td>\n",
       "      <td>-0.079102</td>\n",
       "      <td>0.157227</td>\n",
       "      <td>-0.061523</td>\n",
       "      <td>-0.174805</td>\n",
       "      <td>0.080078</td>\n",
       "      <td>-0.136719</td>\n",
       "      <td>-0.183594</td>\n",
       "      <td>-0.052002</td>\n",
       "      <td>-0.005859</td>\n",
       "      <td>-0.156250</td>\n",
       "    </tr>\n",
       "    <tr>\n",
       "      <th>jim</th>\n",
       "      <td>-0.170898</td>\n",
       "      <td>0.110352</td>\n",
       "      <td>-0.156250</td>\n",
       "      <td>0.257812</td>\n",
       "      <td>-0.022217</td>\n",
       "      <td>-0.092773</td>\n",
       "      <td>-0.083984</td>\n",
       "      <td>-0.093750</td>\n",
       "      <td>0.060303</td>\n",
       "      <td>0.251953</td>\n",
       "      <td>...</td>\n",
       "      <td>0.224609</td>\n",
       "      <td>-0.061768</td>\n",
       "      <td>-0.075195</td>\n",
       "      <td>0.040527</td>\n",
       "      <td>-0.147461</td>\n",
       "      <td>-0.330078</td>\n",
       "      <td>-0.343750</td>\n",
       "      <td>-0.392578</td>\n",
       "      <td>-0.093750</td>\n",
       "      <td>0.078613</td>\n",
       "    </tr>\n",
       "  </tbody>\n",
       "</table>\n",
       "<p>1755 rows × 300 columns</p>\n",
       "</div>"
      ],
      "text/plain": [
       "                   0         1         2         3         4         5  \\\n",
       "lock        0.017944  0.193359 -0.062988  0.024292  0.001579  0.075195   \n",
       "path        0.083496  0.138672  0.005829  0.213867  0.024902 -0.131836   \n",
       "microwave  -0.300781 -0.066895  0.075684  0.324219 -0.030762  0.013245   \n",
       "dealers     0.135742  0.170898 -0.042969  0.298828 -0.008240  0.053955   \n",
       "bouncing   -0.180664  0.110840 -0.104004  0.125977 -0.053955 -0.234375   \n",
       "...              ...       ...       ...       ...       ...       ...   \n",
       "disappears  0.281250  0.204102 -0.237305  0.006470 -0.433594  0.015869   \n",
       "pigskin     0.073730 -0.084473  0.032959  0.204102 -0.084961 -0.179688   \n",
       "plastic    -0.204102  0.324219 -0.035645  0.004303 -0.178711  0.108398   \n",
       "phone      -0.014465 -0.127930 -0.115723 -0.221680 -0.073730 -0.059814   \n",
       "jim        -0.170898  0.110352 -0.156250  0.257812 -0.022217 -0.092773   \n",
       "\n",
       "                   6         7         8         9  ...       290       291  \\\n",
       "lock       -0.057129  0.139648  0.269531  0.027710  ...  0.039062  0.277344   \n",
       "path        0.121094 -0.412109 -0.236328  0.349609  ... -0.062988  0.154297   \n",
       "microwave   0.172852 -0.328125  0.022461  0.239258  ... -0.103027 -0.019165   \n",
       "dealers    -0.033447  0.085938 -0.041016  0.314453  ...  0.049561  0.167969   \n",
       "bouncing   -0.187500  0.202148  0.154297  0.289062  ... -0.271484  0.175781   \n",
       "...              ...       ...       ...       ...  ...       ...       ...   \n",
       "disappears  0.146484 -0.187500  0.343750  0.060303  ... -0.116699  0.189453   \n",
       "pigskin     0.185547 -0.101562  0.031128  0.155273  ... -0.005768 -0.056152   \n",
       "plastic     0.080078 -0.066406  0.071289  0.312500  ... -0.259766 -0.236328   \n",
       "phone      -0.100098 -0.068848  0.149414  0.101074  ... -0.079102  0.157227   \n",
       "jim        -0.083984 -0.093750  0.060303  0.251953  ...  0.224609 -0.061768   \n",
       "\n",
       "                 292       293       294       295       296       297  \\\n",
       "lock        0.102539  0.100586 -0.030518 -0.144531 -0.123047 -0.218750   \n",
       "path       -0.226562  0.055420  0.047363 -0.046875  0.109863  0.036865   \n",
       "microwave  -0.410156  0.214844 -0.012451 -0.515625 -0.011963  0.007416   \n",
       "dealers    -0.177734 -0.062500  0.335938  0.104492 -0.144531  0.107422   \n",
       "bouncing    0.032227 -0.136719  0.201172  0.081543  0.240234 -0.130859   \n",
       "...              ...       ...       ...       ...       ...       ...   \n",
       "disappears -0.159180  0.168945 -0.034424  0.257812  0.009705 -0.257812   \n",
       "pigskin    -0.145508  0.041504  0.441406  0.246094  0.208984  0.107910   \n",
       "plastic    -0.114258 -0.032471 -0.126953 -0.001892  0.253906  0.173828   \n",
       "phone      -0.061523 -0.174805  0.080078 -0.136719 -0.183594 -0.052002   \n",
       "jim        -0.075195  0.040527 -0.147461 -0.330078 -0.343750 -0.392578   \n",
       "\n",
       "                 298       299  \n",
       "lock       -0.049561  0.026978  \n",
       "path        0.032471  0.019897  \n",
       "microwave  -0.075684  0.219727  \n",
       "dealers     0.152344 -0.660156  \n",
       "bouncing    0.067383 -0.025024  \n",
       "...              ...       ...  \n",
       "disappears  0.091797  0.091797  \n",
       "pigskin    -0.173828  0.167969  \n",
       "plastic    -0.011353 -0.077148  \n",
       "phone      -0.005859 -0.156250  \n",
       "jim        -0.093750  0.078613  \n",
       "\n",
       "[1755 rows x 300 columns]"
      ]
     },
     "execution_count": 5,
     "metadata": {},
     "output_type": "execute_result"
    }
   ],
   "source": [
    "embeddings"
   ]
  },
  {
   "cell_type": "code",
   "execution_count": 6,
   "metadata": {},
   "outputs": [
    {
     "data": {
      "text/plain": [
       "dtype('float64')"
      ]
     },
     "execution_count": 6,
     "metadata": {},
     "output_type": "execute_result"
    }
   ],
   "source": [
    "embeddings_vector = np.array(embeddings.iloc[:, 1:])\n",
    "embeddings_vector.dtype"
   ]
  },
  {
   "cell_type": "markdown",
   "metadata": {},
   "source": [
    "## Clustering using original embeddings"
   ]
  },
  {
   "cell_type": "code",
   "execution_count": 88,
   "metadata": {},
   "outputs": [
    {
     "data": {
      "text/html": [
       "<style>#sk-container-id-9 {\n",
       "  /* Definition of color scheme common for light and dark mode */\n",
       "  --sklearn-color-text: black;\n",
       "  --sklearn-color-line: gray;\n",
       "  /* Definition of color scheme for unfitted estimators */\n",
       "  --sklearn-color-unfitted-level-0: #fff5e6;\n",
       "  --sklearn-color-unfitted-level-1: #f6e4d2;\n",
       "  --sklearn-color-unfitted-level-2: #ffe0b3;\n",
       "  --sklearn-color-unfitted-level-3: chocolate;\n",
       "  /* Definition of color scheme for fitted estimators */\n",
       "  --sklearn-color-fitted-level-0: #f0f8ff;\n",
       "  --sklearn-color-fitted-level-1: #d4ebff;\n",
       "  --sklearn-color-fitted-level-2: #b3dbfd;\n",
       "  --sklearn-color-fitted-level-3: cornflowerblue;\n",
       "\n",
       "  /* Specific color for light theme */\n",
       "  --sklearn-color-text-on-default-background: var(--sg-text-color, var(--theme-code-foreground, var(--jp-content-font-color1, black)));\n",
       "  --sklearn-color-background: var(--sg-background-color, var(--theme-background, var(--jp-layout-color0, white)));\n",
       "  --sklearn-color-border-box: var(--sg-text-color, var(--theme-code-foreground, var(--jp-content-font-color1, black)));\n",
       "  --sklearn-color-icon: #696969;\n",
       "\n",
       "  @media (prefers-color-scheme: dark) {\n",
       "    /* Redefinition of color scheme for dark theme */\n",
       "    --sklearn-color-text-on-default-background: var(--sg-text-color, var(--theme-code-foreground, var(--jp-content-font-color1, white)));\n",
       "    --sklearn-color-background: var(--sg-background-color, var(--theme-background, var(--jp-layout-color0, #111)));\n",
       "    --sklearn-color-border-box: var(--sg-text-color, var(--theme-code-foreground, var(--jp-content-font-color1, white)));\n",
       "    --sklearn-color-icon: #878787;\n",
       "  }\n",
       "}\n",
       "\n",
       "#sk-container-id-9 {\n",
       "  color: var(--sklearn-color-text);\n",
       "}\n",
       "\n",
       "#sk-container-id-9 pre {\n",
       "  padding: 0;\n",
       "}\n",
       "\n",
       "#sk-container-id-9 input.sk-hidden--visually {\n",
       "  border: 0;\n",
       "  clip: rect(1px 1px 1px 1px);\n",
       "  clip: rect(1px, 1px, 1px, 1px);\n",
       "  height: 1px;\n",
       "  margin: -1px;\n",
       "  overflow: hidden;\n",
       "  padding: 0;\n",
       "  position: absolute;\n",
       "  width: 1px;\n",
       "}\n",
       "\n",
       "#sk-container-id-9 div.sk-dashed-wrapped {\n",
       "  border: 1px dashed var(--sklearn-color-line);\n",
       "  margin: 0 0.4em 0.5em 0.4em;\n",
       "  box-sizing: border-box;\n",
       "  padding-bottom: 0.4em;\n",
       "  background-color: var(--sklearn-color-background);\n",
       "}\n",
       "\n",
       "#sk-container-id-9 div.sk-container {\n",
       "  /* jupyter's `normalize.less` sets `[hidden] { display: none; }`\n",
       "     but bootstrap.min.css set `[hidden] { display: none !important; }`\n",
       "     so we also need the `!important` here to be able to override the\n",
       "     default hidden behavior on the sphinx rendered scikit-learn.org.\n",
       "     See: https://github.com/scikit-learn/scikit-learn/issues/21755 */\n",
       "  display: inline-block !important;\n",
       "  position: relative;\n",
       "}\n",
       "\n",
       "#sk-container-id-9 div.sk-text-repr-fallback {\n",
       "  display: none;\n",
       "}\n",
       "\n",
       "div.sk-parallel-item,\n",
       "div.sk-serial,\n",
       "div.sk-item {\n",
       "  /* draw centered vertical line to link estimators */\n",
       "  background-image: linear-gradient(var(--sklearn-color-text-on-default-background), var(--sklearn-color-text-on-default-background));\n",
       "  background-size: 2px 100%;\n",
       "  background-repeat: no-repeat;\n",
       "  background-position: center center;\n",
       "}\n",
       "\n",
       "/* Parallel-specific style estimator block */\n",
       "\n",
       "#sk-container-id-9 div.sk-parallel-item::after {\n",
       "  content: \"\";\n",
       "  width: 100%;\n",
       "  border-bottom: 2px solid var(--sklearn-color-text-on-default-background);\n",
       "  flex-grow: 1;\n",
       "}\n",
       "\n",
       "#sk-container-id-9 div.sk-parallel {\n",
       "  display: flex;\n",
       "  align-items: stretch;\n",
       "  justify-content: center;\n",
       "  background-color: var(--sklearn-color-background);\n",
       "  position: relative;\n",
       "}\n",
       "\n",
       "#sk-container-id-9 div.sk-parallel-item {\n",
       "  display: flex;\n",
       "  flex-direction: column;\n",
       "}\n",
       "\n",
       "#sk-container-id-9 div.sk-parallel-item:first-child::after {\n",
       "  align-self: flex-end;\n",
       "  width: 50%;\n",
       "}\n",
       "\n",
       "#sk-container-id-9 div.sk-parallel-item:last-child::after {\n",
       "  align-self: flex-start;\n",
       "  width: 50%;\n",
       "}\n",
       "\n",
       "#sk-container-id-9 div.sk-parallel-item:only-child::after {\n",
       "  width: 0;\n",
       "}\n",
       "\n",
       "/* Serial-specific style estimator block */\n",
       "\n",
       "#sk-container-id-9 div.sk-serial {\n",
       "  display: flex;\n",
       "  flex-direction: column;\n",
       "  align-items: center;\n",
       "  background-color: var(--sklearn-color-background);\n",
       "  padding-right: 1em;\n",
       "  padding-left: 1em;\n",
       "}\n",
       "\n",
       "\n",
       "/* Toggleable style: style used for estimator/Pipeline/ColumnTransformer box that is\n",
       "clickable and can be expanded/collapsed.\n",
       "- Pipeline and ColumnTransformer use this feature and define the default style\n",
       "- Estimators will overwrite some part of the style using the `sk-estimator` class\n",
       "*/\n",
       "\n",
       "/* Pipeline and ColumnTransformer style (default) */\n",
       "\n",
       "#sk-container-id-9 div.sk-toggleable {\n",
       "  /* Default theme specific background. It is overwritten whether we have a\n",
       "  specific estimator or a Pipeline/ColumnTransformer */\n",
       "  background-color: var(--sklearn-color-background);\n",
       "}\n",
       "\n",
       "/* Toggleable label */\n",
       "#sk-container-id-9 label.sk-toggleable__label {\n",
       "  cursor: pointer;\n",
       "  display: block;\n",
       "  width: 100%;\n",
       "  margin-bottom: 0;\n",
       "  padding: 0.5em;\n",
       "  box-sizing: border-box;\n",
       "  text-align: center;\n",
       "}\n",
       "\n",
       "#sk-container-id-9 label.sk-toggleable__label-arrow:before {\n",
       "  /* Arrow on the left of the label */\n",
       "  content: \"▸\";\n",
       "  float: left;\n",
       "  margin-right: 0.25em;\n",
       "  color: var(--sklearn-color-icon);\n",
       "}\n",
       "\n",
       "#sk-container-id-9 label.sk-toggleable__label-arrow:hover:before {\n",
       "  color: var(--sklearn-color-text);\n",
       "}\n",
       "\n",
       "/* Toggleable content - dropdown */\n",
       "\n",
       "#sk-container-id-9 div.sk-toggleable__content {\n",
       "  max-height: 0;\n",
       "  max-width: 0;\n",
       "  overflow: hidden;\n",
       "  text-align: left;\n",
       "  /* unfitted */\n",
       "  background-color: var(--sklearn-color-unfitted-level-0);\n",
       "}\n",
       "\n",
       "#sk-container-id-9 div.sk-toggleable__content.fitted {\n",
       "  /* fitted */\n",
       "  background-color: var(--sklearn-color-fitted-level-0);\n",
       "}\n",
       "\n",
       "#sk-container-id-9 div.sk-toggleable__content pre {\n",
       "  margin: 0.2em;\n",
       "  border-radius: 0.25em;\n",
       "  color: var(--sklearn-color-text);\n",
       "  /* unfitted */\n",
       "  background-color: var(--sklearn-color-unfitted-level-0);\n",
       "}\n",
       "\n",
       "#sk-container-id-9 div.sk-toggleable__content.fitted pre {\n",
       "  /* unfitted */\n",
       "  background-color: var(--sklearn-color-fitted-level-0);\n",
       "}\n",
       "\n",
       "#sk-container-id-9 input.sk-toggleable__control:checked~div.sk-toggleable__content {\n",
       "  /* Expand drop-down */\n",
       "  max-height: 200px;\n",
       "  max-width: 100%;\n",
       "  overflow: auto;\n",
       "}\n",
       "\n",
       "#sk-container-id-9 input.sk-toggleable__control:checked~label.sk-toggleable__label-arrow:before {\n",
       "  content: \"▾\";\n",
       "}\n",
       "\n",
       "/* Pipeline/ColumnTransformer-specific style */\n",
       "\n",
       "#sk-container-id-9 div.sk-label input.sk-toggleable__control:checked~label.sk-toggleable__label {\n",
       "  color: var(--sklearn-color-text);\n",
       "  background-color: var(--sklearn-color-unfitted-level-2);\n",
       "}\n",
       "\n",
       "#sk-container-id-9 div.sk-label.fitted input.sk-toggleable__control:checked~label.sk-toggleable__label {\n",
       "  background-color: var(--sklearn-color-fitted-level-2);\n",
       "}\n",
       "\n",
       "/* Estimator-specific style */\n",
       "\n",
       "/* Colorize estimator box */\n",
       "#sk-container-id-9 div.sk-estimator input.sk-toggleable__control:checked~label.sk-toggleable__label {\n",
       "  /* unfitted */\n",
       "  background-color: var(--sklearn-color-unfitted-level-2);\n",
       "}\n",
       "\n",
       "#sk-container-id-9 div.sk-estimator.fitted input.sk-toggleable__control:checked~label.sk-toggleable__label {\n",
       "  /* fitted */\n",
       "  background-color: var(--sklearn-color-fitted-level-2);\n",
       "}\n",
       "\n",
       "#sk-container-id-9 div.sk-label label.sk-toggleable__label,\n",
       "#sk-container-id-9 div.sk-label label {\n",
       "  /* The background is the default theme color */\n",
       "  color: var(--sklearn-color-text-on-default-background);\n",
       "}\n",
       "\n",
       "/* On hover, darken the color of the background */\n",
       "#sk-container-id-9 div.sk-label:hover label.sk-toggleable__label {\n",
       "  color: var(--sklearn-color-text);\n",
       "  background-color: var(--sklearn-color-unfitted-level-2);\n",
       "}\n",
       "\n",
       "/* Label box, darken color on hover, fitted */\n",
       "#sk-container-id-9 div.sk-label.fitted:hover label.sk-toggleable__label.fitted {\n",
       "  color: var(--sklearn-color-text);\n",
       "  background-color: var(--sklearn-color-fitted-level-2);\n",
       "}\n",
       "\n",
       "/* Estimator label */\n",
       "\n",
       "#sk-container-id-9 div.sk-label label {\n",
       "  font-family: monospace;\n",
       "  font-weight: bold;\n",
       "  display: inline-block;\n",
       "  line-height: 1.2em;\n",
       "}\n",
       "\n",
       "#sk-container-id-9 div.sk-label-container {\n",
       "  text-align: center;\n",
       "}\n",
       "\n",
       "/* Estimator-specific */\n",
       "#sk-container-id-9 div.sk-estimator {\n",
       "  font-family: monospace;\n",
       "  border: 1px dotted var(--sklearn-color-border-box);\n",
       "  border-radius: 0.25em;\n",
       "  box-sizing: border-box;\n",
       "  margin-bottom: 0.5em;\n",
       "  /* unfitted */\n",
       "  background-color: var(--sklearn-color-unfitted-level-0);\n",
       "}\n",
       "\n",
       "#sk-container-id-9 div.sk-estimator.fitted {\n",
       "  /* fitted */\n",
       "  background-color: var(--sklearn-color-fitted-level-0);\n",
       "}\n",
       "\n",
       "/* on hover */\n",
       "#sk-container-id-9 div.sk-estimator:hover {\n",
       "  /* unfitted */\n",
       "  background-color: var(--sklearn-color-unfitted-level-2);\n",
       "}\n",
       "\n",
       "#sk-container-id-9 div.sk-estimator.fitted:hover {\n",
       "  /* fitted */\n",
       "  background-color: var(--sklearn-color-fitted-level-2);\n",
       "}\n",
       "\n",
       "/* Specification for estimator info (e.g. \"i\" and \"?\") */\n",
       "\n",
       "/* Common style for \"i\" and \"?\" */\n",
       "\n",
       ".sk-estimator-doc-link,\n",
       "a:link.sk-estimator-doc-link,\n",
       "a:visited.sk-estimator-doc-link {\n",
       "  float: right;\n",
       "  font-size: smaller;\n",
       "  line-height: 1em;\n",
       "  font-family: monospace;\n",
       "  background-color: var(--sklearn-color-background);\n",
       "  border-radius: 1em;\n",
       "  height: 1em;\n",
       "  width: 1em;\n",
       "  text-decoration: none !important;\n",
       "  margin-left: 1ex;\n",
       "  /* unfitted */\n",
       "  border: var(--sklearn-color-unfitted-level-1) 1pt solid;\n",
       "  color: var(--sklearn-color-unfitted-level-1);\n",
       "}\n",
       "\n",
       ".sk-estimator-doc-link.fitted,\n",
       "a:link.sk-estimator-doc-link.fitted,\n",
       "a:visited.sk-estimator-doc-link.fitted {\n",
       "  /* fitted */\n",
       "  border: var(--sklearn-color-fitted-level-1) 1pt solid;\n",
       "  color: var(--sklearn-color-fitted-level-1);\n",
       "}\n",
       "\n",
       "/* On hover */\n",
       "div.sk-estimator:hover .sk-estimator-doc-link:hover,\n",
       ".sk-estimator-doc-link:hover,\n",
       "div.sk-label-container:hover .sk-estimator-doc-link:hover,\n",
       ".sk-estimator-doc-link:hover {\n",
       "  /* unfitted */\n",
       "  background-color: var(--sklearn-color-unfitted-level-3);\n",
       "  color: var(--sklearn-color-background);\n",
       "  text-decoration: none;\n",
       "}\n",
       "\n",
       "div.sk-estimator.fitted:hover .sk-estimator-doc-link.fitted:hover,\n",
       ".sk-estimator-doc-link.fitted:hover,\n",
       "div.sk-label-container:hover .sk-estimator-doc-link.fitted:hover,\n",
       ".sk-estimator-doc-link.fitted:hover {\n",
       "  /* fitted */\n",
       "  background-color: var(--sklearn-color-fitted-level-3);\n",
       "  color: var(--sklearn-color-background);\n",
       "  text-decoration: none;\n",
       "}\n",
       "\n",
       "/* Span, style for the box shown on hovering the info icon */\n",
       ".sk-estimator-doc-link span {\n",
       "  display: none;\n",
       "  z-index: 9999;\n",
       "  position: relative;\n",
       "  font-weight: normal;\n",
       "  right: .2ex;\n",
       "  padding: .5ex;\n",
       "  margin: .5ex;\n",
       "  width: min-content;\n",
       "  min-width: 20ex;\n",
       "  max-width: 50ex;\n",
       "  color: var(--sklearn-color-text);\n",
       "  box-shadow: 2pt 2pt 4pt #999;\n",
       "  /* unfitted */\n",
       "  background: var(--sklearn-color-unfitted-level-0);\n",
       "  border: .5pt solid var(--sklearn-color-unfitted-level-3);\n",
       "}\n",
       "\n",
       ".sk-estimator-doc-link.fitted span {\n",
       "  /* fitted */\n",
       "  background: var(--sklearn-color-fitted-level-0);\n",
       "  border: var(--sklearn-color-fitted-level-3);\n",
       "}\n",
       "\n",
       ".sk-estimator-doc-link:hover span {\n",
       "  display: block;\n",
       "}\n",
       "\n",
       "/* \"?\"-specific style due to the `<a>` HTML tag */\n",
       "\n",
       "#sk-container-id-9 a.estimator_doc_link {\n",
       "  float: right;\n",
       "  font-size: 1rem;\n",
       "  line-height: 1em;\n",
       "  font-family: monospace;\n",
       "  background-color: var(--sklearn-color-background);\n",
       "  border-radius: 1rem;\n",
       "  height: 1rem;\n",
       "  width: 1rem;\n",
       "  text-decoration: none;\n",
       "  /* unfitted */\n",
       "  color: var(--sklearn-color-unfitted-level-1);\n",
       "  border: var(--sklearn-color-unfitted-level-1) 1pt solid;\n",
       "}\n",
       "\n",
       "#sk-container-id-9 a.estimator_doc_link.fitted {\n",
       "  /* fitted */\n",
       "  border: var(--sklearn-color-fitted-level-1) 1pt solid;\n",
       "  color: var(--sklearn-color-fitted-level-1);\n",
       "}\n",
       "\n",
       "/* On hover */\n",
       "#sk-container-id-9 a.estimator_doc_link:hover {\n",
       "  /* unfitted */\n",
       "  background-color: var(--sklearn-color-unfitted-level-3);\n",
       "  color: var(--sklearn-color-background);\n",
       "  text-decoration: none;\n",
       "}\n",
       "\n",
       "#sk-container-id-9 a.estimator_doc_link.fitted:hover {\n",
       "  /* fitted */\n",
       "  background-color: var(--sklearn-color-fitted-level-3);\n",
       "}\n",
       "</style><div id=\"sk-container-id-9\" class=\"sk-top-container\"><div class=\"sk-text-repr-fallback\"><pre>AgglomerativeClustering(compute_distances=True, distance_threshold=0,\n",
       "                        linkage=&#x27;complete&#x27;, metric=&#x27;cosine&#x27;, n_clusters=None)</pre><b>In a Jupyter environment, please rerun this cell to show the HTML representation or trust the notebook. <br />On GitHub, the HTML representation is unable to render, please try loading this page with nbviewer.org.</b></div><div class=\"sk-container\" hidden><div class=\"sk-item\"><div class=\"sk-estimator fitted sk-toggleable\"><input class=\"sk-toggleable__control sk-hidden--visually\" id=\"sk-estimator-id-9\" type=\"checkbox\" checked><label for=\"sk-estimator-id-9\" class=\"sk-toggleable__label fitted sk-toggleable__label-arrow fitted\">&nbsp;&nbsp;AgglomerativeClustering<a class=\"sk-estimator-doc-link fitted\" rel=\"noreferrer\" target=\"_blank\" href=\"https://scikit-learn.org/1.5/modules/generated/sklearn.cluster.AgglomerativeClustering.html\">?<span>Documentation for AgglomerativeClustering</span></a><span class=\"sk-estimator-doc-link fitted\">i<span>Fitted</span></span></label><div class=\"sk-toggleable__content fitted\"><pre>AgglomerativeClustering(compute_distances=True, distance_threshold=0,\n",
       "                        linkage=&#x27;complete&#x27;, metric=&#x27;cosine&#x27;, n_clusters=None)</pre></div> </div></div></div></div>"
      ],
      "text/plain": [
       "AgglomerativeClustering(compute_distances=True, distance_threshold=0,\n",
       "                        linkage='complete', metric='cosine', n_clusters=None)"
      ]
     },
     "execution_count": 88,
     "metadata": {},
     "output_type": "execute_result"
    }
   ],
   "source": [
    "# I will try different linkage methods to find a cluster number that fits the data representation\n",
    "model_average = AgglomerativeClustering(distance_threshold=0,\n",
    "                                n_clusters=None, \n",
    "                                compute_distances = True,  # We want to determine the clusters based on the distances\n",
    "                                metric=\"cosine\",  # They usually use cosine for text embeddings and it is not as computational heavy\n",
    "                                linkage=\"average\")  # I use the average values for each cluster to determine the distances\n",
    "model_average.fit(embeddings_vector)\n",
    "\n",
    "model_min = AgglomerativeClustering(distance_threshold=0,\n",
    "                                n_clusters=None, \n",
    "                                compute_distances = True,\n",
    "                                metric=\"cosine\",\n",
    "                                linkage=\"single\")\n",
    "model_min.fit(embeddings_vector)\n",
    "\n",
    "model_max = AgglomerativeClustering(distance_threshold=0,\n",
    "                                n_clusters=None, \n",
    "                                compute_distances = True,\n",
    "                                metric=\"cosine\",\n",
    "                                linkage=\"complete\")\n",
    "model_max.fit(embeddings_vector)"
   ]
  },
  {
   "cell_type": "code",
   "execution_count": 89,
   "metadata": {},
   "outputs": [
    {
     "data": {
      "text/plain": [
       "array([1530, 1433, 1525, ...,    5,    2,    0])"
      ]
     },
     "execution_count": 89,
     "metadata": {},
     "output_type": "execute_result"
    }
   ],
   "source": [
    "model_average.labels_"
   ]
  },
  {
   "cell_type": "code",
   "execution_count": 90,
   "metadata": {},
   "outputs": [],
   "source": [
    "def plot_dendrogram(model, n_clusters, **kwargs):\n",
    "    # Create linkage matrix\n",
    "    counts = np.zeros(model.children_.shape[0])\n",
    "    n_samples = len(model.labels_)\n",
    "    for i, merge in enumerate(model.children_):\n",
    "        current_count = 0\n",
    "        for child_idx in merge:\n",
    "            if child_idx < n_samples:\n",
    "                current_count += 1  # leaf node\n",
    "            else:\n",
    "                current_count += counts[child_idx - n_samples]\n",
    "        counts[i] = current_count\n",
    "\n",
    "    linkage_matrix = np.column_stack(\n",
    "        [model.children_, model.distances_, counts]\n",
    "    ).astype(float)\n",
    "\n",
    "    # Calculate the color threshold to get the desired number of clusters\n",
    "    distances = linkage_matrix[:, 2]  # Distances of merges\n",
    "    if n_clusters > 1:\n",
    "        # Find the threshold just below the merge that results in n_clusters\n",
    "        threshold = sorted(distances, reverse=True)[n_clusters - 2]\n",
    "    else:\n",
    "        threshold = max(distances) + 1  # Single cluster case\n",
    "\n",
    "    # Plot dendrogram with colors\n",
    "    dendrogram(linkage_matrix, color_threshold=threshold, **kwargs)"
   ]
  },
  {
   "cell_type": "code",
   "execution_count": 91,
   "metadata": {},
   "outputs": [
    {
     "data": {
      "image/png": "[encoded data removed]",
      "text/plain": [
       "<Figure size 640x480 with 1 Axes>"
      ]
     },
     "metadata": {},
     "output_type": "display_data"
    }
   ],
   "source": [
    "# Bit messy for 1750 words\n",
    "plot_dendrogram(model_max, n_clusters=5, truncate_mode=\"level\", labels = embeddings.index, orientation = 'left')"
   ]
  },
  {
   "cell_type": "code",
   "execution_count": 15,
   "metadata": {},
   "outputs": [
    {
     "data": {
      "application/vnd.plotly.v1+json": {
       "config": {
        "plotlyServerURL": "https://plot.ly"
       },
       "data": [
        {
         "mode": "lines",
         "name": "Average Linkage",
         "type": "scatter",
         "xaxis": "x",
         "y": [
          0.8744799640204178,
          0.8746841134606667,
          0.8769053730212827,
          0.8770923260695144,
          0.8771836812542394,
          0.8792634495689982,
          0.8798867025082797,
          0.8807338887450643,
          0.8810239899341235,
          0.8815317986339298,
          0.882530993113343,
          0.8836009808853535,
          0.8847541882108932,
          0.8858090250494244,
          0.8863948997764033,
          0.8874411818426559,
          0.8904822011359436,
          0.8908676486404212,
          0.8914017632536945,
          0.8922113831477232,
          0.8925353221715143,
          0.8926321409993738,
          0.8945965579576212,
          0.8963610240285416,
          0.8973356916584945,
          0.9024731821698883,
          0.9025372006489111,
          0.903121636157341,
          0.9039699232629812,
          0.9050605932666431,
          0.9051425456983831,
          0.9053980417429284,
          0.9065298436499993,
          0.9096782286808534,
          0.9104705881582827,
          0.913012871856336,
          0.914702844261326,
          0.9152080310059886,
          0.9165309314470154,
          0.9165493108823762,
          0.9175376433627361,
          0.9193867075873842,
          0.9236168942925514,
          0.9237343191545573,
          0.9250958918771335,
          0.9263550629978068,
          0.9277516449987764,
          0.9363945507205792,
          0.9366211233764689,
          0.941678182194335
         ],
         "yaxis": "y"
        },
        {
         "mode": "lines",
         "name": "Single Linkage",
         "type": "scatter",
         "xaxis": "x2",
         "y": [
          0.6512248825895743,
          0.651270695434836,
          0.6513825015573353,
          0.6520381832400305,
          0.6522642816182811,
          0.6527929367496158,
          0.6529917002827494,
          0.6541907936068312,
          0.6543620744937937,
          0.6546707685534745,
          0.654680242325997,
          0.6557260260975728,
          0.6561753676747166,
          0.6562451751681799,
          0.656473424600607,
          0.6578776257605568,
          0.6583467544289558,
          0.6608828026738902,
          0.6616840944101104,
          0.6619671662623439,
          0.6619999810917911,
          0.6638672545663797,
          0.6694863824046019,
          0.6698294561047439,
          0.6709230491579723,
          0.6719121207930567,
          0.6729433193495935,
          0.6729693611480463,
          0.6732715177522861,
          0.6739463379766895,
          0.6761072269499042,
          0.6762843917038331,
          0.6810102826296527,
          0.6816585063202236,
          0.6823558053419624,
          0.6831895593638062,
          0.6853081189216546,
          0.6855822569719522,
          0.6876330162033732,
          0.6884132495497112,
          0.6908316668972232,
          0.6914244140692007,
          0.6934189844563936,
          0.6994385299794752,
          0.7027289956433257,
          0.7055741312816626,
          0.7074865848106827,
          0.7079234069363339,
          0.7095163221078589,
          0.7139595468505773
         ],
         "yaxis": "y2"
        },
        {
         "mode": "lines",
         "name": "Complete Linkage",
         "type": "scatter",
         "xaxis": "x3",
         "y": [
          1.04533737257686,
          1.0469880254125143,
          1.0500297581314841,
          1.0501364334082215,
          1.0516931599155617,
          1.05313052588171,
          1.054348408611901,
          1.054481242241884,
          1.0571765379801787,
          1.0571852592275988,
          1.0602485077795025,
          1.0608599715987874,
          1.0611560219044767,
          1.062835399487643,
          1.0638624813832545,
          1.0642881983539163,
          1.069140715638983,
          1.069525276037005,
          1.0710158353002823,
          1.073229027697555,
          1.0747592446406689,
          1.075131165057802,
          1.0757622550684927,
          1.077644647531142,
          1.0778340093143546,
          1.078137779257351,
          1.0837263097406826,
          1.0847248124215503,
          1.0870004427363178,
          1.0874955018203243,
          1.0943468098088565,
          1.0947993653458556,
          1.0958611400408136,
          1.096300265405589,
          1.0967972750916535,
          1.0971842094881386,
          1.0980607115427277,
          1.1041465672665753,
          1.1066949101963186,
          1.112361009974937,
          1.1139832434337296,
          1.122895159116401,
          1.1283215933837816,
          1.1292136525611434,
          1.1324271955807668,
          1.1472969689884314,
          1.1477824748193735,
          1.1549374167301873,
          1.182418978139806,
          1.2275140640421487
         ],
         "yaxis": "y3"
        }
       ],
       "layout": {
        "annotations": [
         {
          "font": {
           "size": 16
          },
          "showarrow": false,
          "text": "Average Linkage",
          "x": 0.5,
          "xanchor": "center",
          "xref": "paper",
          "y": 1,
          "yanchor": "bottom",
          "yref": "paper"
         },
         {
          "font": {
           "size": 16
          },
          "showarrow": false,
          "text": "Single Linkage",
          "x": 0.5,
          "xanchor": "center",
          "xref": "paper",
          "y": 0.6111111111111112,
          "yanchor": "bottom",
          "yref": "paper"
         },
         {
          "font": {
           "size": 16
          },
          "showarrow": false,
          "text": "Complete Linkage",
          "x": 0.5,
          "xanchor": "center",
          "xref": "paper",
          "y": 0.22222222222222224,
          "yanchor": "bottom",
          "yref": "paper"
         }
        ],
        "height": 900,
        "showlegend": false,
        "template": {
         "data": {
          "bar": [
           {
            "error_x": {
             "color": "#2a3f5f"
            },
            "error_y": {
             "color": "#2a3f5f"
            },
            "marker": {
             "line": {
              "color": "#E5ECF6",
              "width": 0.5
             },
             "pattern": {
              "fillmode": "overlay",
              "size": 10,
              "solidity": 0.2
             }
            },
            "type": "bar"
           }
          ],
          "barpolar": [
           {
            "marker": {
             "line": {
              "color": "#E5ECF6",
              "width": 0.5
             },
             "pattern": {
              "fillmode": "overlay",
              "size": 10,
              "solidity": 0.2
             }
            },
            "type": "barpolar"
           }
          ],
          "carpet": [
           {
            "aaxis": {
             "endlinecolor": "#2a3f5f",
             "gridcolor": "white",
             "linecolor": "white",
             "minorgridcolor": "white",
             "startlinecolor": "#2a3f5f"
            },
            "baxis": {
             "endlinecolor": "#2a3f5f",
             "gridcolor": "white",
             "linecolor": "white",
             "minorgridcolor": "white",
             "startlinecolor": "#2a3f5f"
            },
            "type": "carpet"
           }
          ],
          "choropleth": [
           {
            "colorbar": {
             "outlinewidth": 0,
             "ticks": ""
            },
            "type": "choropleth"
           }
          ],
          "contour": [
           {
            "colorbar": {
             "outlinewidth": 0,
             "ticks": ""
            },
            "colorscale": [
             [
              0,
              "#0d0887"
             ],
             [
              0.1111111111111111,
              "#46039f"
             ],
             [
              0.2222222222222222,
              "#7201a8"
             ],
             [
              0.3333333333333333,
              "#9c179e"
             ],
             [
              0.4444444444444444,
              "#bd3786"
             ],
             [
              0.5555555555555556,
              "#d8576b"
             ],
             [
              0.6666666666666666,
              "#ed7953"
             ],
             [
              0.7777777777777778,
              "#fb9f3a"
             ],
             [
              0.8888888888888888,
              "#fdca26"
             ],
             [
              1,
              "#f0f921"
             ]
            ],
            "type": "contour"
           }
          ],
          "contourcarpet": [
           {
            "colorbar": {
             "outlinewidth": 0,
             "ticks": ""
            },
            "type": "contourcarpet"
           }
          ],
          "heatmap": [
           {
            "colorbar": {
             "outlinewidth": 0,
             "ticks": ""
            },
            "colorscale": [
             [
              0,
              "#0d0887"
             ],
             [
              0.1111111111111111,
              "#46039f"
             ],
             [
              0.2222222222222222,
              "#7201a8"
             ],
             [
              0.3333333333333333,
              "#9c179e"
             ],
             [
              0.4444444444444444,
              "#bd3786"
             ],
             [
              0.5555555555555556,
              "#d8576b"
             ],
             [
              0.6666666666666666,
              "#ed7953"
             ],
             [
              0.7777777777777778,
              "#fb9f3a"
             ],
             [
              0.8888888888888888,
              "#fdca26"
             ],
             [
              1,
              "#f0f921"
             ]
            ],
            "type": "heatmap"
           }
          ],
          "heatmapgl": [
           {
            "colorbar": {
             "outlinewidth": 0,
             "ticks": ""
            },
            "colorscale": [
             [
              0,
              "#0d0887"
             ],
             [
              0.1111111111111111,
              "#46039f"
             ],
             [
              0.2222222222222222,
              "#7201a8"
             ],
             [
              0.3333333333333333,
              "#9c179e"
             ],
             [
              0.4444444444444444,
              "#bd3786"
             ],
             [
              0.5555555555555556,
              "#d8576b"
             ],
             [
              0.6666666666666666,
              "#ed7953"
             ],
             [
              0.7777777777777778,
              "#fb9f3a"
             ],
             [
              0.8888888888888888,
              "#fdca26"
             ],
             [
              1,
              "#f0f921"
             ]
            ],
            "type": "heatmapgl"
           }
          ],
          "histogram": [
           {
            "marker": {
             "pattern": {
              "fillmode": "overlay",
              "size": 10,
              "solidity": 0.2
             }
            },
            "type": "histogram"
           }
          ],
          "histogram2d": [
           {
            "colorbar": {
             "outlinewidth": 0,
             "ticks": ""
            },
            "colorscale": [
             [
              0,
              "#0d0887"
             ],
             [
              0.1111111111111111,
              "#46039f"
             ],
             [
              0.2222222222222222,
              "#7201a8"
             ],
             [
              0.3333333333333333,
              "#9c179e"
             ],
             [
              0.4444444444444444,
              "#bd3786"
             ],
             [
              0.5555555555555556,
              "#d8576b"
             ],
             [
              0.6666666666666666,
              "#ed7953"
             ],
             [
              0.7777777777777778,
              "#fb9f3a"
             ],
             [
              0.8888888888888888,
              "#fdca26"
             ],
             [
              1,
              "#f0f921"
             ]
            ],
            "type": "histogram2d"
           }
          ],
          "histogram2dcontour": [
           {
            "colorbar": {
             "outlinewidth": 0,
             "ticks": ""
            },
            "colorscale": [
             [
              0,
              "#0d0887"
             ],
             [
              0.1111111111111111,
              "#46039f"
             ],
             [
              0.2222222222222222,
              "#7201a8"
             ],
             [
              0.3333333333333333,
              "#9c179e"
             ],
             [
              0.4444444444444444,
              "#bd3786"
             ],
             [
              0.5555555555555556,
              "#d8576b"
             ],
             [
              0.6666666666666666,
              "#ed7953"
             ],
             [
              0.7777777777777778,
              "#fb9f3a"
             ],
             [
              0.8888888888888888,
              "#fdca26"
             ],
             [
              1,
              "#f0f921"
             ]
            ],
            "type": "histogram2dcontour"
           }
          ],
          "mesh3d": [
           {
            "colorbar": {
             "outlinewidth": 0,
             "ticks": ""
            },
            "type": "mesh3d"
           }
          ],
          "parcoords": [
           {
            "line": {
             "colorbar": {
              "outlinewidth": 0,
              "ticks": ""
             }
            },
            "type": "parcoords"
           }
          ],
          "pie": [
           {
            "automargin": true,
            "type": "pie"
           }
          ],
          "scatter": [
           {
            "fillpattern": {
             "fillmode": "overlay",
             "size": 10,
             "solidity": 0.2
            },
            "type": "scatter"
           }
          ],
          "scatter3d": [
           {
            "line": {
             "colorbar": {
              "outlinewidth": 0,
              "ticks": ""
             }
            },
            "marker": {
             "colorbar": {
              "outlinewidth": 0,
              "ticks": ""
             }
            },
            "type": "scatter3d"
           }
          ],
          "scattercarpet": [
           {
            "marker": {
             "colorbar": {
              "outlinewidth": 0,
              "ticks": ""
             }
            },
            "type": "scattercarpet"
           }
          ],
          "scattergeo": [
           {
            "marker": {
             "colorbar": {
              "outlinewidth": 0,
              "ticks": ""
             }
            },
            "type": "scattergeo"
           }
          ],
          "scattergl": [
           {
            "marker": {
             "colorbar": {
              "outlinewidth": 0,
              "ticks": ""
             }
            },
            "type": "scattergl"
           }
          ],
          "scattermapbox": [
           {
            "marker": {
             "colorbar": {
              "outlinewidth": 0,
              "ticks": ""
             }
            },
            "type": "scattermapbox"
           }
          ],
          "scatterpolar": [
           {
            "marker": {
             "colorbar": {
              "outlinewidth": 0,
              "ticks": ""
             }
            },
            "type": "scatterpolar"
           }
          ],
          "scatterpolargl": [
           {
            "marker": {
             "colorbar": {
              "outlinewidth": 0,
              "ticks": ""
             }
            },
            "type": "scatterpolargl"
           }
          ],
          "scatterternary": [
           {
            "marker": {
             "colorbar": {
              "outlinewidth": 0,
              "ticks": ""
             }
            },
            "type": "scatterternary"
           }
          ],
          "surface": [
           {
            "colorbar": {
             "outlinewidth": 0,
             "ticks": ""
            },
            "colorscale": [
             [
              0,
              "#0d0887"
             ],
             [
              0.1111111111111111,
              "#46039f"
             ],
             [
              0.2222222222222222,
              "#7201a8"
             ],
             [
              0.3333333333333333,
              "#9c179e"
             ],
             [
              0.4444444444444444,
              "#bd3786"
             ],
             [
              0.5555555555555556,
              "#d8576b"
             ],
             [
              0.6666666666666666,
              "#ed7953"
             ],
             [
              0.7777777777777778,
              "#fb9f3a"
             ],
             [
              0.8888888888888888,
              "#fdca26"
             ],
             [
              1,
              "#f0f921"
             ]
            ],
            "type": "surface"
           }
          ],
          "table": [
           {
            "cells": {
             "fill": {
              "color": "#EBF0F8"
             },
             "line": {
              "color": "white"
             }
            },
            "header": {
             "fill": {
              "color": "#C8D4E3"
             },
             "line": {
              "color": "white"
             }
            },
            "type": "table"
           }
          ]
         },
         "layout": {
          "annotationdefaults": {
           "arrowcolor": "#2a3f5f",
           "arrowhead": 0,
           "arrowwidth": 1
          },
          "autotypenumbers": "strict",
          "coloraxis": {
           "colorbar": {
            "outlinewidth": 0,
            "ticks": ""
           }
          },
          "colorscale": {
           "diverging": [
            [
             0,
             "#8e0152"
            ],
            [
             0.1,
             "#c51b7d"
            ],
            [
             0.2,
             "#de77ae"
            ],
            [
             0.3,
             "#f1b6da"
            ],
            [
             0.4,
             "#fde0ef"
            ],
            [
             0.5,
             "#f7f7f7"
            ],
            [
             0.6,
             "#e6f5d0"
            ],
            [
             0.7,
             "#b8e186"
            ],
            [
             0.8,
             "#7fbc41"
            ],
            [
             0.9,
             "#4d9221"
            ],
            [
             1,
             "#276419"
            ]
           ],
           "sequential": [
            [
             0,
             "#0d0887"
            ],
            [
             0.1111111111111111,
             "#46039f"
            ],
            [
             0.2222222222222222,
             "#7201a8"
            ],
            [
             0.3333333333333333,
             "#9c179e"
            ],
            [
             0.4444444444444444,
             "#bd3786"
            ],
            [
             0.5555555555555556,
             "#d8576b"
            ],
            [
             0.6666666666666666,
             "#ed7953"
            ],
            [
             0.7777777777777778,
             "#fb9f3a"
            ],
            [
             0.8888888888888888,
             "#fdca26"
            ],
            [
             1,
             "#f0f921"
            ]
           ],
           "sequentialminus": [
            [
             0,
             "#0d0887"
            ],
            [
             0.1111111111111111,
             "#46039f"
            ],
            [
             0.2222222222222222,
             "#7201a8"
            ],
            [
             0.3333333333333333,
             "#9c179e"
            ],
            [
             0.4444444444444444,
             "#bd3786"
            ],
            [
             0.5555555555555556,
             "#d8576b"
            ],
            [
             0.6666666666666666,
             "#ed7953"
            ],
            [
             0.7777777777777778,
             "#fb9f3a"
            ],
            [
             0.8888888888888888,
             "#fdca26"
            ],
            [
             1,
             "#f0f921"
            ]
           ]
          },
          "colorway": [
           "#636efa",
           "#EF553B",
           "#00cc96",
           "#ab63fa",
           "#FFA15A",
           "#19d3f3",
           "#FF6692",
           "#B6E880",
           "#FF97FF",
           "#FECB52"
          ],
          "font": {
           "color": "#2a3f5f"
          },
          "geo": {
           "bgcolor": "white",
           "lakecolor": "white",
           "landcolor": "#E5ECF6",
           "showlakes": true,
           "showland": true,
           "subunitcolor": "white"
          },
          "hoverlabel": {
           "align": "left"
          },
          "hovermode": "closest",
          "mapbox": {
           "style": "light"
          },
          "paper_bgcolor": "white",
          "plot_bgcolor": "#E5ECF6",
          "polar": {
           "angularaxis": {
            "gridcolor": "white",
            "linecolor": "white",
            "ticks": ""
           },
           "bgcolor": "#E5ECF6",
           "radialaxis": {
            "gridcolor": "white",
            "linecolor": "white",
            "ticks": ""
           }
          },
          "scene": {
           "xaxis": {
            "backgroundcolor": "#E5ECF6",
            "gridcolor": "white",
            "gridwidth": 2,
            "linecolor": "white",
            "showbackground": true,
            "ticks": "",
            "zerolinecolor": "white"
           },
           "yaxis": {
            "backgroundcolor": "#E5ECF6",
            "gridcolor": "white",
            "gridwidth": 2,
            "linecolor": "white",
            "showbackground": true,
            "ticks": "",
            "zerolinecolor": "white"
           },
           "zaxis": {
            "backgroundcolor": "#E5ECF6",
            "gridcolor": "white",
            "gridwidth": 2,
            "linecolor": "white",
            "showbackground": true,
            "ticks": "",
            "zerolinecolor": "white"
           }
          },
          "shapedefaults": {
           "line": {
            "color": "#2a3f5f"
           }
          },
          "ternary": {
           "aaxis": {
            "gridcolor": "white",
            "linecolor": "white",
            "ticks": ""
           },
           "baxis": {
            "gridcolor": "white",
            "linecolor": "white",
            "ticks": ""
           },
           "bgcolor": "#E5ECF6",
           "caxis": {
            "gridcolor": "white",
            "linecolor": "white",
            "ticks": ""
           }
          },
          "title": {
           "x": 0.05
          },
          "xaxis": {
           "automargin": true,
           "gridcolor": "white",
           "linecolor": "white",
           "ticks": "",
           "title": {
            "standoff": 15
           },
           "zerolinecolor": "white",
           "zerolinewidth": 2
          },
          "yaxis": {
           "automargin": true,
           "gridcolor": "white",
           "linecolor": "white",
           "ticks": "",
           "title": {
            "standoff": 15
           },
           "zerolinecolor": "white",
           "zerolinewidth": 2
          }
         }
        },
        "title": {
         "text": "Hierarchical Clustering Distances by Linkage Method"
        },
        "xaxis": {
         "anchor": "y",
         "domain": [
          0,
          1
         ]
        },
        "xaxis2": {
         "anchor": "y2",
         "domain": [
          0,
          1
         ]
        },
        "xaxis3": {
         "anchor": "y3",
         "domain": [
          0,
          1
         ],
         "title": {
          "text": "Merge Step"
         }
        },
        "yaxis": {
         "anchor": "x",
         "domain": [
          0.7777777777777778,
          1
         ]
        },
        "yaxis2": {
         "anchor": "x2",
         "domain": [
          0.3888888888888889,
          0.6111111111111112
         ],
         "title": {
          "text": "Distance"
         }
        },
        "yaxis3": {
         "anchor": "x3",
         "domain": [
          0,
          0.22222222222222224
         ]
        }
       }
      }
     },
     "metadata": {},
     "output_type": "display_data"
    }
   ],
   "source": [
    "# I would like to find a cluster number that fits the dataset most, try to use the 'elbow method'\n",
    "# Create three separate subplots for different linkage methods, I will only use the top 50 distances as I don't want to use more than 50 clusters anyway\n",
    "distances = {\n",
    "    'average': sorted(model_average.distances_)[-50:],\n",
    "    'single': sorted(model_min.distances_)[-50:],\n",
    "    'complete': sorted(model_max.distances_)[-50:],\n",
    "}\n",
    "\n",
    "fig = go.Figure()\n",
    "fig = make_subplots(rows=3, cols=1, subplot_titles=('Average Linkage', 'Single Linkage', 'Complete Linkage'))\n",
    "\n",
    "fig.add_trace(\n",
    "    go.Scatter(y=distances['average'], mode='lines', name='Average Linkage'),\n",
    "    row=1, col=1\n",
    ")\n",
    "\n",
    "fig.add_trace(\n",
    "    go.Scatter(y=distances['single'], mode='lines', name='Single Linkage'),\n",
    "    row=2, col=1\n",
    ")\n",
    "\n",
    "fig.add_trace(\n",
    "    go.Scatter(y=distances['complete'], mode='lines', name='Complete Linkage'),\n",
    "    row=3, col=1\n",
    ")\n",
    "\n",
    "# Update layout\n",
    "fig.update_layout(\n",
    "    height=900,  # Make figure taller to accommodate subplots\n",
    "    title_text='Hierarchical Clustering Distances by Linkage Method',\n",
    "    showlegend=False\n",
    ")\n",
    "\n",
    "# Update x and y axis labels for each subplot\n",
    "fig.update_xaxes(title_text=\"Merge Step\", row=3, col=1)\n",
    "fig.update_yaxes(title_text=\"Distance\", row=2, col=1)\n",
    "\n",
    "fig.show()"
   ]
  },
  {
   "cell_type": "markdown",
   "metadata": {},
   "source": [
    "Complete linkage at 6 looks the most similar to the elbow form, but I think more clusters could be more interesting so I went with complete linkage at 14"
   ]
  },
  {
   "cell_type": "code",
   "execution_count": 82,
   "metadata": {},
   "outputs": [
    {
     "data": {
      "text/html": [
       "<style>#sk-container-id-8 {\n",
       "  /* Definition of color scheme common for light and dark mode */\n",
       "  --sklearn-color-text: black;\n",
       "  --sklearn-color-line: gray;\n",
       "  /* Definition of color scheme for unfitted estimators */\n",
       "  --sklearn-color-unfitted-level-0: #fff5e6;\n",
       "  --sklearn-color-unfitted-level-1: #f6e4d2;\n",
       "  --sklearn-color-unfitted-level-2: #ffe0b3;\n",
       "  --sklearn-color-unfitted-level-3: chocolate;\n",
       "  /* Definition of color scheme for fitted estimators */\n",
       "  --sklearn-color-fitted-level-0: #f0f8ff;\n",
       "  --sklearn-color-fitted-level-1: #d4ebff;\n",
       "  --sklearn-color-fitted-level-2: #b3dbfd;\n",
       "  --sklearn-color-fitted-level-3: cornflowerblue;\n",
       "\n",
       "  /* Specific color for light theme */\n",
       "  --sklearn-color-text-on-default-background: var(--sg-text-color, var(--theme-code-foreground, var(--jp-content-font-color1, black)));\n",
       "  --sklearn-color-background: var(--sg-background-color, var(--theme-background, var(--jp-layout-color0, white)));\n",
       "  --sklearn-color-border-box: var(--sg-text-color, var(--theme-code-foreground, var(--jp-content-font-color1, black)));\n",
       "  --sklearn-color-icon: #696969;\n",
       "\n",
       "  @media (prefers-color-scheme: dark) {\n",
       "    /* Redefinition of color scheme for dark theme */\n",
       "    --sklearn-color-text-on-default-background: var(--sg-text-color, var(--theme-code-foreground, var(--jp-content-font-color1, white)));\n",
       "    --sklearn-color-background: var(--sg-background-color, var(--theme-background, var(--jp-layout-color0, #111)));\n",
       "    --sklearn-color-border-box: var(--sg-text-color, var(--theme-code-foreground, var(--jp-content-font-color1, white)));\n",
       "    --sklearn-color-icon: #878787;\n",
       "  }\n",
       "}\n",
       "\n",
       "#sk-container-id-8 {\n",
       "  color: var(--sklearn-color-text);\n",
       "}\n",
       "\n",
       "#sk-container-id-8 pre {\n",
       "  padding: 0;\n",
       "}\n",
       "\n",
       "#sk-container-id-8 input.sk-hidden--visually {\n",
       "  border: 0;\n",
       "  clip: rect(1px 1px 1px 1px);\n",
       "  clip: rect(1px, 1px, 1px, 1px);\n",
       "  height: 1px;\n",
       "  margin: -1px;\n",
       "  overflow: hidden;\n",
       "  padding: 0;\n",
       "  position: absolute;\n",
       "  width: 1px;\n",
       "}\n",
       "\n",
       "#sk-container-id-8 div.sk-dashed-wrapped {\n",
       "  border: 1px dashed var(--sklearn-color-line);\n",
       "  margin: 0 0.4em 0.5em 0.4em;\n",
       "  box-sizing: border-box;\n",
       "  padding-bottom: 0.4em;\n",
       "  background-color: var(--sklearn-color-background);\n",
       "}\n",
       "\n",
       "#sk-container-id-8 div.sk-container {\n",
       "  /* jupyter's `normalize.less` sets `[hidden] { display: none; }`\n",
       "     but bootstrap.min.css set `[hidden] { display: none !important; }`\n",
       "     so we also need the `!important` here to be able to override the\n",
       "     default hidden behavior on the sphinx rendered scikit-learn.org.\n",
       "     See: https://github.com/scikit-learn/scikit-learn/issues/21755 */\n",
       "  display: inline-block !important;\n",
       "  position: relative;\n",
       "}\n",
       "\n",
       "#sk-container-id-8 div.sk-text-repr-fallback {\n",
       "  display: none;\n",
       "}\n",
       "\n",
       "div.sk-parallel-item,\n",
       "div.sk-serial,\n",
       "div.sk-item {\n",
       "  /* draw centered vertical line to link estimators */\n",
       "  background-image: linear-gradient(var(--sklearn-color-text-on-default-background), var(--sklearn-color-text-on-default-background));\n",
       "  background-size: 2px 100%;\n",
       "  background-repeat: no-repeat;\n",
       "  background-position: center center;\n",
       "}\n",
       "\n",
       "/* Parallel-specific style estimator block */\n",
       "\n",
       "#sk-container-id-8 div.sk-parallel-item::after {\n",
       "  content: \"\";\n",
       "  width: 100%;\n",
       "  border-bottom: 2px solid var(--sklearn-color-text-on-default-background);\n",
       "  flex-grow: 1;\n",
       "}\n",
       "\n",
       "#sk-container-id-8 div.sk-parallel {\n",
       "  display: flex;\n",
       "  align-items: stretch;\n",
       "  justify-content: center;\n",
       "  background-color: var(--sklearn-color-background);\n",
       "  position: relative;\n",
       "}\n",
       "\n",
       "#sk-container-id-8 div.sk-parallel-item {\n",
       "  display: flex;\n",
       "  flex-direction: column;\n",
       "}\n",
       "\n",
       "#sk-container-id-8 div.sk-parallel-item:first-child::after {\n",
       "  align-self: flex-end;\n",
       "  width: 50%;\n",
       "}\n",
       "\n",
       "#sk-container-id-8 div.sk-parallel-item:last-child::after {\n",
       "  align-self: flex-start;\n",
       "  width: 50%;\n",
       "}\n",
       "\n",
       "#sk-container-id-8 div.sk-parallel-item:only-child::after {\n",
       "  width: 0;\n",
       "}\n",
       "\n",
       "/* Serial-specific style estimator block */\n",
       "\n",
       "#sk-container-id-8 div.sk-serial {\n",
       "  display: flex;\n",
       "  flex-direction: column;\n",
       "  align-items: center;\n",
       "  background-color: var(--sklearn-color-background);\n",
       "  padding-right: 1em;\n",
       "  padding-left: 1em;\n",
       "}\n",
       "\n",
       "\n",
       "/* Toggleable style: style used for estimator/Pipeline/ColumnTransformer box that is\n",
       "clickable and can be expanded/collapsed.\n",
       "- Pipeline and ColumnTransformer use this feature and define the default style\n",
       "- Estimators will overwrite some part of the style using the `sk-estimator` class\n",
       "*/\n",
       "\n",
       "/* Pipeline and ColumnTransformer style (default) */\n",
       "\n",
       "#sk-container-id-8 div.sk-toggleable {\n",
       "  /* Default theme specific background. It is overwritten whether we have a\n",
       "  specific estimator or a Pipeline/ColumnTransformer */\n",
       "  background-color: var(--sklearn-color-background);\n",
       "}\n",
       "\n",
       "/* Toggleable label */\n",
       "#sk-container-id-8 label.sk-toggleable__label {\n",
       "  cursor: pointer;\n",
       "  display: block;\n",
       "  width: 100%;\n",
       "  margin-bottom: 0;\n",
       "  padding: 0.5em;\n",
       "  box-sizing: border-box;\n",
       "  text-align: center;\n",
       "}\n",
       "\n",
       "#sk-container-id-8 label.sk-toggleable__label-arrow:before {\n",
       "  /* Arrow on the left of the label */\n",
       "  content: \"▸\";\n",
       "  float: left;\n",
       "  margin-right: 0.25em;\n",
       "  color: var(--sklearn-color-icon);\n",
       "}\n",
       "\n",
       "#sk-container-id-8 label.sk-toggleable__label-arrow:hover:before {\n",
       "  color: var(--sklearn-color-text);\n",
       "}\n",
       "\n",
       "/* Toggleable content - dropdown */\n",
       "\n",
       "#sk-container-id-8 div.sk-toggleable__content {\n",
       "  max-height: 0;\n",
       "  max-width: 0;\n",
       "  overflow: hidden;\n",
       "  text-align: left;\n",
       "  /* unfitted */\n",
       "  background-color: var(--sklearn-color-unfitted-level-0);\n",
       "}\n",
       "\n",
       "#sk-container-id-8 div.sk-toggleable__content.fitted {\n",
       "  /* fitted */\n",
       "  background-color: var(--sklearn-color-fitted-level-0);\n",
       "}\n",
       "\n",
       "#sk-container-id-8 div.sk-toggleable__content pre {\n",
       "  margin: 0.2em;\n",
       "  border-radius: 0.25em;\n",
       "  color: var(--sklearn-color-text);\n",
       "  /* unfitted */\n",
       "  background-color: var(--sklearn-color-unfitted-level-0);\n",
       "}\n",
       "\n",
       "#sk-container-id-8 div.sk-toggleable__content.fitted pre {\n",
       "  /* unfitted */\n",
       "  background-color: var(--sklearn-color-fitted-level-0);\n",
       "}\n",
       "\n",
       "#sk-container-id-8 input.sk-toggleable__control:checked~div.sk-toggleable__content {\n",
       "  /* Expand drop-down */\n",
       "  max-height: 200px;\n",
       "  max-width: 100%;\n",
       "  overflow: auto;\n",
       "}\n",
       "\n",
       "#sk-container-id-8 input.sk-toggleable__control:checked~label.sk-toggleable__label-arrow:before {\n",
       "  content: \"▾\";\n",
       "}\n",
       "\n",
       "/* Pipeline/ColumnTransformer-specific style */\n",
       "\n",
       "#sk-container-id-8 div.sk-label input.sk-toggleable__control:checked~label.sk-toggleable__label {\n",
       "  color: var(--sklearn-color-text);\n",
       "  background-color: var(--sklearn-color-unfitted-level-2);\n",
       "}\n",
       "\n",
       "#sk-container-id-8 div.sk-label.fitted input.sk-toggleable__control:checked~label.sk-toggleable__label {\n",
       "  background-color: var(--sklearn-color-fitted-level-2);\n",
       "}\n",
       "\n",
       "/* Estimator-specific style */\n",
       "\n",
       "/* Colorize estimator box */\n",
       "#sk-container-id-8 div.sk-estimator input.sk-toggleable__control:checked~label.sk-toggleable__label {\n",
       "  /* unfitted */\n",
       "  background-color: var(--sklearn-color-unfitted-level-2);\n",
       "}\n",
       "\n",
       "#sk-container-id-8 div.sk-estimator.fitted input.sk-toggleable__control:checked~label.sk-toggleable__label {\n",
       "  /* fitted */\n",
       "  background-color: var(--sklearn-color-fitted-level-2);\n",
       "}\n",
       "\n",
       "#sk-container-id-8 div.sk-label label.sk-toggleable__label,\n",
       "#sk-container-id-8 div.sk-label label {\n",
       "  /* The background is the default theme color */\n",
       "  color: var(--sklearn-color-text-on-default-background);\n",
       "}\n",
       "\n",
       "/* On hover, darken the color of the background */\n",
       "#sk-container-id-8 div.sk-label:hover label.sk-toggleable__label {\n",
       "  color: var(--sklearn-color-text);\n",
       "  background-color: var(--sklearn-color-unfitted-level-2);\n",
       "}\n",
       "\n",
       "/* Label box, darken color on hover, fitted */\n",
       "#sk-container-id-8 div.sk-label.fitted:hover label.sk-toggleable__label.fitted {\n",
       "  color: var(--sklearn-color-text);\n",
       "  background-color: var(--sklearn-color-fitted-level-2);\n",
       "}\n",
       "\n",
       "/* Estimator label */\n",
       "\n",
       "#sk-container-id-8 div.sk-label label {\n",
       "  font-family: monospace;\n",
       "  font-weight: bold;\n",
       "  display: inline-block;\n",
       "  line-height: 1.2em;\n",
       "}\n",
       "\n",
       "#sk-container-id-8 div.sk-label-container {\n",
       "  text-align: center;\n",
       "}\n",
       "\n",
       "/* Estimator-specific */\n",
       "#sk-container-id-8 div.sk-estimator {\n",
       "  font-family: monospace;\n",
       "  border: 1px dotted var(--sklearn-color-border-box);\n",
       "  border-radius: 0.25em;\n",
       "  box-sizing: border-box;\n",
       "  margin-bottom: 0.5em;\n",
       "  /* unfitted */\n",
       "  background-color: var(--sklearn-color-unfitted-level-0);\n",
       "}\n",
       "\n",
       "#sk-container-id-8 div.sk-estimator.fitted {\n",
       "  /* fitted */\n",
       "  background-color: var(--sklearn-color-fitted-level-0);\n",
       "}\n",
       "\n",
       "/* on hover */\n",
       "#sk-container-id-8 div.sk-estimator:hover {\n",
       "  /* unfitted */\n",
       "  background-color: var(--sklearn-color-unfitted-level-2);\n",
       "}\n",
       "\n",
       "#sk-container-id-8 div.sk-estimator.fitted:hover {\n",
       "  /* fitted */\n",
       "  background-color: var(--sklearn-color-fitted-level-2);\n",
       "}\n",
       "\n",
       "/* Specification for estimator info (e.g. \"i\" and \"?\") */\n",
       "\n",
       "/* Common style for \"i\" and \"?\" */\n",
       "\n",
       ".sk-estimator-doc-link,\n",
       "a:link.sk-estimator-doc-link,\n",
       "a:visited.sk-estimator-doc-link {\n",
       "  float: right;\n",
       "  font-size: smaller;\n",
       "  line-height: 1em;\n",
       "  font-family: monospace;\n",
       "  background-color: var(--sklearn-color-background);\n",
       "  border-radius: 1em;\n",
       "  height: 1em;\n",
       "  width: 1em;\n",
       "  text-decoration: none !important;\n",
       "  margin-left: 1ex;\n",
       "  /* unfitted */\n",
       "  border: var(--sklearn-color-unfitted-level-1) 1pt solid;\n",
       "  color: var(--sklearn-color-unfitted-level-1);\n",
       "}\n",
       "\n",
       ".sk-estimator-doc-link.fitted,\n",
       "a:link.sk-estimator-doc-link.fitted,\n",
       "a:visited.sk-estimator-doc-link.fitted {\n",
       "  /* fitted */\n",
       "  border: var(--sklearn-color-fitted-level-1) 1pt solid;\n",
       "  color: var(--sklearn-color-fitted-level-1);\n",
       "}\n",
       "\n",
       "/* On hover */\n",
       "div.sk-estimator:hover .sk-estimator-doc-link:hover,\n",
       ".sk-estimator-doc-link:hover,\n",
       "div.sk-label-container:hover .sk-estimator-doc-link:hover,\n",
       ".sk-estimator-doc-link:hover {\n",
       "  /* unfitted */\n",
       "  background-color: var(--sklearn-color-unfitted-level-3);\n",
       "  color: var(--sklearn-color-background);\n",
       "  text-decoration: none;\n",
       "}\n",
       "\n",
       "div.sk-estimator.fitted:hover .sk-estimator-doc-link.fitted:hover,\n",
       ".sk-estimator-doc-link.fitted:hover,\n",
       "div.sk-label-container:hover .sk-estimator-doc-link.fitted:hover,\n",
       ".sk-estimator-doc-link.fitted:hover {\n",
       "  /* fitted */\n",
       "  background-color: var(--sklearn-color-fitted-level-3);\n",
       "  color: var(--sklearn-color-background);\n",
       "  text-decoration: none;\n",
       "}\n",
       "\n",
       "/* Span, style for the box shown on hovering the info icon */\n",
       ".sk-estimator-doc-link span {\n",
       "  display: none;\n",
       "  z-index: 9999;\n",
       "  position: relative;\n",
       "  font-weight: normal;\n",
       "  right: .2ex;\n",
       "  padding: .5ex;\n",
       "  margin: .5ex;\n",
       "  width: min-content;\n",
       "  min-width: 20ex;\n",
       "  max-width: 50ex;\n",
       "  color: var(--sklearn-color-text);\n",
       "  box-shadow: 2pt 2pt 4pt #999;\n",
       "  /* unfitted */\n",
       "  background: var(--sklearn-color-unfitted-level-0);\n",
       "  border: .5pt solid var(--sklearn-color-unfitted-level-3);\n",
       "}\n",
       "\n",
       ".sk-estimator-doc-link.fitted span {\n",
       "  /* fitted */\n",
       "  background: var(--sklearn-color-fitted-level-0);\n",
       "  border: var(--sklearn-color-fitted-level-3);\n",
       "}\n",
       "\n",
       ".sk-estimator-doc-link:hover span {\n",
       "  display: block;\n",
       "}\n",
       "\n",
       "/* \"?\"-specific style due to the `<a>` HTML tag */\n",
       "\n",
       "#sk-container-id-8 a.estimator_doc_link {\n",
       "  float: right;\n",
       "  font-size: 1rem;\n",
       "  line-height: 1em;\n",
       "  font-family: monospace;\n",
       "  background-color: var(--sklearn-color-background);\n",
       "  border-radius: 1rem;\n",
       "  height: 1rem;\n",
       "  width: 1rem;\n",
       "  text-decoration: none;\n",
       "  /* unfitted */\n",
       "  color: var(--sklearn-color-unfitted-level-1);\n",
       "  border: var(--sklearn-color-unfitted-level-1) 1pt solid;\n",
       "}\n",
       "\n",
       "#sk-container-id-8 a.estimator_doc_link.fitted {\n",
       "  /* fitted */\n",
       "  border: var(--sklearn-color-fitted-level-1) 1pt solid;\n",
       "  color: var(--sklearn-color-fitted-level-1);\n",
       "}\n",
       "\n",
       "/* On hover */\n",
       "#sk-container-id-8 a.estimator_doc_link:hover {\n",
       "  /* unfitted */\n",
       "  background-color: var(--sklearn-color-unfitted-level-3);\n",
       "  color: var(--sklearn-color-background);\n",
       "  text-decoration: none;\n",
       "}\n",
       "\n",
       "#sk-container-id-8 a.estimator_doc_link.fitted:hover {\n",
       "  /* fitted */\n",
       "  background-color: var(--sklearn-color-fitted-level-3);\n",
       "}\n",
       "</style><div id=\"sk-container-id-8\" class=\"sk-top-container\"><div class=\"sk-text-repr-fallback\"><pre>AgglomerativeClustering(linkage=&#x27;complete&#x27;, metric=&#x27;cosine&#x27;, n_clusters=14)</pre><b>In a Jupyter environment, please rerun this cell to show the HTML representation or trust the notebook. <br />On GitHub, the HTML representation is unable to render, please try loading this page with nbviewer.org.</b></div><div class=\"sk-container\" hidden><div class=\"sk-item\"><div class=\"sk-estimator fitted sk-toggleable\"><input class=\"sk-toggleable__control sk-hidden--visually\" id=\"sk-estimator-id-8\" type=\"checkbox\" checked><label for=\"sk-estimator-id-8\" class=\"sk-toggleable__label fitted sk-toggleable__label-arrow fitted\">&nbsp;&nbsp;AgglomerativeClustering<a class=\"sk-estimator-doc-link fitted\" rel=\"noreferrer\" target=\"_blank\" href=\"https://scikit-learn.org/1.5/modules/generated/sklearn.cluster.AgglomerativeClustering.html\">?<span>Documentation for AgglomerativeClustering</span></a><span class=\"sk-estimator-doc-link fitted\">i<span>Fitted</span></span></label><div class=\"sk-toggleable__content fitted\"><pre>AgglomerativeClustering(linkage=&#x27;complete&#x27;, metric=&#x27;cosine&#x27;, n_clusters=14)</pre></div> </div></div></div></div>"
      ],
      "text/plain": [
       "AgglomerativeClustering(linkage='complete', metric='cosine', n_clusters=14)"
      ]
     },
     "execution_count": 82,
     "metadata": {},
     "output_type": "execute_result"
    }
   ],
   "source": [
    "n_clusters = 14\n",
    "model = AgglomerativeClustering(n_clusters=n_clusters, linkage='complete', metric='cosine')\n",
    "model.fit(embeddings_vector)"
   ]
  },
  {
   "cell_type": "code",
   "execution_count": 84,
   "metadata": {},
   "outputs": [
    {
     "data": {
      "application/vnd.plotly.v1+json": {
       "config": {
        "plotlyServerURL": "https://plot.ly"
       },
       "data": [
        {
         "alignmentgroup": "True",
         "hovertemplate": "variable=0<br>Cluster=%{x}<br>Count=%{y}<extra></extra>",
         "legendgroup": "0",
         "marker": {
          "color": "#636efa",
          "pattern": {
           "shape": ""
          }
         },
         "name": "0",
         "offsetgroup": "0",
         "orientation": "v",
         "showlegend": true,
         "textposition": "auto",
         "type": "bar",
         "x": [
          0,
          1,
          2,
          3,
          4,
          5,
          6,
          7,
          8,
          9,
          10,
          11,
          12,
          13
         ],
         "xaxis": "x",
         "y": [
          149,
          74,
          126,
          254,
          155,
          71,
          81,
          239,
          179,
          109,
          75,
          108,
          60,
          75
         ],
         "yaxis": "y"
        }
       ],
       "layout": {
        "barmode": "relative",
        "legend": {
         "title": {
          "text": "variable"
         },
         "tracegroupgap": 0
        },
        "showlegend": false,
        "template": {
         "data": {
          "bar": [
           {
            "error_x": {
             "color": "#2a3f5f"
            },
            "error_y": {
             "color": "#2a3f5f"
            },
            "marker": {
             "line": {
              "color": "#E5ECF6",
              "width": 0.5
             },
             "pattern": {
              "fillmode": "overlay",
              "size": 10,
              "solidity": 0.2
             }
            },
            "type": "bar"
           }
          ],
          "barpolar": [
           {
            "marker": {
             "line": {
              "color": "#E5ECF6",
              "width": 0.5
             },
             "pattern": {
              "fillmode": "overlay",
              "size": 10,
              "solidity": 0.2
             }
            },
            "type": "barpolar"
           }
          ],
          "carpet": [
           {
            "aaxis": {
             "endlinecolor": "#2a3f5f",
             "gridcolor": "white",
             "linecolor": "white",
             "minorgridcolor": "white",
             "startlinecolor": "#2a3f5f"
            },
            "baxis": {
             "endlinecolor": "#2a3f5f",
             "gridcolor": "white",
             "linecolor": "white",
             "minorgridcolor": "white",
             "startlinecolor": "#2a3f5f"
            },
            "type": "carpet"
           }
          ],
          "choropleth": [
           {
            "colorbar": {
             "outlinewidth": 0,
             "ticks": ""
            },
            "type": "choropleth"
           }
          ],
          "contour": [
           {
            "colorbar": {
             "outlinewidth": 0,
             "ticks": ""
            },
            "colorscale": [
             [
              0,
              "#0d0887"
             ],
             [
              0.1111111111111111,
              "#46039f"
             ],
             [
              0.2222222222222222,
              "#7201a8"
             ],
             [
              0.3333333333333333,
              "#9c179e"
             ],
             [
              0.4444444444444444,
              "#bd3786"
             ],
             [
              0.5555555555555556,
              "#d8576b"
             ],
             [
              0.6666666666666666,
              "#ed7953"
             ],
             [
              0.7777777777777778,
              "#fb9f3a"
             ],
             [
              0.8888888888888888,
              "#fdca26"
             ],
             [
              1,
              "#f0f921"
             ]
            ],
            "type": "contour"
           }
          ],
          "contourcarpet": [
           {
            "colorbar": {
             "outlinewidth": 0,
             "ticks": ""
            },
            "type": "contourcarpet"
           }
          ],
          "heatmap": [
           {
            "colorbar": {
             "outlinewidth": 0,
             "ticks": ""
            },
            "colorscale": [
             [
              0,
              "#0d0887"
             ],
             [
              0.1111111111111111,
              "#46039f"
             ],
             [
              0.2222222222222222,
              "#7201a8"
             ],
             [
              0.3333333333333333,
              "#9c179e"
             ],
             [
              0.4444444444444444,
              "#bd3786"
             ],
             [
              0.5555555555555556,
              "#d8576b"
             ],
             [
              0.6666666666666666,
              "#ed7953"
             ],
             [
              0.7777777777777778,
              "#fb9f3a"
             ],
             [
              0.8888888888888888,
              "#fdca26"
             ],
             [
              1,
              "#f0f921"
             ]
            ],
            "type": "heatmap"
           }
          ],
          "heatmapgl": [
           {
            "colorbar": {
             "outlinewidth": 0,
             "ticks": ""
            },
            "colorscale": [
             [
              0,
              "#0d0887"
             ],
             [
              0.1111111111111111,
              "#46039f"
             ],
             [
              0.2222222222222222,
              "#7201a8"
             ],
             [
              0.3333333333333333,
              "#9c179e"
             ],
             [
              0.4444444444444444,
              "#bd3786"
             ],
             [
              0.5555555555555556,
              "#d8576b"
             ],
             [
              0.6666666666666666,
              "#ed7953"
             ],
             [
              0.7777777777777778,
              "#fb9f3a"
             ],
             [
              0.8888888888888888,
              "#fdca26"
             ],
             [
              1,
              "#f0f921"
             ]
            ],
            "type": "heatmapgl"
           }
          ],
          "histogram": [
           {
            "marker": {
             "pattern": {
              "fillmode": "overlay",
              "size": 10,
              "solidity": 0.2
             }
            },
            "type": "histogram"
           }
          ],
          "histogram2d": [
           {
            "colorbar": {
             "outlinewidth": 0,
             "ticks": ""
            },
            "colorscale": [
             [
              0,
              "#0d0887"
             ],
             [
              0.1111111111111111,
              "#46039f"
             ],
             [
              0.2222222222222222,
              "#7201a8"
             ],
             [
              0.3333333333333333,
              "#9c179e"
             ],
             [
              0.4444444444444444,
              "#bd3786"
             ],
             [
              0.5555555555555556,
              "#d8576b"
             ],
             [
              0.6666666666666666,
              "#ed7953"
             ],
             [
              0.7777777777777778,
              "#fb9f3a"
             ],
             [
              0.8888888888888888,
              "#fdca26"
             ],
             [
              1,
              "#f0f921"
             ]
            ],
            "type": "histogram2d"
           }
          ],
          "histogram2dcontour": [
           {
            "colorbar": {
             "outlinewidth": 0,
             "ticks": ""
            },
            "colorscale": [
             [
              0,
              "#0d0887"
             ],
             [
              0.1111111111111111,
              "#46039f"
             ],
             [
              0.2222222222222222,
              "#7201a8"
             ],
             [
              0.3333333333333333,
              "#9c179e"
             ],
             [
              0.4444444444444444,
              "#bd3786"
             ],
             [
              0.5555555555555556,
              "#d8576b"
             ],
             [
              0.6666666666666666,
              "#ed7953"
             ],
             [
              0.7777777777777778,
              "#fb9f3a"
             ],
             [
              0.8888888888888888,
              "#fdca26"
             ],
             [
              1,
              "#f0f921"
             ]
            ],
            "type": "histogram2dcontour"
           }
          ],
          "mesh3d": [
           {
            "colorbar": {
             "outlinewidth": 0,
             "ticks": ""
            },
            "type": "mesh3d"
           }
          ],
          "parcoords": [
           {
            "line": {
             "colorbar": {
              "outlinewidth": 0,
              "ticks": ""
             }
            },
            "type": "parcoords"
           }
          ],
          "pie": [
           {
            "automargin": true,
            "type": "pie"
           }
          ],
          "scatter": [
           {
            "fillpattern": {
             "fillmode": "overlay",
             "size": 10,
             "solidity": 0.2
            },
            "type": "scatter"
           }
          ],
          "scatter3d": [
           {
            "line": {
             "colorbar": {
              "outlinewidth": 0,
              "ticks": ""
             }
            },
            "marker": {
             "colorbar": {
              "outlinewidth": 0,
              "ticks": ""
             }
            },
            "type": "scatter3d"
           }
          ],
          "scattercarpet": [
           {
            "marker": {
             "colorbar": {
              "outlinewidth": 0,
              "ticks": ""
             }
            },
            "type": "scattercarpet"
           }
          ],
          "scattergeo": [
           {
            "marker": {
             "colorbar": {
              "outlinewidth": 0,
              "ticks": ""
             }
            },
            "type": "scattergeo"
           }
          ],
          "scattergl": [
           {
            "marker": {
             "colorbar": {
              "outlinewidth": 0,
              "ticks": ""
             }
            },
            "type": "scattergl"
           }
          ],
          "scattermapbox": [
           {
            "marker": {
             "colorbar": {
              "outlinewidth": 0,
              "ticks": ""
             }
            },
            "type": "scattermapbox"
           }
          ],
          "scatterpolar": [
           {
            "marker": {
             "colorbar": {
              "outlinewidth": 0,
              "ticks": ""
             }
            },
            "type": "scatterpolar"
           }
          ],
          "scatterpolargl": [
           {
            "marker": {
             "colorbar": {
              "outlinewidth": 0,
              "ticks": ""
             }
            },
            "type": "scatterpolargl"
           }
          ],
          "scatterternary": [
           {
            "marker": {
             "colorbar": {
              "outlinewidth": 0,
              "ticks": ""
             }
            },
            "type": "scatterternary"
           }
          ],
          "surface": [
           {
            "colorbar": {
             "outlinewidth": 0,
             "ticks": ""
            },
            "colorscale": [
             [
              0,
              "#0d0887"
             ],
             [
              0.1111111111111111,
              "#46039f"
             ],
             [
              0.2222222222222222,
              "#7201a8"
             ],
             [
              0.3333333333333333,
              "#9c179e"
             ],
             [
              0.4444444444444444,
              "#bd3786"
             ],
             [
              0.5555555555555556,
              "#d8576b"
             ],
             [
              0.6666666666666666,
              "#ed7953"
             ],
             [
              0.7777777777777778,
              "#fb9f3a"
             ],
             [
              0.8888888888888888,
              "#fdca26"
             ],
             [
              1,
              "#f0f921"
             ]
            ],
            "type": "surface"
           }
          ],
          "table": [
           {
            "cells": {
             "fill": {
              "color": "#EBF0F8"
             },
             "line": {
              "color": "white"
             }
            },
            "header": {
             "fill": {
              "color": "#C8D4E3"
             },
             "line": {
              "color": "white"
             }
            },
            "type": "table"
           }
          ]
         },
         "layout": {
          "annotationdefaults": {
           "arrowcolor": "#2a3f5f",
           "arrowhead": 0,
           "arrowwidth": 1
          },
          "autotypenumbers": "strict",
          "coloraxis": {
           "colorbar": {
            "outlinewidth": 0,
            "ticks": ""
           }
          },
          "colorscale": {
           "diverging": [
            [
             0,
             "#8e0152"
            ],
            [
             0.1,
             "#c51b7d"
            ],
            [
             0.2,
             "#de77ae"
            ],
            [
             0.3,
             "#f1b6da"
            ],
            [
             0.4,
             "#fde0ef"
            ],
            [
             0.5,
             "#f7f7f7"
            ],
            [
             0.6,
             "#e6f5d0"
            ],
            [
             0.7,
             "#b8e186"
            ],
            [
             0.8,
             "#7fbc41"
            ],
            [
             0.9,
             "#4d9221"
            ],
            [
             1,
             "#276419"
            ]
           ],
           "sequential": [
            [
             0,
             "#0d0887"
            ],
            [
             0.1111111111111111,
             "#46039f"
            ],
            [
             0.2222222222222222,
             "#7201a8"
            ],
            [
             0.3333333333333333,
             "#9c179e"
            ],
            [
             0.4444444444444444,
             "#bd3786"
            ],
            [
             0.5555555555555556,
             "#d8576b"
            ],
            [
             0.6666666666666666,
             "#ed7953"
            ],
            [
             0.7777777777777778,
             "#fb9f3a"
            ],
            [
             0.8888888888888888,
             "#fdca26"
            ],
            [
             1,
             "#f0f921"
            ]
           ],
           "sequentialminus": [
            [
             0,
             "#0d0887"
            ],
            [
             0.1111111111111111,
             "#46039f"
            ],
            [
             0.2222222222222222,
             "#7201a8"
            ],
            [
             0.3333333333333333,
             "#9c179e"
            ],
            [
             0.4444444444444444,
             "#bd3786"
            ],
            [
             0.5555555555555556,
             "#d8576b"
            ],
            [
             0.6666666666666666,
             "#ed7953"
            ],
            [
             0.7777777777777778,
             "#fb9f3a"
            ],
            [
             0.8888888888888888,
             "#fdca26"
            ],
            [
             1,
             "#f0f921"
            ]
           ]
          },
          "colorway": [
           "#636efa",
           "#EF553B",
           "#00cc96",
           "#ab63fa",
           "#FFA15A",
           "#19d3f3",
           "#FF6692",
           "#B6E880",
           "#FF97FF",
           "#FECB52"
          ],
          "font": {
           "color": "#2a3f5f"
          },
          "geo": {
           "bgcolor": "white",
           "lakecolor": "white",
           "landcolor": "#E5ECF6",
           "showlakes": true,
           "showland": true,
           "subunitcolor": "white"
          },
          "hoverlabel": {
           "align": "left"
          },
          "hovermode": "closest",
          "mapbox": {
           "style": "light"
          },
          "paper_bgcolor": "white",
          "plot_bgcolor": "#E5ECF6",
          "polar": {
           "angularaxis": {
            "gridcolor": "white",
            "linecolor": "white",
            "ticks": ""
           },
           "bgcolor": "#E5ECF6",
           "radialaxis": {
            "gridcolor": "white",
            "linecolor": "white",
            "ticks": ""
           }
          },
          "scene": {
           "xaxis": {
            "backgroundcolor": "#E5ECF6",
            "gridcolor": "white",
            "gridwidth": 2,
            "linecolor": "white",
            "showbackground": true,
            "ticks": "",
            "zerolinecolor": "white"
           },
           "yaxis": {
            "backgroundcolor": "#E5ECF6",
            "gridcolor": "white",
            "gridwidth": 2,
            "linecolor": "white",
            "showbackground": true,
            "ticks": "",
            "zerolinecolor": "white"
           },
           "zaxis": {
            "backgroundcolor": "#E5ECF6",
            "gridcolor": "white",
            "gridwidth": 2,
            "linecolor": "white",
            "showbackground": true,
            "ticks": "",
            "zerolinecolor": "white"
           }
          },
          "shapedefaults": {
           "line": {
            "color": "#2a3f5f"
           }
          },
          "ternary": {
           "aaxis": {
            "gridcolor": "white",
            "linecolor": "white",
            "ticks": ""
           },
           "baxis": {
            "gridcolor": "white",
            "linecolor": "white",
            "ticks": ""
           },
           "bgcolor": "#E5ECF6",
           "caxis": {
            "gridcolor": "white",
            "linecolor": "white",
            "ticks": ""
           }
          },
          "title": {
           "x": 0.05
          },
          "xaxis": {
           "automargin": true,
           "gridcolor": "white",
           "linecolor": "white",
           "ticks": "",
           "title": {
            "standoff": 15
           },
           "zerolinecolor": "white",
           "zerolinewidth": 2
          },
          "yaxis": {
           "automargin": true,
           "gridcolor": "white",
           "linecolor": "white",
           "ticks": "",
           "title": {
            "standoff": 15
           },
           "zerolinecolor": "white",
           "zerolinewidth": 2
          }
         }
        },
        "title": {
         "text": "Distribution of words by cluster"
        },
        "xaxis": {
         "anchor": "y",
         "domain": [
          0,
          1
         ],
         "title": {
          "text": "Cluster"
         }
        },
        "yaxis": {
         "anchor": "x",
         "domain": [
          0,
          1
         ],
         "title": {
          "text": "Count"
         }
        }
       }
      }
     },
     "metadata": {},
     "output_type": "display_data"
    }
   ],
   "source": [
    "embeddings['labels_all_dimension'] = model.labels_\n",
    "\n",
    "grouped = embeddings[['labels_all_dimension', '0']].groupby('labels_all_dimension').count()\n",
    "\n",
    "fig = px.bar(grouped, title=\"Distribution of words by cluster\", labels={'value': 'Count', 'labels_all_dimension': 'Cluster'})\n",
    "fig.update_layout(showlegend=False)\n",
    "fig.show()"
   ]
  },
  {
   "cell_type": "code",
   "execution_count": 86,
   "metadata": {},
   "outputs": [
    {
     "name": "stdout",
     "output_type": "stream",
     "text": [
      "\n",
      "Words closest to cluster center 0:\n",
      "figures, number, talks, networking, spoke, mission, channels, kicks, speakers, bribed\n",
      "\n",
      "Words closest to cluster center 1:\n",
      "k, instrumental, member, covers, president, dedicated, vice, associate, employee, list\n",
      "\n",
      "Words closest to cluster center 2:\n",
      "c, na, january, et, ha, german, x, april, solo, ca\n",
      "\n",
      "Words closest to cluster center 3:\n",
      "driven, pace, jumped, meet, schedules, disinfected, fell, pounds, grow, polystyrene\n",
      "\n",
      "Words closest to cluster center 4:\n",
      "fracturing, closed, range, reach, shutdown, lead, pane, reaching, goals, mark\n",
      "\n",
      "Words closest to cluster center 5:\n",
      "produced, released, release, th, st, receive, receiving, credit, raised, records\n",
      "\n",
      "Words closest to cluster center 6:\n",
      "cathode, plant, years, erased, aircrash, century, battery, half, tracks, minute\n",
      "\n",
      "Words closest to cluster center 7:\n",
      "trails, company, domestic, made, second, since, circuit, market, last, five\n",
      "\n",
      "Words closest to cluster center 8:\n",
      "holds, found, laid, given, gave, taking, took, brought, takes, holding\n",
      "\n",
      "Words closest to cluster center 9:\n",
      "million, worked, position, sold, plans, per, total, informed, rights, bought\n",
      "\n",
      "Words closest to cluster center 10:\n",
      "died, footsteps, brother, prison, son, comatose, father, tiny, ill, friend\n",
      "\n",
      "Words closest to cluster center 11:\n",
      "branch, photo, caps, pool, stole, old, frozen, branches, protect, judge\n",
      "\n",
      "Words closest to cluster center 12:\n",
      "recognition, key, center, strong, productive, late, gap, best, judged, possible\n",
      "\n",
      "Words closest to cluster center 13:\n",
      "serve, build, said, notes, says, immerse, create, step, called, heels\n"
     ]
    }
   ],
   "source": [
    "def cosine_similarity(a, b):\n",
    "    # Compute dot product\n",
    "    dot_product = np.dot(a, b)\n",
    "    # Compute norms\n",
    "    norm_a = np.linalg.norm(a)\n",
    "    norm_b = np.linalg.norm(b)\n",
    "    # Return cosine similarity\n",
    "    return dot_product / (norm_a * norm_b)\n",
    "\n",
    "# Calculate distances from each point to the cluster center\n",
    "cluster_centers = embeddings.groupby('labels_all_dimension').mean()\n",
    "\n",
    "# Calculate distance to cluster center\n",
    "embeddings['distance_to_center'] = embeddings.apply(lambda x: cosine_similarity(x.iloc[:-1], cluster_centers.iloc[int(x.iloc[0])]), axis=1)\n",
    "\n",
    "# Get 10 closest points to their cluster centers\n",
    "for i in range(n_clusters):\n",
    "    closest_points = embeddings[embeddings['labels_all_dimension'] == i].nsmallest(10, 'distance_to_center')[['distance_to_center', 'labels_all_dimension']]\n",
    "    print(f\"\\nWords closest to cluster center {i}:\")\n",
    "    print(', '.join(closest_points.index))\n"
   ]
  },
  {
   "cell_type": "code",
   "execution_count": 95,
   "metadata": {},
   "outputs": [],
   "source": [
    "# I named the cluster with an LLM based on the words in the middle\n",
    "clusters = {\n",
    "    0: \"Communication & Speaking\",     # focused on verbal interaction and networking\n",
    "    1: \"Professional Roles & Titles\",  # related to organizational positions and roles \n",
    "    2: \"Time & References\",            # contains dates, abbreviations, and reference terms\n",
    "    3: \"Movement & Growth\",            # words about motion, development, and physical change\n",
    "    4: \"Goals & Boundaries\",           # related to objectives, limits, and reaching targets\n",
    "    5: \"Production & Publishing\",      # focused on releasing and crediting content\n",
    "    6: \"Time & Technology\",            # mix of temporal and technical/mechanical terms\n",
    "    7: \"Business & Market\",            # related to commercial and business activities\n",
    "    8: \"Action & Possession\",          # verbs related to taking, giving, and holding\n",
    "    9: \"Business Metrics\",             # focused on numbers, sales, and business outcomes\n",
    "    10: \"Family & Mortality\",          # personal relationships and life/death themes\n",
    "    11: \"Physical Objects\",            # concrete nouns and environmental elements\n",
    "    12: \"Assessment & Quality\",        # words related to evaluation and performance\n",
    "    13: \"Creation & Process\"           # verbs and nouns related to making and doing\n",
    "}\n",
    "\n",
    "# Map cluster numbers to their names\n",
    "embeddings['labels_all_dimension'] = embeddings['labels_all_dimension'].map(clusters)\n"
   ]
  },
  {
   "cell_type": "code",
   "execution_count": 96,
   "metadata": {},
   "outputs": [
    {
     "data": {
      "application/vnd.plotly.v1+json": {
       "config": {
        "plotlyServerURL": "https://plot.ly"
       },
       "data": [
        {
         "hovertemplate": "<b>%{hovertext}</b><br><br>color=Physical Objects<br>PC1=%{x}<br>PC2=%{y}<br>PC3=%{z}<extra></extra>",
         "hovertext": [
          "lock",
          "windowsill",
          "man",
          "blocking",
          "dirty",
          "shields"
         ],
         "legendgroup": "Physical Objects",
         "marker": {
          "color": "#636efa",
          "symbol": "circle"
         },
         "mode": "markers",
         "name": "Physical Objects",
         "scene": "scene",
         "showlegend": true,
         "type": "scatter3d",
         "x": [
          0.548508347055453,
          -1.4008602598420066,
          -0.22396501449868936,
          0.49458705000789505,
          -0.11812261061093786,
          -0.3031293071032353
         ],
         "y": [
          0.1718572419790293,
          0.20334012633105503,
          -0.05354514156304831,
          0.3919609525788731,
          -0.5230346839964678,
          0.5488990476037549
         ],
         "z": [
          0.4437207837890119,
          0.4126142200048404,
          -0.07817873144181232,
          0.276332817337116,
          0.2071089331476978,
          0.19029894936020786
         ]
        },
        {
         "hovertemplate": "<b>%{hovertext}</b><br><br>color=Time & Technology<br>PC1=%{x}<br>PC2=%{y}<br>PC3=%{z}<extra></extra>",
         "hovertext": [
          "fly",
          "flies",
          "losing",
          "lost",
          "showers",
          "flood"
         ],
         "legendgroup": "Time & Technology",
         "marker": {
          "color": "#EF553B",
          "symbol": "circle"
         },
         "mode": "markers",
         "name": "Time & Technology",
         "scene": "scene",
         "showlegend": true,
         "type": "scatter3d",
         "x": [
          0.21643133307884124,
          -0.3542920011269242,
          0.8399545042486013,
          0.8377561700742289,
          -0.3946708604352565,
          0.10909829888666789
         ],
         "y": [
          0.2148325913829674,
          0.077237775585745,
          0.10221926084515554,
          0.16013428676554164,
          0.4387592964557567,
          0.6553389231356082
         ],
         "z": [
          0.3707642961678886,
          0.6272518057938459,
          0.3361082568482246,
          0.3424899550189261,
          0.2828996300352683,
          -0.14534531318289368
         ]
        },
        {
         "hovertemplate": "<b>%{hovertext}</b><br><br>color=Production & Publishing<br>PC1=%{x}<br>PC2=%{y}<br>PC3=%{z}<extra></extra>",
         "hovertext": [
          "deep",
          "ships",
          "lid",
          "records"
         ],
         "legendgroup": "Production & Publishing",
         "marker": {
          "color": "#00cc96",
          "symbol": "circle"
         },
         "mode": "markers",
         "name": "Production & Publishing",
         "scene": "scene",
         "showlegend": true,
         "type": "scatter3d",
         "x": [
          0.18540531954865863,
          -0.3290352562758037,
          -0.20361797298183376,
          0.2782673987188267
         ],
         "y": [
          0.3432919111710455,
          0.8362418055657946,
          0.3529435948450479,
          0.5220736754151672
         ],
         "z": [
          0.2871810362466903,
          -0.44369895688036215,
          0.22285398243559607,
          -0.5248168778696934
         ]
        },
        {
         "hovertemplate": "<b>%{hovertext}</b><br><br>color=Time & References<br>PC1=%{x}<br>PC2=%{y}<br>PC3=%{z}<extra></extra>",
         "hovertext": [
          "hair",
          "ha",
          "pearly",
          "gloaming",
          "f",
          "monster",
          "fo",
          "hanging",
          "candle",
          "ca",
          "wakey",
          "solo",
          "trapdoors"
         ],
         "legendgroup": "Time & References",
         "marker": {
          "color": "#ab63fa",
          "symbol": "circle"
         },
         "mode": "markers",
         "name": "Time & References",
         "scene": "scene",
         "showlegend": true,
         "type": "scatter3d",
         "x": [
          -0.8373274417940765,
          -0.4588248308073709,
          -1.094086807281339,
          -0.6745809982025867,
          -0.199950110777169,
          -0.3424718616275391,
          0.044237942419145346,
          0.20833121786604425,
          -0.7665082926394801,
          -0.6765454477341024,
          -0.07110543065763973,
          0.009731943884121907,
          -0.7117173182172757
         ],
         "y": [
          -0.055762826734086536,
          -0.06456721538145836,
          -0.06246302512260188,
          0.006292660141711182,
          -0.4821619784053858,
          -0.3266765857767215,
          -0.159505879480089,
          -0.21937348617475597,
          0.18508510654191918,
          0.03989724257127972,
          0.014967953568885585,
          0.1232020351633181,
          0.3311804982896611
         ],
         "z": [
          -0.020367803730071774,
          -0.3443481416668079,
          0.38420963266865477,
          0.5268186673732485,
          -0.2038970368310378,
          0.241834582403982,
          -0.39751081195934884,
          1.0084064131514061,
          -0.2102060971207325,
          -0.6477516633787073,
          -0.1393283975175967,
          0.1066873123491513,
          0.39310358761713143
         ]
        },
        {
         "hovertemplate": "<b>%{hovertext}</b><br><br>color=Goals & Boundaries<br>PC1=%{x}<br>PC2=%{y}<br>PC3=%{z}<extra></extra>",
         "hovertext": [
          "suck",
          "tying",
          "summer",
          "pack",
          "midday",
          "bled",
          "flag",
          "shooting"
         ],
         "legendgroup": "Goals & Boundaries",
         "marker": {
          "color": "#FFA15A",
          "symbol": "circle"
         },
         "mode": "markers",
         "name": "Goals & Boundaries",
         "scene": "scene",
         "showlegend": true,
         "type": "scatter3d",
         "x": [
          0.08119981646216999,
          0.5543596539461859,
          0.29030812762950675,
          0.06682800969400557,
          0.14341596020957803,
          0.09071690879154555,
          -0.23066960234131598,
          0.23601552195004957
         ],
         "y": [
          -0.9077149506542197,
          0.3272961090030657,
          0.358657917778833,
          0.3322388720445719,
          0.518037007374741,
          -0.1829902162623873,
          0.3942066043020067,
          0.3315314143976192
         ],
         "z": [
          0.7429700131637735,
          0.4734301200760021,
          -0.14804478912238783,
          0.12405629379906395,
          0.20464861341728308,
          0.9303080373193231,
          -0.1410769450509636,
          0.35937204354605995
         ]
        },
        {
         "hovertemplate": "<b>%{hovertext}</b><br><br>color=Communication & Speaking<br>PC1=%{x}<br>PC2=%{y}<br>PC3=%{z}<extra></extra>",
         "hovertext": [
          "mess",
          "scaremongering",
          "opportunist",
          "reason",
          "howling",
          "city",
          "spacecraft"
         ],
         "legendgroup": "Communication & Speaking",
         "marker": {
          "color": "#19d3f3",
          "symbol": "circle"
         },
         "mode": "markers",
         "name": "Communication & Speaking",
         "scene": "scene",
         "showlegend": true,
         "type": "scatter3d",
         "x": [
          0.15046536856771256,
          0.013237402599718475,
          -0.06110860943079957,
          0.44588231056377253,
          -0.33341596313156774,
          0.07752381500369655,
          -0.9490339667115577
         ],
         "y": [
          -0.5080239673135215,
          -0.5148359194724157,
          -0.49086630664992587,
          -0.21885340409945978,
          -0.7792752060133602,
          0.47448123837723216,
          1.0673527096733353
         ],
         "z": [
          0.2685721365778031,
          -0.356401991827936,
          -0.38415119119051544,
          -0.5182652537693105,
          0.8214511749410406,
          -0.4605535170861778,
          -0.4749982745334806
         ]
        },
        {
         "hovertemplate": "<b>%{hovertext}</b><br><br>color=Business Metrics<br>PC1=%{x}<br>PC2=%{y}<br>PC3=%{z}<extra></extra>",
         "hovertext": [
          "hurts",
          "warnings",
          "would",
          "obligations",
          "communicate"
         ],
         "legendgroup": "Business Metrics",
         "marker": {
          "color": "#FF6692",
          "symbol": "circle"
         },
         "mode": "markers",
         "name": "Business Metrics",
         "scene": "scene",
         "showlegend": true,
         "type": "scatter3d",
         "x": [
          0.6967556246993126,
          0.19840459995697018,
          0.5053636590086549,
          0.35610007167359026,
          0.48997718103409627
         ],
         "y": [
          -0.7069938545997019,
          0.34029889034381794,
          0.234435874917745,
          0.31902195304160924,
          -0.19269004308606016
         ],
         "z": [
          0.17890120450292812,
          -0.117540052714959,
          -0.45538058892089556,
          -0.705185687377265,
          -0.36629722656851454
         ]
        },
        {
         "hovertemplate": "<b>%{hovertext}</b><br><br>color=Action & Possession<br>PC1=%{x}<br>PC2=%{y}<br>PC3=%{z}<extra></extra>",
         "hovertext": [
          "taking",
          "seen",
          "carrying",
          "passing",
          "brought",
          "sailed",
          "phew",
          "oh",
          "happen",
          "scatterbrain",
          "bully",
          "look",
          "uptight"
         ],
         "legendgroup": "Action & Possession",
         "marker": {
          "color": "#B6E880",
          "symbol": "circle"
         },
         "mode": "markers",
         "name": "Action & Possession",
         "scene": "scene",
         "showlegend": true,
         "type": "scatter3d",
         "x": [
          0.6736383548575303,
          0.39319320168817534,
          0.38465734425888076,
          0.4162313627265262,
          0.7224960802687491,
          0.45723120166290976,
          -0.18397495780447068,
          -0.23329470088969637,
          0.7290065949990692,
          -0.22879769942151423,
          0.047627296075749156,
          0.5045464179539705,
          -0.06479981753466915
         ],
         "y": [
          0.1713276690932449,
          0.08451622185435807,
          0.3784483297458904,
          0.3488143320974468,
          0.15522216232855535,
          0.34369513805490454,
          -0.9646716532681583,
          -1.0379056838114054,
          -0.3778810497342921,
          -0.48635869170513135,
          -0.7982032335733675,
          -0.23514261732039346,
          -1.0428051528595363
         ],
         "z": [
          0.05842061020902113,
          -0.018611606574314717,
          0.29937044076381275,
          0.04838585500077208,
          0.24110321266871046,
          0.857717512871255,
          0.28251072467672206,
          -0.0644351382787952,
          -0.1653619731969849,
          -0.22407527249381945,
          0.07095381297907176,
          -0.1460549196876584,
          0.07283156463954951
         ]
        },
        {
         "hovertemplate": "<b>%{hovertext}</b><br><br>color=Movement & Growth<br>PC1=%{x}<br>PC2=%{y}<br>PC3=%{z}<extra></extra>",
         "hovertext": [
          "belong",
          "cloth",
          "face",
          "ways",
          "eaten",
          "form",
          "root",
          "stones",
          "owl",
          "swoop",
          "feeds",
          "jellyfish",
          "sleeping",
          "slow"
         ],
         "legendgroup": "Movement & Growth",
         "marker": {
          "color": "#FF97FF",
          "symbol": "circle"
         },
         "mode": "markers",
         "name": "Movement & Growth",
         "scene": "scene",
         "showlegend": true,
         "type": "scatter3d",
         "x": [
          0.4864928335472155,
          -0.8722857868870153,
          0.3489692927715659,
          0.19419993473980263,
          -0.33013797074990225,
          0.2390419910615417,
          0.15423441433143226,
          -0.9821683518583175,
          -1.342818766383895,
          0.02256619430780178,
          -0.004067186623717136,
          -1.4677648860468036,
          -0.25583865579772647,
          0.5018934332103828
         ],
         "y": [
          -0.2403348601812236,
          0.4039036850481579,
          0.10889363453809354,
          0.1479934966171729,
          -0.175458118955952,
          0.3652423071538826,
          -0.06715359436456972,
          0.7249348879835241,
          0.054057514325892175,
          0.026941662720748476,
          0.13657761193208995,
          0.5364616804146441,
          -0.10799652731720434,
          0.1993951251542608
         ],
         "z": [
          -0.1709925559822476,
          0.035955725364617636,
          0.1270664827326269,
          -0.6505276350745363,
          0.37640276087011937,
          -0.36308839906543006,
          0.022788837915633863,
          -0.09387772311796437,
          -0.062195771754925855,
          0.5429606050263148,
          0.29107621938998973,
          0.15187731748451447,
          0.4960242655279746,
          0.302544865761399
         ]
        },
        {
         "hovertemplate": "<b>%{hovertext}</b><br><br>color=Business & Market<br>PC1=%{x}<br>PC2=%{y}<br>PC3=%{z}<extra></extra>",
         "hovertext": [
          "final",
          "spot",
          "arrive",
          "damage",
          "motorcycle"
         ],
         "legendgroup": "Business & Market",
         "marker": {
          "color": "#FECB52",
          "symbol": "circle"
         },
         "mode": "markers",
         "name": "Business & Market",
         "scene": "scene",
         "showlegend": true,
         "type": "scatter3d",
         "x": [
          0.46648902111347534,
          0.2505372768174506,
          0.6184072199780473,
          0.26275272863843774,
          -0.11683492758491797
         ],
         "y": [
          0.4246642656938298,
          0.3487675301823941,
          0.1931472990979343,
          0.6176793653201816,
          0.6711840694191652
         ],
         "z": [
          -0.11849459543171713,
          0.03142990703599517,
          0.08968029309505933,
          0.3840469957524389,
          -0.3513145782512316
         ]
        },
        {
         "hovertemplate": "<b>%{hovertext}</b><br><br>color=Professional Roles & Titles<br>PC1=%{x}<br>PC2=%{y}<br>PC3=%{z}<extra></extra>",
         "hovertext": [
          "background",
          "delicate",
          "whose"
         ],
         "legendgroup": "Professional Roles & Titles",
         "marker": {
          "color": "#636efa",
          "symbol": "circle"
         },
         "mode": "markers",
         "name": "Professional Roles & Titles",
         "scene": "scene",
         "showlegend": true,
         "type": "scatter3d",
         "x": [
          0.05795243010891538,
          -0.34624303051901734,
          0.36122034995617996
         ],
         "y": [
          0.13974589351373748,
          0.2580890667113553,
          0.21062974987458702
         ],
         "z": [
          -0.5156938915484696,
          -0.029950252147138083,
          -0.22627642027574807
         ]
        },
        {
         "hovertemplate": "<b>%{hovertext}</b><br><br>color=Creation & Process<br>PC1=%{x}<br>PC2=%{y}<br>PC3=%{z}<extra></extra>",
         "hovertext": [
          "handshake",
          "call",
          "breakfast"
         ],
         "legendgroup": "Creation & Process",
         "marker": {
          "color": "#EF553B",
          "symbol": "circle"
         },
         "mode": "markers",
         "name": "Creation & Process",
         "scene": "scene",
         "showlegend": true,
         "type": "scatter3d",
         "x": [
          0.11878180156505605,
          0.4259433098465214,
          -0.11416714890385017
         ],
         "y": [
          -0.1913352800575481,
          -0.13387580948839545,
          -0.00039408245515898377
         ],
         "z": [
          -0.03736747589732649,
          -0.3654066395409274,
          -0.33765725901618876
         ]
        },
        {
         "hovertemplate": "<b>%{hovertext}</b><br><br>color=Family & Mortality<br>PC1=%{x}<br>PC2=%{y}<br>PC3=%{z}<extra></extra>",
         "hovertext": [
          "tiny"
         ],
         "legendgroup": "Family & Mortality",
         "marker": {
          "color": "#00cc96",
          "symbol": "circle"
         },
         "mode": "markers",
         "name": "Family & Mortality",
         "scene": "scene",
         "showlegend": true,
         "type": "scatter3d",
         "x": [
          -0.34080998221024555
         ],
         "y": [
          0.21105979175699668
         ],
         "z": [
          0.25487604926263896
         ]
        }
       ],
       "layout": {
        "legend": {
         "title": {
          "text": "color"
         },
         "tracegroupgap": 0
        },
        "margin": {
         "t": 60
        },
        "scene": {
         "domain": {
          "x": [
           0,
           1
          ],
          "y": [
           0,
           1
          ]
         },
         "xaxis": {
          "title": {
           "text": "PC1"
          }
         },
         "yaxis": {
          "title": {
           "text": "PC2"
          }
         },
         "zaxis": {
          "title": {
           "text": "PC3"
          }
         }
        },
        "template": {
         "data": {
          "bar": [
           {
            "error_x": {
             "color": "#2a3f5f"
            },
            "error_y": {
             "color": "#2a3f5f"
            },
            "marker": {
             "line": {
              "color": "#E5ECF6",
              "width": 0.5
             },
             "pattern": {
              "fillmode": "overlay",
              "size": 10,
              "solidity": 0.2
             }
            },
            "type": "bar"
           }
          ],
          "barpolar": [
           {
            "marker": {
             "line": {
              "color": "#E5ECF6",
              "width": 0.5
             },
             "pattern": {
              "fillmode": "overlay",
              "size": 10,
              "solidity": 0.2
             }
            },
            "type": "barpolar"
           }
          ],
          "carpet": [
           {
            "aaxis": {
             "endlinecolor": "#2a3f5f",
             "gridcolor": "white",
             "linecolor": "white",
             "minorgridcolor": "white",
             "startlinecolor": "#2a3f5f"
            },
            "baxis": {
             "endlinecolor": "#2a3f5f",
             "gridcolor": "white",
             "linecolor": "white",
             "minorgridcolor": "white",
             "startlinecolor": "#2a3f5f"
            },
            "type": "carpet"
           }
          ],
          "choropleth": [
           {
            "colorbar": {
             "outlinewidth": 0,
             "ticks": ""
            },
            "type": "choropleth"
           }
          ],
          "contour": [
           {
            "colorbar": {
             "outlinewidth": 0,
             "ticks": ""
            },
            "colorscale": [
             [
              0,
              "#0d0887"
             ],
             [
              0.1111111111111111,
              "#46039f"
             ],
             [
              0.2222222222222222,
              "#7201a8"
             ],
             [
              0.3333333333333333,
              "#9c179e"
             ],
             [
              0.4444444444444444,
              "#bd3786"
             ],
             [
              0.5555555555555556,
              "#d8576b"
             ],
             [
              0.6666666666666666,
              "#ed7953"
             ],
             [
              0.7777777777777778,
              "#fb9f3a"
             ],
             [
              0.8888888888888888,
              "#fdca26"
             ],
             [
              1,
              "#f0f921"
             ]
            ],
            "type": "contour"
           }
          ],
          "contourcarpet": [
           {
            "colorbar": {
             "outlinewidth": 0,
             "ticks": ""
            },
            "type": "contourcarpet"
           }
          ],
          "heatmap": [
           {
            "colorbar": {
             "outlinewidth": 0,
             "ticks": ""
            },
            "colorscale": [
             [
              0,
              "#0d0887"
             ],
             [
              0.1111111111111111,
              "#46039f"
             ],
             [
              0.2222222222222222,
              "#7201a8"
             ],
             [
              0.3333333333333333,
              "#9c179e"
             ],
             [
              0.4444444444444444,
              "#bd3786"
             ],
             [
              0.5555555555555556,
              "#d8576b"
             ],
             [
              0.6666666666666666,
              "#ed7953"
             ],
             [
              0.7777777777777778,
              "#fb9f3a"
             ],
             [
              0.8888888888888888,
              "#fdca26"
             ],
             [
              1,
              "#f0f921"
             ]
            ],
            "type": "heatmap"
           }
          ],
          "heatmapgl": [
           {
            "colorbar": {
             "outlinewidth": 0,
             "ticks": ""
            },
            "colorscale": [
             [
              0,
              "#0d0887"
             ],
             [
              0.1111111111111111,
              "#46039f"
             ],
             [
              0.2222222222222222,
              "#7201a8"
             ],
             [
              0.3333333333333333,
              "#9c179e"
             ],
             [
              0.4444444444444444,
              "#bd3786"
             ],
             [
              0.5555555555555556,
              "#d8576b"
             ],
             [
              0.6666666666666666,
              "#ed7953"
             ],
             [
              0.7777777777777778,
              "#fb9f3a"
             ],
             [
              0.8888888888888888,
              "#fdca26"
             ],
             [
              1,
              "#f0f921"
             ]
            ],
            "type": "heatmapgl"
           }
          ],
          "histogram": [
           {
            "marker": {
             "pattern": {
              "fillmode": "overlay",
              "size": 10,
              "solidity": 0.2
             }
            },
            "type": "histogram"
           }
          ],
          "histogram2d": [
           {
            "colorbar": {
             "outlinewidth": 0,
             "ticks": ""
            },
            "colorscale": [
             [
              0,
              "#0d0887"
             ],
             [
              0.1111111111111111,
              "#46039f"
             ],
             [
              0.2222222222222222,
              "#7201a8"
             ],
             [
              0.3333333333333333,
              "#9c179e"
             ],
             [
              0.4444444444444444,
              "#bd3786"
             ],
             [
              0.5555555555555556,
              "#d8576b"
             ],
             [
              0.6666666666666666,
              "#ed7953"
             ],
             [
              0.7777777777777778,
              "#fb9f3a"
             ],
             [
              0.8888888888888888,
              "#fdca26"
             ],
             [
              1,
              "#f0f921"
             ]
            ],
            "type": "histogram2d"
           }
          ],
          "histogram2dcontour": [
           {
            "colorbar": {
             "outlinewidth": 0,
             "ticks": ""
            },
            "colorscale": [
             [
              0,
              "#0d0887"
             ],
             [
              0.1111111111111111,
              "#46039f"
             ],
             [
              0.2222222222222222,
              "#7201a8"
             ],
             [
              0.3333333333333333,
              "#9c179e"
             ],
             [
              0.4444444444444444,
              "#bd3786"
             ],
             [
              0.5555555555555556,
              "#d8576b"
             ],
             [
              0.6666666666666666,
              "#ed7953"
             ],
             [
              0.7777777777777778,
              "#fb9f3a"
             ],
             [
              0.8888888888888888,
              "#fdca26"
             ],
             [
              1,
              "#f0f921"
             ]
            ],
            "type": "histogram2dcontour"
           }
          ],
          "mesh3d": [
           {
            "colorbar": {
             "outlinewidth": 0,
             "ticks": ""
            },
            "type": "mesh3d"
           }
          ],
          "parcoords": [
           {
            "line": {
             "colorbar": {
              "outlinewidth": 0,
              "ticks": ""
             }
            },
            "type": "parcoords"
           }
          ],
          "pie": [
           {
            "automargin": true,
            "type": "pie"
           }
          ],
          "scatter": [
           {
            "fillpattern": {
             "fillmode": "overlay",
             "size": 10,
             "solidity": 0.2
            },
            "type": "scatter"
           }
          ],
          "scatter3d": [
           {
            "line": {
             "colorbar": {
              "outlinewidth": 0,
              "ticks": ""
             }
            },
            "marker": {
             "colorbar": {
              "outlinewidth": 0,
              "ticks": ""
             }
            },
            "type": "scatter3d"
           }
          ],
          "scattercarpet": [
           {
            "marker": {
             "colorbar": {
              "outlinewidth": 0,
              "ticks": ""
             }
            },
            "type": "scattercarpet"
           }
          ],
          "scattergeo": [
           {
            "marker": {
             "colorbar": {
              "outlinewidth": 0,
              "ticks": ""
             }
            },
            "type": "scattergeo"
           }
          ],
          "scattergl": [
           {
            "marker": {
             "colorbar": {
              "outlinewidth": 0,
              "ticks": ""
             }
            },
            "type": "scattergl"
           }
          ],
          "scattermapbox": [
           {
            "marker": {
             "colorbar": {
              "outlinewidth": 0,
              "ticks": ""
             }
            },
            "type": "scattermapbox"
           }
          ],
          "scatterpolar": [
           {
            "marker": {
             "colorbar": {
              "outlinewidth": 0,
              "ticks": ""
             }
            },
            "type": "scatterpolar"
           }
          ],
          "scatterpolargl": [
           {
            "marker": {
             "colorbar": {
              "outlinewidth": 0,
              "ticks": ""
             }
            },
            "type": "scatterpolargl"
           }
          ],
          "scatterternary": [
           {
            "marker": {
             "colorbar": {
              "outlinewidth": 0,
              "ticks": ""
             }
            },
            "type": "scatterternary"
           }
          ],
          "surface": [
           {
            "colorbar": {
             "outlinewidth": 0,
             "ticks": ""
            },
            "colorscale": [
             [
              0,
              "#0d0887"
             ],
             [
              0.1111111111111111,
              "#46039f"
             ],
             [
              0.2222222222222222,
              "#7201a8"
             ],
             [
              0.3333333333333333,
              "#9c179e"
             ],
             [
              0.4444444444444444,
              "#bd3786"
             ],
             [
              0.5555555555555556,
              "#d8576b"
             ],
             [
              0.6666666666666666,
              "#ed7953"
             ],
             [
              0.7777777777777778,
              "#fb9f3a"
             ],
             [
              0.8888888888888888,
              "#fdca26"
             ],
             [
              1,
              "#f0f921"
             ]
            ],
            "type": "surface"
           }
          ],
          "table": [
           {
            "cells": {
             "fill": {
              "color": "#EBF0F8"
             },
             "line": {
              "color": "white"
             }
            },
            "header": {
             "fill": {
              "color": "#C8D4E3"
             },
             "line": {
              "color": "white"
             }
            },
            "type": "table"
           }
          ]
         },
         "layout": {
          "annotationdefaults": {
           "arrowcolor": "#2a3f5f",
           "arrowhead": 0,
           "arrowwidth": 1
          },
          "autotypenumbers": "strict",
          "coloraxis": {
           "colorbar": {
            "outlinewidth": 0,
            "ticks": ""
           }
          },
          "colorscale": {
           "diverging": [
            [
             0,
             "#8e0152"
            ],
            [
             0.1,
             "#c51b7d"
            ],
            [
             0.2,
             "#de77ae"
            ],
            [
             0.3,
             "#f1b6da"
            ],
            [
             0.4,
             "#fde0ef"
            ],
            [
             0.5,
             "#f7f7f7"
            ],
            [
             0.6,
             "#e6f5d0"
            ],
            [
             0.7,
             "#b8e186"
            ],
            [
             0.8,
             "#7fbc41"
            ],
            [
             0.9,
             "#4d9221"
            ],
            [
             1,
             "#276419"
            ]
           ],
           "sequential": [
            [
             0,
             "#0d0887"
            ],
            [
             0.1111111111111111,
             "#46039f"
            ],
            [
             0.2222222222222222,
             "#7201a8"
            ],
            [
             0.3333333333333333,
             "#9c179e"
            ],
            [
             0.4444444444444444,
             "#bd3786"
            ],
            [
             0.5555555555555556,
             "#d8576b"
            ],
            [
             0.6666666666666666,
             "#ed7953"
            ],
            [
             0.7777777777777778,
             "#fb9f3a"
            ],
            [
             0.8888888888888888,
             "#fdca26"
            ],
            [
             1,
             "#f0f921"
            ]
           ],
           "sequentialminus": [
            [
             0,
             "#0d0887"
            ],
            [
             0.1111111111111111,
             "#46039f"
            ],
            [
             0.2222222222222222,
             "#7201a8"
            ],
            [
             0.3333333333333333,
             "#9c179e"
            ],
            [
             0.4444444444444444,
             "#bd3786"
            ],
            [
             0.5555555555555556,
             "#d8576b"
            ],
            [
             0.6666666666666666,
             "#ed7953"
            ],
            [
             0.7777777777777778,
             "#fb9f3a"
            ],
            [
             0.8888888888888888,
             "#fdca26"
            ],
            [
             1,
             "#f0f921"
            ]
           ]
          },
          "colorway": [
           "#636efa",
           "#EF553B",
           "#00cc96",
           "#ab63fa",
           "#FFA15A",
           "#19d3f3",
           "#FF6692",
           "#B6E880",
           "#FF97FF",
           "#FECB52"
          ],
          "font": {
           "color": "#2a3f5f"
          },
          "geo": {
           "bgcolor": "white",
           "lakecolor": "white",
           "landcolor": "#E5ECF6",
           "showlakes": true,
           "showland": true,
           "subunitcolor": "white"
          },
          "hoverlabel": {
           "align": "left"
          },
          "hovermode": "closest",
          "mapbox": {
           "style": "light"
          },
          "paper_bgcolor": "white",
          "plot_bgcolor": "#E5ECF6",
          "polar": {
           "angularaxis": {
            "gridcolor": "white",
            "linecolor": "white",
            "ticks": ""
           },
           "bgcolor": "#E5ECF6",
           "radialaxis": {
            "gridcolor": "white",
            "linecolor": "white",
            "ticks": ""
           }
          },
          "scene": {
           "xaxis": {
            "backgroundcolor": "#E5ECF6",
            "gridcolor": "white",
            "gridwidth": 2,
            "linecolor": "white",
            "showbackground": true,
            "ticks": "",
            "zerolinecolor": "white"
           },
           "yaxis": {
            "backgroundcolor": "#E5ECF6",
            "gridcolor": "white",
            "gridwidth": 2,
            "linecolor": "white",
            "showbackground": true,
            "ticks": "",
            "zerolinecolor": "white"
           },
           "zaxis": {
            "backgroundcolor": "#E5ECF6",
            "gridcolor": "white",
            "gridwidth": 2,
            "linecolor": "white",
            "showbackground": true,
            "ticks": "",
            "zerolinecolor": "white"
           }
          },
          "shapedefaults": {
           "line": {
            "color": "#2a3f5f"
           }
          },
          "ternary": {
           "aaxis": {
            "gridcolor": "white",
            "linecolor": "white",
            "ticks": ""
           },
           "baxis": {
            "gridcolor": "white",
            "linecolor": "white",
            "ticks": ""
           },
           "bgcolor": "#E5ECF6",
           "caxis": {
            "gridcolor": "white",
            "linecolor": "white",
            "ticks": ""
           }
          },
          "title": {
           "x": 0.05
          },
          "xaxis": {
           "automargin": true,
           "gridcolor": "white",
           "linecolor": "white",
           "ticks": "",
           "title": {
            "standoff": 15
           },
           "zerolinecolor": "white",
           "zerolinewidth": 2
          },
          "yaxis": {
           "automargin": true,
           "gridcolor": "white",
           "linecolor": "white",
           "ticks": "",
           "title": {
            "standoff": 15
           },
           "zerolinecolor": "white",
           "zerolinewidth": 2
          }
         }
        }
       }
      }
     },
     "metadata": {},
     "output_type": "display_data"
    }
   ],
   "source": [
    "pca = PCA(n_components=3)\n",
    "words_3d = pca.fit_transform(embeddings_vector)\n",
    "\n",
    "reduced_df = pd.DataFrame(\n",
    "    words_3d,\n",
    "    index=embeddings.index,\n",
    "    columns=[f'PC{i+1}' for i in range(words_3d.shape[1])],\n",
    ")\n",
    "\n",
    "reduced_df['cluster'] = embeddings['labels_all_dimension']\n",
    "\n",
    "px.scatter_3d(reduced_df.iloc[::20,:], x='PC1', y='PC2', z='PC3', \n",
    "              color=pd.Categorical(reduced_df.iloc[::20,:]['cluster']),\n",
    "              hover_name=reduced_df.iloc[::20,:].index)"
   ]
  },
  {
   "cell_type": "markdown",
   "metadata": {},
   "source": [
    "Unfortunately the clusters aren't separated nicely on 3 dimension, but it wasn't unexpected."
   ]
  },
  {
   "cell_type": "markdown",
   "metadata": {},
   "source": [
    "## Calculating super word distribution for lyrics"
   ]
  },
  {
   "cell_type": "code",
   "execution_count": 93,
   "metadata": {},
   "outputs": [
    {
     "data": {
      "text/html": [
       "<div>\n",
       "<style scoped>\n",
       "    .dataframe tbody tr th:only-of-type {\n",
       "        vertical-align: middle;\n",
       "    }\n",
       "\n",
       "    .dataframe tbody tr th {\n",
       "        vertical-align: top;\n",
       "    }\n",
       "\n",
       "    .dataframe thead th {\n",
       "        text-align: right;\n",
       "    }\n",
       "</style>\n",
       "<table border=\"1\" class=\"dataframe\">\n",
       "  <thead>\n",
       "    <tr style=\"text-align: right;\">\n",
       "      <th></th>\n",
       "      <th>Unnamed: 0</th>\n",
       "      <th>track_name</th>\n",
       "      <th>valence</th>\n",
       "      <th>duration_ms</th>\n",
       "      <th>lyrics</th>\n",
       "      <th>album_name</th>\n",
       "      <th>album_release_year</th>\n",
       "      <th>album_img</th>\n",
       "      <th>pct_sad</th>\n",
       "      <th>word_count</th>\n",
       "      <th>lyrical_density</th>\n",
       "      <th>gloom_index</th>\n",
       "      <th>tokens</th>\n",
       "    </tr>\n",
       "  </thead>\n",
       "  <tbody>\n",
       "    <tr>\n",
       "      <th>0</th>\n",
       "      <td>0</td>\n",
       "      <td>You</td>\n",
       "      <td>0.305</td>\n",
       "      <td>208667</td>\n",
       "      <td>you are the sun and moon and stars are you and...</td>\n",
       "      <td>Pablo Honey</td>\n",
       "      <td>1993</td>\n",
       "      <td>https://i.scdn.co/image/e17011b2aa33289dfa6c08...</td>\n",
       "      <td>0.0000</td>\n",
       "      <td>19</td>\n",
       "      <td>0.091054</td>\n",
       "      <td>50.39</td>\n",
       "      <td>['you', 'are', 'the', 'sun', 'and', 'moon', 'a...</td>\n",
       "    </tr>\n",
       "    <tr>\n",
       "      <th>1</th>\n",
       "      <td>1</td>\n",
       "      <td>Creep</td>\n",
       "      <td>0.096</td>\n",
       "      <td>238640</td>\n",
       "      <td>when you were here before couldn't look you in...</td>\n",
       "      <td>Pablo Honey</td>\n",
       "      <td>1993</td>\n",
       "      <td>https://i.scdn.co/image/e17011b2aa33289dfa6c08...</td>\n",
       "      <td>0.0784</td>\n",
       "      <td>51</td>\n",
       "      <td>0.213711</td>\n",
       "      <td>22.60</td>\n",
       "      <td>['when', 'you', 'were', 'here', 'before', 'cou...</td>\n",
       "    </tr>\n",
       "    <tr>\n",
       "      <th>2</th>\n",
       "      <td>2</td>\n",
       "      <td>How Do You?</td>\n",
       "      <td>0.264</td>\n",
       "      <td>132173</td>\n",
       "      <td>he's bitter and twisted he knows what he wants...</td>\n",
       "      <td>Pablo Honey</td>\n",
       "      <td>1993</td>\n",
       "      <td>https://i.scdn.co/image/e17011b2aa33289dfa6c08...</td>\n",
       "      <td>0.0952</td>\n",
       "      <td>21</td>\n",
       "      <td>0.158883</td>\n",
       "      <td>36.56</td>\n",
       "      <td>['he', \"'s\", 'bitter', 'and', 'twisted', 'he',...</td>\n",
       "    </tr>\n",
       "    <tr>\n",
       "      <th>3</th>\n",
       "      <td>3</td>\n",
       "      <td>Stop Whispering</td>\n",
       "      <td>0.279</td>\n",
       "      <td>325627</td>\n",
       "      <td>and the wise man said i don't want to hear you...</td>\n",
       "      <td>Pablo Honey</td>\n",
       "      <td>1993</td>\n",
       "      <td>https://i.scdn.co/image/e17011b2aa33289dfa6c08...</td>\n",
       "      <td>0.0435</td>\n",
       "      <td>46</td>\n",
       "      <td>0.141266</td>\n",
       "      <td>43.48</td>\n",
       "      <td>['and', 'the', 'wise', 'man', 'said', 'i', 'do...</td>\n",
       "    </tr>\n",
       "    <tr>\n",
       "      <th>4</th>\n",
       "      <td>4</td>\n",
       "      <td>Thinking About You</td>\n",
       "      <td>0.419</td>\n",
       "      <td>161533</td>\n",
       "      <td>been thinking about you your records are here ...</td>\n",
       "      <td>Pablo Honey</td>\n",
       "      <td>1993</td>\n",
       "      <td>https://i.scdn.co/image/e17011b2aa33289dfa6c08...</td>\n",
       "      <td>0.0000</td>\n",
       "      <td>39</td>\n",
       "      <td>0.241437</td>\n",
       "      <td>60.80</td>\n",
       "      <td>['been', 'thinking', 'about', 'you', 'your', '...</td>\n",
       "    </tr>\n",
       "  </tbody>\n",
       "</table>\n",
       "</div>"
      ],
      "text/plain": [
       "   Unnamed: 0          track_name  valence  duration_ms  \\\n",
       "0           0                 You    0.305       208667   \n",
       "1           1               Creep    0.096       238640   \n",
       "2           2         How Do You?    0.264       132173   \n",
       "3           3     Stop Whispering    0.279       325627   \n",
       "4           4  Thinking About You    0.419       161533   \n",
       "\n",
       "                                              lyrics   album_name  \\\n",
       "0  you are the sun and moon and stars are you and...  Pablo Honey   \n",
       "1  when you were here before couldn't look you in...  Pablo Honey   \n",
       "2  he's bitter and twisted he knows what he wants...  Pablo Honey   \n",
       "3  and the wise man said i don't want to hear you...  Pablo Honey   \n",
       "4  been thinking about you your records are here ...  Pablo Honey   \n",
       "\n",
       "   album_release_year                                          album_img  \\\n",
       "0                1993  https://i.scdn.co/image/e17011b2aa33289dfa6c08...   \n",
       "1                1993  https://i.scdn.co/image/e17011b2aa33289dfa6c08...   \n",
       "2                1993  https://i.scdn.co/image/e17011b2aa33289dfa6c08...   \n",
       "3                1993  https://i.scdn.co/image/e17011b2aa33289dfa6c08...   \n",
       "4                1993  https://i.scdn.co/image/e17011b2aa33289dfa6c08...   \n",
       "\n",
       "   pct_sad  word_count  lyrical_density  gloom_index  \\\n",
       "0   0.0000          19         0.091054        50.39   \n",
       "1   0.0784          51         0.213711        22.60   \n",
       "2   0.0952          21         0.158883        36.56   \n",
       "3   0.0435          46         0.141266        43.48   \n",
       "4   0.0000          39         0.241437        60.80   \n",
       "\n",
       "                                              tokens  \n",
       "0  ['you', 'are', 'the', 'sun', 'and', 'moon', 'a...  \n",
       "1  ['when', 'you', 'were', 'here', 'before', 'cou...  \n",
       "2  ['he', \"'s\", 'bitter', 'and', 'twisted', 'he',...  \n",
       "3  ['and', 'the', 'wise', 'man', 'said', 'i', 'do...  \n",
       "4  ['been', 'thinking', 'about', 'you', 'your', '...  "
      ]
     },
     "execution_count": 93,
     "metadata": {},
     "output_type": "execute_result"
    }
   ],
   "source": [
    "radiohead.head()"
   ]
  },
  {
   "cell_type": "code",
   "execution_count": null,
   "metadata": {},
   "outputs": [],
   "source": [
    "for i, tokens in radiohead['tokens']:\n",
    "    "
   ]
  },
  {
   "cell_type": "markdown",
   "metadata": {},
   "source": [
    "## Choosing the best model"
   ]
  },
  {
   "cell_type": "markdown",
   "metadata": {},
   "source": [
    "## Dimension reduction with PCA"
   ]
  },
  {
   "cell_type": "code",
   "execution_count": 42,
   "metadata": {},
   "outputs": [],
   "source": [
    "embeddings_vector = np.array(embeddings.iloc[:,1:])"
   ]
  },
  {
   "cell_type": "code",
   "execution_count": null,
   "metadata": {},
   "outputs": [],
   "source": []
  }
 ],
 "metadata": {
  "kernelspec": {
   "display_name": "radiohead-semantic-statistics-l2wzA493-py3.11",
   "language": "python",
   "name": "python3"
  },
  "language_info": {
   "codemirror_mode": {
    "name": "ipython",
    "version": 3
   },
   "file_extension": ".py",
   "mimetype": "text/x-python",
   "name": "python",
   "nbconvert_exporter": "python",
   "pygments_lexer": "ipython3",
   "version": "3.11.10"
  }
 },
 "nbformat": 4,
 "nbformat_minor": 2
}
